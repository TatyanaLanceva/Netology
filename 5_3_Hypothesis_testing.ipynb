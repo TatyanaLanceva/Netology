{
  "cells": [
    {
      "cell_type": "markdown",
      "metadata": {
        "id": "view-in-github",
        "colab_type": "text"
      },
      "source": [
        "<a href=\"https://colab.research.google.com/github/TatyanaLanceva/Netology/blob/main/5_3_Hypothesis_testing.ipynb\" target=\"_parent\"><img src=\"https://colab.research.google.com/assets/colab-badge.svg\" alt=\"Open In Colab\"/></a>"
      ]
    },
    {
      "cell_type": "markdown",
      "metadata": {
        "id": "YwwsvrnrGZv7"
      },
      "source": [
        " ## Домашнее задание Проверка гипотез"
      ]
    },
    {
      "cell_type": "code",
      "source": [
        "# Загружаем библиотеки:\n",
        "from scipy.stats import shapiro\n",
        "from scipy.stats import mannwhitneyu\n",
        "from scipy.stats import ttest_ind\n",
        "from scipy.stats import chi2_contingency\n",
        "from scipy.stats import kruskal\n",
        "from scipy.stats import levene\n",
        "from scipy.stats import f_oneway\n",
        "from scipy.stats import rankdata\n",
        "import statsmodels.api as sm\n",
        "from statsmodels.formula.api import ols\n",
        "from statsmodels.stats.multicomp import pairwise_tukeyhsd\n",
        "import statsmodels.stats.multicomp as mc\n",
        "import numpy as np\n",
        "import scipy.stats as stats\n",
        "import seaborn as sns\n",
        "import matplotlib.pyplot as plt\n",
        "import pandas as pd\n",
        "import numpy as np\n"
      ],
      "metadata": {
        "id": "df-KCePTPg0N"
      },
      "execution_count": null,
      "outputs": []
    },
    {
      "cell_type": "markdown",
      "metadata": {
        "id": "FOsgMF44GZv8"
      },
      "source": [
        "<div class=\"alert alert-info\">\n",
        "<b>Задание № 1</b>\n",
        "    \n",
        "Разработайте функцию для проверки нормальности распределения выборки данных, используя шаблон ниже. Вы можете использовать один из известных Вам статистических тестов.\n",
        "</div>"
      ]
    },
    {
      "cell_type": "code",
      "execution_count": null,
      "metadata": {
        "id": "M2tSYeV9GZv9"
      },
      "outputs": [],
      "source": [
        "# Для проверки распределения используем критерий Шапиро-Уилка, предположим, что наблюдений до 5000.\n",
        "\n",
        "def check_normality(data):\n",
        "    stat, p = shapiro(data)\n",
        "    alpha = 0.05\n",
        "    if p < alpha:\n",
        "        print (\"Отклоняем нулевую гипотезу >> Данные распределены не нормально\")\n",
        "    else:\n",
        "        print(\"Не отклоняем нулевую гипотезу >> Данные распределены нормально\")"
      ]
    },
    {
      "cell_type": "markdown",
      "metadata": {
        "id": "AseiCYEmGZv-"
      },
      "source": [
        "<div class=\"alert alert-info\">\n",
        "<b>Задание № 2</b>\n",
        "\n",
        "Даны две выборки роста мужчин и женщин.\n",
        "- Докажите, используя `t-Тест Стьюдента`, что различие между выборками незначительно, если уровень значимости равен $\\alpha$ `= 0.001`.\n",
        "- Покажите различия визуально\n",
        "- Является ли результат полезным с практической точки зрения? Почему да или нет?\n",
        "</div>"
      ]
    },
    {
      "cell_type": "code",
      "execution_count": null,
      "metadata": {
        "id": "7e39zGu1GZv-",
        "colab": {
          "base_uri": "https://localhost:8080/"
        },
        "outputId": "312a2d56-e505-48a1-8811-694789a39b8a"
      },
      "outputs": [
        {
          "output_type": "stream",
          "name": "stdout",
          "text": [
            "Различие между выборками незначительно (p = 0.002).\n"
          ]
        }
      ],
      "source": [
        "np.random.seed(42) # фиксация случайности\n",
        "# Сократим выборку для упрощения расчетов и увеличения чувствительности теста.\n",
        "men  = stats.norm.rvs(loc=171, scale=10, size=150000)  # Выборка мужчин со средним ростом 171\n",
        "women = stats.norm.rvs(loc=170, scale=10, size=150000)  # Выборка женщин со средним ростом 170\n",
        "\n",
        "# Берем подвыборки размером 1000\n",
        "sample_men = men[:1000]\n",
        "sample_women = women[:1000]\n",
        "\n",
        "# Проводим t-теста Стьюдента:\n",
        "t_statistic, p_value = stats.ttest_ind(sample_men, sample_women)\n",
        "\n",
        "# Анализируем результат, проверим, является ли p-значение меньше установленного уровня значимости (α=0,001).\n",
        "alpha = 0.001\n",
        "if p_value < alpha:\n",
        "    print(f'Различие между выборками значительно (p = {p_value:.3f}).')\n",
        "else:\n",
        "    print(f'Различие между выборками незначительно (p = {p_value:.3f}).')"
      ]
    },
    {
      "cell_type": "code",
      "source": [
        "# Посчитаем дисперсии\n",
        "dispersion_men = np.var(sample_men, ddof=1)  # Дисперсия для мужчин\n",
        "dispersion_women = np.var(sample_women, ddof=1)  # Дисперсия для женщин\n",
        "\n",
        "print(f\"Дисперсия для мужчин: {dispersion_men:.3f}\")\n",
        "print(f\"Дисперсия для женщин: {dispersion_women:.3f}\")"
      ],
      "metadata": {
        "colab": {
          "base_uri": "https://localhost:8080/"
        },
        "id": "-R1xlxwrXkMS",
        "outputId": "691eb138-f655-4f44-92c1-75f7f818c8ff"
      },
      "execution_count": null,
      "outputs": [
        {
          "output_type": "stream",
          "name": "stdout",
          "text": [
            "Дисперсия для мужчин: 95.886\n",
            "Дисперсия для женщин: 96.039\n"
          ]
        }
      ]
    },
    {
      "cell_type": "markdown",
      "source": [
        "Можно сделать выводы, что дисперсии близки, разница между ними крайне мала. Соответственно использование t-теста Стьюдента допустимо."
      ],
      "metadata": {
        "id": "-6Upql7lbgvU"
      }
    },
    {
      "cell_type": "code",
      "execution_count": null,
      "metadata": {
        "colab": {
          "base_uri": "https://localhost:8080/",
          "height": 601
        },
        "id": "2lKjolIxNMK0",
        "outputId": "a216a20a-a5a5-4f08-f613-e85b56e9cae0"
      },
      "outputs": [
        {
          "output_type": "display_data",
          "data": {
            "text/plain": [
              "<Figure size 1000x600 with 1 Axes>"
            ],
            "image/png": "[encoded data removed]"
          },
          "metadata": {}
        }
      ],
      "source": [
        "data = pd.DataFrame({\n",
        "    'Группа': ['Мужчины'] * len(sample_men) + ['Женщины'] * len(sample_women),\n",
        "    'Рост': np.concatenate([sample_men, sample_women])\n",
        "})\n",
        "\n",
        "# Построим гистограммы с наложением для изучения распределения по двум группам\n",
        "sns.set(style=\"whitegrid\", font_scale=1.25)\n",
        "\n",
        "fig, ax = plt.subplots(figsize=(10, 6))\n",
        "\n",
        "sns.histplot(data.query(\"Группа == 'Мужчины'\"), x='Рост', ax=ax, color='skyblue', alpha=0.5, label='Мужчины', bins=20)\n",
        "sns.histplot(data.query(\"Группа == 'Женщины'\"), x='Рост', ax=ax, color='salmon', alpha=0.5, label='Женщины', bins=20)\n",
        "\n",
        "sns.kdeplot(data.query(\"Группа == 'Мужчины'\"), x='Рост', ax=ax, color='blue', linewidth=2.5, label=None)\n",
        "sns.kdeplot(data.query(\"Группа == 'Женщины'\"), x='Рост', ax=ax, color='red', linewidth=2.5, label=None)\n",
        "\n",
        "ax.legend(title='', loc='upper right')\n",
        "ax.set_xlabel('Рост (см)')\n",
        "ax.set_ylabel('Частота')\n",
        "ax.set_title(\"Сравнение роста мужчин и женщин\", fontsize=16)\n",
        "\n",
        "plt.show()"
      ]
    },
    {
      "cell_type": "markdown",
      "source": [
        "Сделаем выводы по исследованию. t-Тест Стьюдента при уровне значимости α = 0,001 показывает незначительные различия между выборками. При изучении гистограмм распределения мы видим, что оба графика имеют нормальное распределение. Средний рост мужчин немного выше среднего роста женщин. Размах значений роста для обоих полов примерно одинаков, это видно по близкой ширине гистограмм.  "
      ],
      "metadata": {
        "id": "IFEZORdbR7zz"
      }
    },
    {
      "cell_type": "markdown",
      "source": [
        "Используем для исследования t-тест Уэлча для полных выборок. Его преимущества:\n",
        "*   Тест Уэлча помогает избежать ошибок, связанных с возможным неравенством дисперсий\n",
        "*   T-тест Уэлча более устойчив к таким ситуациям и дает более точные результаты\n",
        "*   Точность на небольших выборках\n",
        "\n"
      ],
      "metadata": {
        "id": "Z32O1lIBUKWW"
      }
    },
    {
      "cell_type": "code",
      "source": [
        "# Выполним t-тест Уэлча\n",
        "mean_men, std_men = np.mean(sample_men), np.std(sample_men, ddof=1)\n",
        "mean_women, std_women = np.mean(sample_women), np.std(sample_women, ddof=1)\n",
        "n_men, n_women = len(sample_men), len(sample_women)\n",
        "t_statistic, p_value = stats.ttest_ind_from_stats(\n",
        "    mean1=mean_men,\n",
        "    std1=std_men,\n",
        "    nobs1=n_men,\n",
        "    mean2=mean_women,\n",
        "    std2=std_women,\n",
        "    nobs2=n_women,\n",
        "    equal_var=False  # учитываем возможное неравенство дисперсий\n",
        ")\n",
        "# альфа согласно условию задания\n",
        "alpha = 0.001\n",
        "# интерпретация:\n",
        "if p_value < alpha:\n",
        "    print(f'Различие между выборками значительно (p = {p_value:.5f}).')\n",
        "else:\n",
        "    print(f'Различие между выборками незначительно (p = {p_value:.5f}).')"
      ],
      "metadata": {
        "colab": {
          "base_uri": "https://localhost:8080/"
        },
        "id": "LLZbC7W7jgq0",
        "outputId": "7268abc7-9b95-4d3c-b5ae-f3c69baf752e"
      },
      "execution_count": null,
      "outputs": [
        {
          "output_type": "stream",
          "name": "stdout",
          "text": [
            "Различие между выборками незначительно (p = 0.00165).\n"
          ]
        }
      ]
    },
    {
      "cell_type": "markdown",
      "source": [
        "По результатам t-теста Уэлча, если p-значение меньше 0,001, то различие между выборками считается значимым. В вашем случае p-значение равно 0,00165, что больше установленного уровня значимости (0,001), следовательно, различие между выборками незначительно."
      ],
      "metadata": {
        "id": "EvDitKbDj5qS"
      }
    },
    {
      "cell_type": "markdown",
      "metadata": {
        "id": "pJYWS2hsGZwA"
      },
      "source": [
        "<div class=\"alert alert-info\">\n",
        "<b>Задание № 3</b>\n",
        "\n",
        "Специалист по кадрам, работающий в технологической компании, интересуется сверхурочным временем разных команд. Чтобы выяснить, есть ли разница между сверхурочной работой команды разработчиков программного обеспечения и группы тестирования, она случайным образом выбрала 17 сотрудников в каждой из двух команд и записала их среднее сверхурочное время за неделю в пересчете на час. Данные ниже.\n",
        "\n",
        "В соответствии с этой информацией проведите проверку гипотезы, чтобы проверить, есть ли разница между переутомлением двух команд, используя уровень значимости 0,05. Прежде чем приступать к проверке гипотез, проверьте предположение нормальности.\n",
        "</div>"
      ]
    },
    {
      "cell_type": "code",
      "execution_count": null,
      "metadata": {
        "id": "4z72q2FzGZwA"
      },
      "outputs": [],
      "source": [
        "test_team = [6.2, 7.1, 1.5, 2,3 , 2, 1.5, 6.1, 2.4, 2.3, 12.4, 1.8, 5.3, 3.1, 9.4, 2.3, 4.1]\n",
        "developer_team = [2.3, 2.1, 1.4, 2.0, 8.7, 2.2, 3.1, 4.2, 3.6, 2.5, 3.1, 6.2, 12.1, 3.9, 2.2, 1.2 ,3.4]"
      ]
    },
    {
      "cell_type": "code",
      "execution_count": null,
      "metadata": {
        "colab": {
          "base_uri": "https://localhost:8080/"
        },
        "id": "aqgz4btlNMK3",
        "outputId": "ec2bd0c6-981f-4cdd-914f-e3f5e6bda820"
      },
      "outputs": [
        {
          "output_type": "stream",
          "name": "stdout",
          "text": [
            "Отклоняем нулевую гипотезу >> Данные распределены не нормально\n",
            "Отклоняем нулевую гипотезу >> Данные распределены не нормально\n"
          ]
        }
      ],
      "source": [
        "# Проверим нормальность с помощью теста Шапиро-Уилка и сделаем выводы\n",
        "# Для проверки можно использовать функцию, написанную к первому заданию, используем ее для наших выборок:\n",
        "\n",
        "check_normality(test_team)\n",
        "check_normality(developer_team)"
      ]
    },
    {
      "cell_type": "markdown",
      "source": [
        "Поскольку оба набора данных не соответствуют нормальному распределению, использование параметрических методов анализа, таких как t-тест Стьюдента, будет некорректным. Вместо этого следует применять непараметрические методы, такие как U-критерий Манна-Уитни для сравнения медиан двух независимых выборок.\n",
        "\n",
        "Сформулируем нулевую гипотезу:\n",
        "Н0: Медианы сверхурочных часов команд разработчиков и тестировщиков одинаковы\n",
        "Соответственно альтернативная гипотеза будет:\n",
        "Н1: Медианы сверхурочных часов команд разработчиков и тестировщиков отличаются"
      ],
      "metadata": {
        "id": "l031corbV9rc"
      }
    },
    {
      "cell_type": "code",
      "source": [
        "U, p_val = mannwhitneyu(test_team, developer_team)\n",
        "print(\"U-критерий Манна-Уитни:\")\n",
        "print(f\"У-статистика: {U:.3f}\")\n",
        "print(f\"П-значение: {p_val:.3f}\")"
      ],
      "metadata": {
        "colab": {
          "base_uri": "https://localhost:8080/"
        },
        "id": "hgvqUfs1WRYZ",
        "outputId": "af079334-447f-4449-a7e1-8908f8cbb956"
      },
      "execution_count": null,
      "outputs": [
        {
          "output_type": "stream",
          "name": "stdout",
          "text": [
            "U-критерий Манна-Уитни:\n",
            "У-статистика: 151.500\n",
            "П-значение: 0.823\n"
          ]
        }
      ]
    },
    {
      "cell_type": "markdown",
      "source": [
        "Выводы:\n",
        "Так как p-значение (0,823) значительно выше уровня значимости alpha = 0,05, мы не можем отвергнуть нулевую гипотезу. Это говорит о том, что нет статистически значимых доказательств, подтверждающих существование разницы между медианами сверхурочных часов команд разработчиков и тестировщиков.\n",
        "\n",
        "Таким образом, между этими двумя группами нет существенной разницы в уровне сверхурочной работы."
      ],
      "metadata": {
        "id": "keW8zacZXCRM"
      }
    },
    {
      "cell_type": "markdown",
      "metadata": {
        "id": "tUZelZD5GZwB"
      },
      "source": [
        "<div class=\"alert alert-info\">\n",
        "<b>Задание № 4</b>\n",
        "\n",
        "Педиатр хочет увидеть влияние потребления смеси на среднемесячную прибавку в весе у новорожденных. По этой причине она собрала данные из трех разных групп. Первая группа – дети исключительно грудного вскармливания, вторая группа – дети, которых кормят только смесью, и последняя группа – это дети, находящиеся на искусственном вскармливании и на грудном вскармливании. Эти данные приведены ниже.\n",
        "\n",
        "В соответствии с этой информацией проведите проверку гипотезы, чтобы проверить, есть ли разница между среднемесячным приростом этих трех групп, используя уровень значимости 0,05. Если есть значительная разница, выполните дальнейший анализ, чтобы найти причину разницы.\n",
        "</div>"
      ]
    },
    {
      "cell_type": "code",
      "execution_count": null,
      "metadata": {
        "id": "WYRMd6LnGZwB"
      },
      "outputs": [],
      "source": [
        "only_breast = [794.1, 716.9, 993. , 724.7, 760.9, 908.2, 659.3 , 690.8, 768.7, 717.3 , 630.7, 729.5, 714.1, 810.3, 583.5, 679.9, 865.1];\n",
        "only_formula = [898.8, 881.2, 940.2, 966.2, 957.5, 1061.7, 1046.2, 980.4, 895.6, 919.7, 1074.1, 952.5, 796.3, 859.6, 871.1 , 1047.5, 919.1 , 1160.5, 996.9];\n",
        "both = [976.4, 656.4, 861.2, 706.8, 718.5, 717.1, 759.8, 894.6, 867.6, 805.6, 765.4, 800.3, 789.9, 875.3, 740. , 799.4, 790.3, 795.2 , 823.6, 818.7, 926.8, 791.7, 948.3];"
      ]
    },
    {
      "cell_type": "markdown",
      "source": [
        "Сформулируем нулевую гипотезу:\n",
        "\n",
        "Н0: Между всеми тремя группами (грудное,искусственное и смешанное вскармливание) нет значимых различий в средней месячной прибавке в весе."
      ],
      "metadata": {
        "id": "p8B7YzH7ZhbC"
      }
    },
    {
      "cell_type": "code",
      "execution_count": null,
      "metadata": {
        "colab": {
          "base_uri": "https://localhost:8080/"
        },
        "id": "9cK8Ow1ENMK4",
        "outputId": "77404bfb-5d33-43c8-9296-cb0d84b356d3"
      },
      "outputs": [
        {
          "output_type": "stream",
          "name": "stdout",
          "text": [
            "Грудное вскармливание:\n",
            "Не отклоняем нулевую гипотезу >> Данные распределены нормально\n",
            "\n",
            "Искусственное вскармливание:\n",
            "Не отклоняем нулевую гипотезу >> Данные распределены нормально\n",
            "\n",
            "Смешанное вскармливание:\n",
            "Не отклоняем нулевую гипотезу >> Данные распределены нормально\n"
          ]
        }
      ],
      "source": [
        "# Для проверки нормальности распределения мы снова используем нашу функцию из первого задания\n",
        "print(\"Грудное вскармливание:\")\n",
        "check_normality(only_breast)\n",
        "\n",
        "print(\"\\nИскусственное вскармливание:\")\n",
        "check_normality(only_formula)\n",
        "\n",
        "print(\"\\nСмешанное вскармливание:\")\n",
        "check_normality(both)"
      ]
    },
    {
      "cell_type": "code",
      "source": [
        "# проверим гомоскедастичность с использованием теста Левена\n",
        "# Тестируем все три группы одновременно\n",
        "levene_result = levene(only_breast, only_formula, both)\n",
        "print(levene_result)"
      ],
      "metadata": {
        "colab": {
          "base_uri": "https://localhost:8080/"
        },
        "id": "YyqKpAFKmclr",
        "outputId": "7212a2d1-12c0-40ea-e592-db6ff0bd9b61"
      },
      "execution_count": null,
      "outputs": [
        {
          "output_type": "stream",
          "name": "stdout",
          "text": [
            "LeveneResult(statistic=0.266118612498075, pvalue=0.7673118764998224)\n"
          ]
        }
      ]
    },
    {
      "cell_type": "markdown",
      "source": [
        "p-значение значительно выше 0.05, предположение о равенстве дисперсий выполняется"
      ],
      "metadata": {
        "id": "PRUPERbsmmVd"
      }
    },
    {
      "cell_type": "code",
      "source": [
        "f_statistic, p_value = f_oneway(only_breast, only_formula, both)\n",
        "print(f\"Статистика F: {f_statistic:.4f}, p-значение: {p_value:.4f}\")"
      ],
      "metadata": {
        "colab": {
          "base_uri": "https://localhost:8080/"
        },
        "id": "TyXJzLjsmqeP",
        "outputId": "9bc43f72-3523-4f63-de2f-c6ce76e3d0d5"
      },
      "execution_count": null,
      "outputs": [
        {
          "output_type": "stream",
          "name": "stdout",
          "text": [
            "Статистика F: 26.7013, p-значение: 0.0000\n"
          ]
        }
      ]
    },
    {
      "cell_type": "markdown",
      "source": [
        "Поскольку p-значение значительно меньше уровня значимости 0.05, мы отвергаем нулевую гипотезу о том, что все три группы имеют одинаковые средние значения прироста веса. Это означает, что хотя бы одна пара групп имеет существенно разные средние значения. Требуется дальнейший анализ\n"
      ],
      "metadata": {
        "id": "r2XCbcREniNA"
      }
    },
    {
      "cell_type": "code",
      "source": [
        "f_statistic, p_value = f_oneway(only_breast, only_formula, both)\n",
        "print(f\"Статистика F: {f_statistic:.4f}, p-значение: {p_value:.4f}\")"
      ],
      "metadata": {
        "colab": {
          "base_uri": "https://localhost:8080/"
        },
        "id": "WtysCiZHoUhu",
        "outputId": "f3595e0d-9386-419e-f4ec-6735bba69b97"
      },
      "execution_count": null,
      "outputs": [
        {
          "output_type": "stream",
          "name": "stdout",
          "text": [
            "Статистика F: 26.7013, p-значение: 0.0000\n"
          ]
        }
      ]
    },
    {
      "cell_type": "markdown",
      "source": [
        "Так как p-значение намного меньше уровня значимости 0,05, мы отвергаем нулевую гипотезу о том, что все три группы имеют одинаковые средние значения прироста веса. Это значит, что хотя бы одна пара групп имеет существенно разные средние значения. Для точного выявления конкретных пар групп, которые отличаются друг от друга, следует провести дополнительные тесты, такие как тест Тьюки. Это поможет понять, какие именно группы имеют наибольшие различия."
      ],
      "metadata": {
        "id": "KmJlAbrIpOUS"
      }
    },
    {
      "cell_type": "code",
      "source": [
        "data = {\n",
        "    'weight_gain': only_breast + only_formula + both,\n",
        "    'group': ['breast'] * len(only_breast) +\n",
        "             ['formula'] * len(only_formula) +\n",
        "             ['mixed'] * len(both)\n",
        "}\n",
        "df = pd.DataFrame(data)\n",
        "# Выполним тест Тьюки\n",
        "tukey_results = pairwise_tukeyhsd(\n",
        "    endog=df['weight_gain'],\n",
        "    groups=df['group'],\n",
        "    alpha=0.05\n",
        ")\n",
        "print(tukey_results)"
      ],
      "metadata": {
        "colab": {
          "base_uri": "https://localhost:8080/"
        },
        "id": "s-V-XRvKpuS9",
        "outputId": "5fce5eca-993b-4151-f567-203893af2abf"
      },
      "execution_count": null,
      "outputs": [
        {
          "output_type": "stream",
          "name": "stdout",
          "text": [
            "   Multiple Comparison of Means - Tukey HSD, FWER=0.05    \n",
            "==========================================================\n",
            " group1  group2  meandiff p-adj    lower    upper   reject\n",
            "----------------------------------------------------------\n",
            " breast formula  209.3923    0.0  137.3508 281.4337   True\n",
            " breast   mixed   60.1286 0.0995   -8.8912 129.1485  False\n",
            "formula   mixed -149.2636    0.0 -216.1621 -82.3651   True\n",
            "----------------------------------------------------------\n"
          ]
        }
      ]
    },
    {
      "cell_type": "markdown",
      "source": [
        "Таким образом, можно сделать следующие выводы:группы \"breast\" и \"formula\" имеют значительные различия в среднем значении. Группы \"breast\" и \"mixed\" не показывают значительных различий в среднем значении. Группы \"formula\" и \"mixed\" имеют значительные различия в среднем значении.\n"
      ],
      "metadata": {
        "id": "GIz_n8MqqVcX"
      }
    },
    {
      "cell_type": "markdown",
      "metadata": {
        "id": "O0LhesbhGZwH"
      },
      "source": [
        "<div class=\"alert alert-info\">\n",
        "<b>Задание № 5 (Опционально) </b>\n",
        "\n",
        "Аналитик финансовой инвестиционной компании интересуется взаимосвязью между полом и склонностью к риску. Из базы данных была взята случайная выборка из 660 клиентов. Клиенты в выборке были классифицированы в соответствии с их полом и склонностью к риску. Результат приведен в следующей таблице.\n",
        "    \n",
        "Проверьте гипотезу о том, что склонность к риску клиентов этой компании не зависит от их пола. Используйте α = 0.01.    \n",
        "</div>"
      ]
    },
    {
      "cell_type": "code",
      "execution_count": null,
      "metadata": {
        "id": "UP998NjNGZwI",
        "outputId": "9aa60393-0ea4-4a9f-ccae-fc8ec8a7fb5b",
        "colab": {
          "base_uri": "https://localhost:8080/"
        }
      },
      "outputs": [
        {
          "output_type": "stream",
          "name": "stdout",
          "text": [
            "Уровень риска\n",
            "    0   1   2   3    4\n",
            "Ж  53  23  30  36   88\n",
            "М  71  48  51  57  203\n"
          ]
        }
      ],
      "source": [
        "contingency_table = pd.DataFrame(\n",
        "    [\n",
        "        [53, 23, 30, 36, 88],\n",
        "        [71, 48, 51, 57, 203]\n",
        "    ],\n",
        "    #columns = ['Machine Learning', 'Data Science', 'Analytics'],\n",
        "    index = ['Ж', 'М'])\n",
        "\n",
        "print('Уровень риска')\n",
        "print(contingency_table)"
      ]
    },
    {
      "cell_type": "markdown",
      "source": [
        "Сформулируем нулевую гипотезу:\n",
        "\n",
        "Н0: Склонность к риску не зависит от пола."
      ],
      "metadata": {
        "id": "GRGVK6MiciKX"
      }
    },
    {
      "cell_type": "code",
      "execution_count": null,
      "metadata": {
        "colab": {
          "base_uri": "https://localhost:8080/"
        },
        "id": "utoWmHOqNMK4",
        "outputId": "1c35768d-ada4-40b6-86eb-fdd21373c66d"
      },
      "outputs": [
        {
          "output_type": "stream",
          "name": "stdout",
          "text": [
            "Результаты теста:\n",
            "Статистика хи-квадрат: 7.09\n",
            "P-значение: 0.130992\n",
            "Степени свободы: 4\n",
            "\n",
            "Не отвергаем нулевую гипотезу.\n"
          ]
        }
      ],
      "source": [
        "# Проведение теста хи-квадрат\n",
        "chi2, p_value, dof, expected = chi2_contingency(contingency_table)\n",
        "\n",
        "# Результаты\n",
        "print(\"Результаты теста:\")\n",
        "print(f\"Статистика хи-квадрат: {chi2:.2f}\")\n",
        "print(f\"P-значение: {p_value:.6f}\")\n",
        "print(f\"Степени свободы: {dof}\")\n",
        "\n",
        "# Интерпретация результатов\n",
        "if p_value < 0.01:\n",
        "    print(\"\\nОтвергаем нулевую гипотезу.\")\n",
        "else:\n",
        "    print(\"\\nНе отвергаем нулевую гипотезу.\")"
      ]
    },
    {
      "cell_type": "markdown",
      "source": [
        "Соответственно мы принимаем нулевую гипотезу и то, что сколнность к риску не зависит от пола."
      ],
      "metadata": {
        "id": "7cXPlxyieShH"
      }
    },
    {
      "cell_type": "markdown",
      "metadata": {
        "id": "nImsQh5LGZwM"
      },
      "source": [
        "<div class=\"alert alert-info\">\n",
        "<b>Задание № 6 (Опционально)</b>\n",
        "\n",
        "Компания электронной коммерции регулярно размещает рекламу своих кампаний на YouTube, Instagram и Facebook. Однако новому менеджеру было любопытно, есть ли разница между количеством клиентов, привлеченных этими платформами. Поэтому она начала использовать Adjust — приложение, позволяющее узнать, откуда приходят ваши пользователи. Ежедневные цифры, сообщаемые Adjust для каждой платформы, приведены ниже.\n",
        "    \n",
        "В соответствии с этой информацией проведите проверку гипотез, чтобы проверить, есть ли разница между средним числом привлеченных клиентов на этих трех платформах с использованием уровня значимости 0,05. Если есть значительная разница, выполните дальнейший анализ, чтобы найти причину разницы. Прежде чем приступать к проверке гипотез, проверьте соответствующие предположения.\n",
        "</div>"
      ]
    },
    {
      "cell_type": "code",
      "execution_count": null,
      "metadata": {
        "id": "Hrhaf-J0GZwN"
      },
      "outputs": [],
      "source": [
        "youtube=[1913, 1879, 1939, 2146, 2040, 2127, 2122, 2156, 2036, 1974, 1956, 2146, 2151, 1943, 2125]\n",
        "instagram = [2305., 2355., 2203., 2231., 2185., 2420., 2386., 2410., 2340., 2349., 2241., 2396., 2244., 2267., 2281.]\n",
        "facebook = [2133., 2522., 2124., 2551., 2293., 2367., 2460., 2311., 2178., 2113., 2048., 2443., 2265., 2095., 2528.]"
      ]
    },
    {
      "cell_type": "code",
      "execution_count": null,
      "metadata": {
        "colab": {
          "base_uri": "https://localhost:8080/"
        },
        "id": "h9W51UmlNMK5",
        "outputId": "e01a1222-b366-4935-eea3-1c5d5a9a7f57"
      },
      "outputs": [
        {
          "output_type": "stream",
          "name": "stdout",
          "text": [
            "Отклоняем нулевую гипотезу >> Данные распределены не нормально\n",
            "Не отклоняем нулевую гипотезу >> Данные распределены нормально\n",
            "Не отклоняем нулевую гипотезу >> Данные распределены нормально\n"
          ]
        }
      ],
      "source": [
        "# Для проверки нормальности распределения используем нашу функцию из 1 задания, проверяющую данные по критерию Шапиро-Уилка:\n",
        "\n",
        "check_normality(youtube)\n",
        "check_normality(instagram)\n",
        "check_normality(facebook)"
      ]
    },
    {
      "cell_type": "markdown",
      "source": [
        "Исходя из результатов проверки нормальности, видно, что данные по платформе YouTube не соответствуют нормальному распределению, тогда как данные по Instagram и Facebook распределены нормально. Поскольку одно из распределений не соответствует нормальному закону, применим тест Краскела-Уоллиса, который подходит для сравнения медиан нескольких независимых выборок без требования нормальности.\n",
        "\n",
        "Сформулируем нулевую гипотезу:\n",
        "\n",
        "Н0: Медианы всех трёх выборок (youtube, instagram, facebook) одинаковы."
      ],
      "metadata": {
        "id": "_ra19OFofSan"
      }
    },
    {
      "cell_type": "code",
      "source": [
        "kruskal_statistic, pvalue = kruskal(youtube, instagram, facebook)\n",
        "\n",
        "if pvalue < 0.05:\n",
        "    print(\"Есть значительные различия между медианами (p-value = {:.6f})\".format(pvalue))\n",
        "else:\n",
        "    print(\"Нет значительных различий между медианами (p-value = {:.6f})\".format(pvalue))"
      ],
      "metadata": {
        "colab": {
          "base_uri": "https://localhost:8080/"
        },
        "id": "ua9LiT-EfZ8P",
        "outputId": "b3d24e5d-8e51-416b-ac02-b659a4f6aba6"
      },
      "execution_count": null,
      "outputs": [
        {
          "output_type": "stream",
          "name": "stdout",
          "text": [
            "Есть значительные различия между медианами (p-value = 0.000015)\n"
          ]
        }
      ]
    },
    {
      "cell_type": "markdown",
      "source": [
        "Поскольку тест Краскела-Уоллиса выявил значимые различия между медианами трёх выборок, следующий шаг — проведение пост-хок анализа для определения, какие конкретно пары выборок отличаются друг от друга."
      ],
      "metadata": {
        "id": "c2MYBx_wgUdM"
      }
    },
    {
      "cell_type": "code",
      "source": [
        "# Объединенные данные\n",
        "data = youtube + instagram + facebook\n",
        "\n",
        "# Метки для каждой группы\n",
        "groups = [\"YouTube\"] * len(youtube) + [\"Instagram\"] * len(instagram) + [\"Facebook\"] * len(facebook)\n",
        "\n",
        "# Выполнение теста Данна\n",
        "comparisons = mc.pairwise_tukeyhsd(data, groups, alpha=0.05)\n",
        "\n",
        "# Вывод результатов\n",
        "print(comparisons.summary())"
      ],
      "metadata": {
        "colab": {
          "base_uri": "https://localhost:8080/"
        },
        "id": "WNCTiqXxrnbj",
        "outputId": "4747aeb2-830a-4ec6-e908-a97f6eb7fb55"
      },
      "execution_count": null,
      "outputs": [
        {
          "output_type": "stream",
          "name": "stdout",
          "text": [
            "      Multiple Comparison of Means - Tukey HSD, FWER=0.05      \n",
            "===============================================================\n",
            "  group1    group2   meandiff p-adj    lower     upper   reject\n",
            "---------------------------------------------------------------\n",
            " Facebook Instagram   12.1333 0.9619  -98.8691  123.1358  False\n",
            " Facebook   YouTube -251.8667    0.0 -362.8691 -140.8642   True\n",
            "Instagram   YouTube    -264.0    0.0 -375.0024 -152.9976   True\n",
            "---------------------------------------------------------------\n"
          ]
        }
      ]
    },
    {
      "cell_type": "markdown",
      "source": [
        "Выводы:     \n",
        "\n",
        "Нет статистически значимых различий между средними значениями групп Facebook и Instagram. Есть статистически значимые различия между средними значениями групп Facebook и YouTube, причем среднее значение группы YouTube значительно ниже, чем у группы Facebook. Также имеются статистически значимые различия между средними значениями групп Instagram и YouTube, причем среднее значение группы YouTube значительно ниже, чем у группы Instagram."
      ],
      "metadata": {
        "id": "Dc3oD5qetH4v"
      }
    },
    {
      "cell_type": "markdown",
      "metadata": {
        "id": "If3qgUORDFBb"
      },
      "source": [
        "# **Примечание:**\n",
        "\n",
        "Домашнее задание сдается ссылкой [Google Colab](https://colab.research.google.com/). Мы не сможем проверить его или помочь, если вы пришлете:\n",
        "\n",
        "*   файлы;\n",
        "*   архивы;\n",
        "*   скриншоты кода.\n",
        "\n",
        "Все обсуждения и консультации по выполнению домашнего задания ведутся только на соответствующем канале в Discord.\n",
        "\n",
        "**Как правильно задавать вопросы аспирантам, преподавателям и коллегам:**\n",
        "\n",
        "Прежде чем задать вопрос, попробуйте найти ответ в интернете. Навык самостоятельного поиска информации — один из важнейших. Каждый практикующий специалист любого уровня делает это ежедневно.\n",
        "\n",
        "Сформулируйте вопрос по алгоритму:\n",
        "\n",
        "1.   Что я делаю?\n",
        "2.   Какого результата я ожидаю?\n",
        "3.   Как фактический результат отличается от ожидаемого?\n",
        "4.   Что я уже попробовал сделать, чтобы исправить проблему?\n",
        "\n",
        "По возможности прикрепите к вопросу скриншоты либо ссылки на код. Не выкладывайте все решение, оставляйте только проблемный и воспроизводимый участок кода."
      ]
    }
  ],
  "metadata": {
    "colab": {
      "provenance": [],
      "include_colab_link": true
    },
    "kernelspec": {
      "display_name": "Python 3 (ipykernel)",
      "language": "python",
      "name": "python3"
    },
    "language_info": {
      "codemirror_mode": {
        "name": "ipython",
        "version": 3
      },
      "file_extension": ".py",
      "mimetype": "text/x-python",
      "name": "python",
      "nbconvert_exporter": "python",
      "pygments_lexer": "ipython3",
      "version": "3.10.9"
    },
    "toc": {
      "base_numbering": 1,
      "nav_menu": {},
      "number_sections": true,
      "sideBar": true,
      "skip_h1_title": false,
      "title_cell": "Table of Contents",
      "title_sidebar": "Contents",
      "toc_cell": false,
      "toc_position": {},
      "toc_section_display": true,
      "toc_window_display": false
    }
  },
  "nbformat": 4,
  "nbformat_minor": 0
}