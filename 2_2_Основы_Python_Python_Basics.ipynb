{
  "nbformat": 4,
  "nbformat_minor": 0,
  "metadata": {
    "colab": {
      "provenance": [],
      "authorship_tag": "ABX9TyMz3GpIo/BKJMQySUAgzVJE",
      "include_colab_link": true
    },
    "kernelspec": {
      "name": "python3",
      "display_name": "Python 3"
    },
    "language_info": {
      "name": "python"
    }
  },
  "cells": [
    {
      "cell_type": "markdown",
      "metadata": {
        "id": "view-in-github",
        "colab_type": "text"
      },
      "source": [
        "<a href=\"https://colab.research.google.com/github/TatyanaLanceva/Netology/blob/main/2_2_%D0%9E%D1%81%D0%BD%D0%BE%D0%B2%D1%8B_Python_Python_Basics.ipynb\" target=\"_parent\"><img src=\"https://colab.research.google.com/assets/colab-badge.svg\" alt=\"Open In Colab\"/></a>"
      ]
    },
    {
      "cell_type": "markdown",
      "source": [
        "**Задание 1**\n",
        "Даны 2 переменных, в которых хранятся строки произвольной длины: phrase_1 и phrase_2.\n",
        "Напишите код, который проверяет какая из этих строк длиннее."
      ],
      "metadata": {
        "id": "CWdeREfe6SFu"
      }
    },
    {
      "cell_type": "code",
      "source": [
        "phrase_1 = input()\n",
        "phrase_2 = input()\n",
        "if len(phrase_1) > len(phrase_2):\n",
        "   print('Фраза 1 длиннее фразы 2')\n",
        "elif len(phrase_1) < len(phrase_2):\n",
        "   print('Фраза 2 длиннее фразы 1')\n",
        "elif len(phrase_1) == len(phrase_2):\n",
        "   print('Фразы равной длины')\n"
      ],
      "metadata": {
        "id": "JQ6WNkSi6VmD"
      },
      "execution_count": null,
      "outputs": []
    },
    {
      "cell_type": "code",
      "source": [
        "print(word[(len(word)-1)//2:(len(word)+2)//2])"
      ],
      "metadata": {
        "colab": {
          "base_uri": "https://localhost:8080/",
          "height": 141
        },
        "id": "2KaaV3EPYbmk",
        "outputId": "a00124ee-6765-4074-eab1-e386f9c832f4"
      },
      "execution_count": null,
      "outputs": [
        {
          "output_type": "error",
          "ename": "NameError",
          "evalue": "name 'word' is not defined",
          "traceback": [
            "\u001b[0;31m---------------------------------------------------------------------------\u001b[0m",
            "\u001b[0;31mNameError\u001b[0m                                 Traceback (most recent call last)",
            "\u001b[0;32m<ipython-input-1-efa9ed2c6039>\u001b[0m in \u001b[0;36m<cell line: 1>\u001b[0;34m()\u001b[0m\n\u001b[0;32m----> 1\u001b[0;31m \u001b[0mprint\u001b[0m\u001b[0;34m(\u001b[0m\u001b[0mword\u001b[0m\u001b[0;34m[\u001b[0m\u001b[0;34m(\u001b[0m\u001b[0mlen\u001b[0m\u001b[0;34m(\u001b[0m\u001b[0mword\u001b[0m\u001b[0;34m)\u001b[0m\u001b[0;34m-\u001b[0m\u001b[0;36m1\u001b[0m\u001b[0;34m)\u001b[0m\u001b[0;34m//\u001b[0m\u001b[0;36m2\u001b[0m\u001b[0;34m:\u001b[0m\u001b[0;34m(\u001b[0m\u001b[0mlen\u001b[0m\u001b[0;34m(\u001b[0m\u001b[0mword\u001b[0m\u001b[0;34m)\u001b[0m\u001b[0;34m+\u001b[0m\u001b[0;36m2\u001b[0m\u001b[0;34m)\u001b[0m\u001b[0;34m//\u001b[0m\u001b[0;36m2\u001b[0m\u001b[0;34m]\u001b[0m\u001b[0;34m)\u001b[0m\u001b[0;34m\u001b[0m\u001b[0;34m\u001b[0m\u001b[0m\n\u001b[0m",
            "\u001b[0;31mNameError\u001b[0m: name 'word' is not defined"
          ]
        }
      ]
    },
    {
      "cell_type": "markdown",
      "source": [
        "**Задание 2**\n",
        "Дана переменная, в которой хранится число (год). Необходимо написать программу, которая выведет, является ли данный год високосным или обычным."
      ],
      "metadata": {
        "id": "PQTbbxlX9JGa"
      }
    },
    {
      "cell_type": "code",
      "source": [
        "year = int(input('Введите год: '))\n",
        "\n",
        "if (year % 4 == 0 and year % 100 != 0) or year % 400 == 0:\n",
        "    print('Високосный год')\n",
        "else:\n",
        "    print('Обычный год')"
      ],
      "metadata": {
        "colab": {
          "base_uri": "https://localhost:8080/"
        },
        "id": "xIl5b1Q29LNe",
        "outputId": "46a0d371-aa79-4052-fc38-e3ee233e62da"
      },
      "execution_count": null,
      "outputs": [
        {
          "output_type": "stream",
          "name": "stdout",
          "text": [
            "Введите год: 2019\n",
            "Обычный год\n"
          ]
        }
      ]
    },
    {
      "cell_type": "code",
      "source": [
        "a = 0\n",
        "while number := int(input(\"введите число: \")):\n",
        "    a += number\n",
        "print(a)"
      ],
      "metadata": {
        "id": "oBgoE3OeYvxG"
      },
      "execution_count": null,
      "outputs": []
    },
    {
      "cell_type": "code",
      "source": [
        "print(sum([int(x) for x in iter(input, '0')]))"
      ],
      "metadata": {
        "id": "g83JDyufY3A-"
      },
      "execution_count": null,
      "outputs": []
    },
    {
      "cell_type": "markdown",
      "source": [
        "**Задание 3**\n",
        "Необходимо написать программу, которая будет запрашивать у пользователя месяц и дату рождения и выводить соответствующий знак зодиака."
      ],
      "metadata": {
        "id": "QYa2lI2b_aua"
      }
    },
    {
      "cell_type": "code",
      "source": [
        "d, m = int(input('Введите день:')), input('Введите месяц: ')\n",
        "if 20 <= d <= 31 and m == 'Январь' or 1 <= d <= 18 and m == 'Февраль':\n",
        "    print('Ваш знак зодиака: Водолей')\n",
        "elif 19 <= d <= 29 and m == 'Февраль' or 1 <= d <= 20 and m == 'Март':\n",
        "    print('Ваш знак зодиака: Рыбы')\n",
        "elif 21 <= d <= 31 and m == 'Март' or 1 <= d <= 19 and m == 'Апрель':\n",
        "    print('Ваш знак зодиака: Овен')\n",
        "elif 20 <= d <= 30 and m == 'Апрель' or 1 <= d <= 20 and m == 'Май':\n",
        "    print('Ваш знак зодиака: Телец')\n",
        "elif 21 <= d <= 31 and m == 'Май' or 1 <= d <= 21 and m == 'Июнь':\n",
        "    print('Ваш знак зодиака: Близнецы')\n",
        "elif 22 <= d <= 30 and m == 'Июнь' or 1 <= d <= 22 and m == 'Июль':\n",
        "    print('Ваш знак зодиака: Рак')\n",
        "elif 23 <= d <= 31 and m == 'Июль' or 1 <= d <= 22 and m == 'Август':\n",
        "    print('Ваш знак зодиака: Лев')\n",
        "elif 23 <= d <= 31 and m == 'Август' or 1 <= d <= 22 and m == 'Сентябрь':\n",
        "    print('Ваш знак зодиака: Дева')\n",
        "elif 23 <= d <= 30 and m == 'Сентябрь' or 1 <= d <= 22 and m == 'Октябрь':\n",
        "    print('Ваш знак зодиака: Весы')\n",
        "elif 23 <= d <= 31 and m == 'Октябрь' or 1 <= d <= 22 and m == 'Ноябрь':\n",
        "    print('Ваш знак зодиака: Скорпион')\n",
        "elif 23 <= d <= 30 and m == 'Ноябрь' or 1 <= d <= 21 and m == 'Декабрь':\n",
        "    print('Ваш знак зодиака: Стрелец')\n",
        "elif 22 <= d <= 31 and m == 'Декабрь' or 1 <= d <= 19 and m == 'Январь':\n",
        "    print('Ваш знак зодиака: Козерог')\n",
        "else:\n",
        "  print('Введена неверная дата')\n"
      ],
      "metadata": {
        "colab": {
          "base_uri": "https://localhost:8080/"
        },
        "id": "5U7e_duI_cnV",
        "outputId": "7141ed4c-bc49-42cd-841d-292717717e40"
      },
      "execution_count": null,
      "outputs": [
        {
          "output_type": "stream",
          "name": "stdout",
          "text": [
            "Введите день:29\n",
            "Введите месяц: Октябрь\n",
            "Ваш знак зодиака: Скорпион\n"
          ]
        }
      ]
    },
    {
      "cell_type": "markdown",
      "source": [
        "**Задание 4**\n",
        "Вам нужно написать программу для подбора упаковок по размерам товара. Размеры (ширина, длина, высота) хранятся в переменных (в сантиметрах):\n",
        "\n",
        "Используйте следующие правила:\n",
        "\n",
        "если каждое из трех измерений менее или равно 15 сантиметрам, то выведите на экран \"Коробка №1\";\n",
        "если хотя бы одно из измерений больше 2 метров, то выводите \"Упаковка для лыж\";\n",
        "если хотя бы одно из измерений больше 15 сантиметров, но менее 50 сантиметров, то выводите \"Коробка №2\";\n",
        "во всех остальных случаях выводите \"Коробка №3\"."
      ],
      "metadata": {
        "id": "THoRnm9mGQB7"
      }
    },
    {
      "cell_type": "code",
      "source": [
        "width = int(input('width = '))\n",
        "length = int(input('length = '))\n",
        "height = int(input('height = '))\n",
        "if max(width,length,height) <= 15:\n",
        "       print('Коробка №1')\n",
        "elif max(width,length,height) < 50:\n",
        "       print('Коробка №2')\n",
        "elif max(width,length,height) > 200:\n",
        "       print('Упаковка для лыж')\n",
        "else:\n",
        "       print('Коробка №3')"
      ],
      "metadata": {
        "colab": {
          "base_uri": "https://localhost:8080/"
        },
        "id": "9nM6zwXCGSUU",
        "outputId": "31ed157a-be49-4b15-9f63-0b835bc5ea9a"
      },
      "execution_count": null,
      "outputs": [
        {
          "output_type": "stream",
          "name": "stdout",
          "text": [
            "width = 24\n",
            "length = 205\n",
            "height = 45\n",
            "Упаковка для лыж\n"
          ]
        }
      ]
    },
    {
      "cell_type": "code",
      "source": [
        "print(\"Средняя температура в странах:\")\n",
        "for element in countries_temperature:\n",
        "   avg_temp = sum(element[1]) / len(element[1])\n",
        "   print(f\"{element[0]} - {(avg_temp - 32)*5/9 :.1f} C\")"
      ],
      "metadata": {
        "id": "bUUkP2bnY70-"
      },
      "execution_count": null,
      "outputs": []
    },
    {
      "cell_type": "markdown",
      "source": [
        "**Задание 5** (необязательное)\n",
        "Дана переменная, в которой хранится шестизначное число (номер проездного билета). Напишите программу, которая будет определять, является ли данный билет \"счастливым\". Билет считается счастливым, если сумма первых трех цифр совпадает с суммой последних трех цифр номера."
      ],
      "metadata": {
        "id": "qO-I_1ghLoPe"
      }
    },
    {
      "cell_type": "code",
      "source": [
        "number = int(input('number = '))\n",
        "n1 = number  //  100000\n",
        "n2 = number  //  10000 % 10\n",
        "n3 = number  //  1000 % 10\n",
        "n4 = number  //  100 % 10\n",
        "n5 = number  //  10 % 10\n",
        "n6 = number  % 10\n",
        "if n1 + n2 + n3 == n4 + n5 + n6:\n",
        "    print('Счастливый билет')\n",
        "else:\n",
        "    print('Несчастливый билет')\n"
      ],
      "metadata": {
        "colab": {
          "base_uri": "https://localhost:8080/"
        },
        "id": "Cd2X27fWLuOD",
        "outputId": "a0542611-688f-4cda-e1ff-7bc984f31ef4"
      },
      "execution_count": null,
      "outputs": [
        {
          "output_type": "stream",
          "name": "stdout",
          "text": [
            "number = 123321\n",
            "Счастливый билет\n"
          ]
        }
      ]
    },
    {
      "cell_type": "markdown",
      "source": [
        "**Задание 6** (необязательное)\n",
        "Напишите программу, которая сможет вычислять площади трех фигур (круг, треугольник и прямоугольник). Тип фигуры запрашиваем через пользовательский ввод, после чего делаем запрос характеристик фигуры:\n",
        "\n",
        "если пользователь выбрал круг, запрашиваем его радиус,\n",
        "если треугольник – длины трех его сторон;\n",
        "если прямоугольник – длины двух его сторон."
      ],
      "metadata": {
        "id": "7ESffZjqOjUP"
      }
    },
    {
      "cell_type": "code",
      "source": [
        "import math\n",
        "figure_type = input('Введите тип фигуры ')\n",
        "if figure_type == 'Круг':\n",
        "   radius = float(input('Введите радиус круга: '))\n",
        "   print('Площадь круга: %.2f' % (pi * radius ** 2))\n",
        "elif figure_type == 'Треугольник':\n",
        "   print(\"Длины сторон треугольника:\")\n",
        "   a = float(input('Введите длину стороны A: '))\n",
        "   b = float(input('Введите длину стороны B: '))\n",
        "   c = float(input('Введите длину стороны C: '))\n",
        "   s =(a + b + c) / 2\n",
        "   area =(s*(s-a)*(s-b)*(s-c)) ** 0.5\n",
        "   print('Площадь треугольника: %0.2f' %area)\n",
        "elif figure_type == 'Прямоугольник':\n",
        "   print(\"Длины сторон прямоугольника: \")\n",
        "   a = float(input('Длина стороны a'))\n",
        "   b = float(input('Длина стороны b'))\n",
        "   print('Площадь прямоугольника: %.2f' % (a * b))\n",
        "else:\n",
        "    print('Ошибка ввода')\n",
        "\n",
        "\n",
        "\n",
        "\n"
      ],
      "metadata": {
        "colab": {
          "base_uri": "https://localhost:8080/"
        },
        "id": "m7qO4HY3OqWE",
        "outputId": "a57d3dad-7603-4137-dda4-417d8a50f662"
      },
      "execution_count": null,
      "outputs": [
        {
          "output_type": "stream",
          "name": "stdout",
          "text": [
            "Введите тип фигуры Треугольник\n",
            "Длины сторон треугольника:\n",
            "Введите длину стороны A: 2\n",
            "Введите длину стороны B: 2\n",
            "Введите длину стороны C: 3\n",
            "Площадь треугольника: 1.98\n"
          ]
        }
      ]
    }
  ]
}