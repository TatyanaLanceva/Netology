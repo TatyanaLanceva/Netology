{
  "nbformat": 4,
  "nbformat_minor": 0,
  "metadata": {
    "colab": {
      "provenance": [],
      "authorship_tag": "ABX9TyPLAowUo8WRkS/JyWbC1Yd9",
      "include_colab_link": true
    },
    "kernelspec": {
      "name": "python3",
      "display_name": "Python 3"
    },
    "language_info": {
      "name": "python"
    }
  },
  "cells": [
    {
      "cell_type": "markdown",
      "metadata": {
        "id": "view-in-github",
        "colab_type": "text"
      },
      "source": [
        "<a href=\"https://colab.research.google.com/github/TatyanaLanceva/Netology/blob/main/2_6_Exception_and_error_handling.ipynb\" target=\"_parent\"><img src=\"https://colab.research.google.com/assets/colab-badge.svg\" alt=\"Open In Colab\"/></a>"
      ]
    },
    {
      "cell_type": "markdown",
      "source": [
        "**Задание 1**\n",
        "\n",
        "Печатные газеты использовали свой формат дат для каждого выпуска. Для каждой газеты из списка напишите формат указанной даты для перевода в объект datetime:\n",
        "The Moscow Times — Wednesday, October 2, 2002\n",
        "The Guardian — Friday, 11.10.13\n",
        "Daily News — Thursday, 18 August 1977\n",
        "\n",
        "**Задание 2**\n",
        "\n",
        "Дан поток дат в формате YYYY-MM-DD, в которых встречаются некорректные значения:\n",
        "stream = [‘2018-04-02’, ‘2018-02-29’, ‘2018-19-02’]\n",
        "\n",
        "Напишите функцию, которая проверяет эти даты на корректность. То есть для каждой даты возвращает True — дата корректна или False — некорректная.\n",
        "\n",
        "**Задание 3**\n",
        "\n",
        "Напишите функцию date_range, которая возвращает список дат за период от start_date до end_date. Даты должны вводиться в формате YYYY-MM-DD. В случае неверного формата или при start_date > end_date должен возвращаться пустой список."
      ],
      "metadata": {
        "id": "IW-D6pwqojll"
      }
    },
    {
      "cell_type": "markdown",
      "source": [
        "# Задание 1"
      ],
      "metadata": {
        "id": "iWpGgByBE-eE"
      }
    },
    {
      "cell_type": "code",
      "source": [
        "from datetime import datetime, timedelta"
      ],
      "metadata": {
        "id": "zzV4W22LGlo2"
      },
      "execution_count": null,
      "outputs": []
    },
    {
      "cell_type": "code",
      "execution_count": null,
      "metadata": {
        "colab": {
          "base_uri": "https://localhost:8080/"
        },
        "id": "iTVlCo3BEx6y",
        "outputId": "0f0ea566-57d2-4446-caf6-fd0ec4dc523a"
      },
      "outputs": [
        {
          "output_type": "stream",
          "name": "stdout",
          "text": [
            "2002-10-02 00:00:00\n"
          ]
        },
        {
          "output_type": "execute_result",
          "data": {
            "text/plain": [
              "datetime.datetime"
            ]
          },
          "metadata": {},
          "execution_count": 54
        }
      ],
      "source": [
        "The_Moscow_Times = datetime.strptime('Wednesday, October, 2, 2002','%A, %B, %d, %Y')\n",
        "print(The_Moscow_Times)\n",
        "type(The_Moscow_Times)"
      ]
    },
    {
      "cell_type": "code",
      "source": [
        "The_Guardian = datetime.strptime('Friday, 11.10.13','%A, %d.%m.%y')\n",
        "print(The_Guardian)\n",
        "type(The_Guardian)"
      ],
      "metadata": {
        "colab": {
          "base_uri": "https://localhost:8080/"
        },
        "id": "hjyuWhTdHd-g",
        "outputId": "ba55410a-7e07-42bf-83af-a921fde1ec93"
      },
      "execution_count": null,
      "outputs": [
        {
          "output_type": "stream",
          "name": "stdout",
          "text": [
            "2013-10-11 00:00:00\n"
          ]
        },
        {
          "output_type": "execute_result",
          "data": {
            "text/plain": [
              "datetime.datetime"
            ]
          },
          "metadata": {},
          "execution_count": 55
        }
      ]
    },
    {
      "cell_type": "code",
      "source": [
        "Daily_News = datetime.strptime('Thursday, 18 August 1977' , '%A, %d %B %Y')\n",
        "print(Daily_News)\n",
        "type(Daily_News)"
      ],
      "metadata": {
        "colab": {
          "base_uri": "https://localhost:8080/"
        },
        "id": "MWQoEeK1Oir_",
        "outputId": "99ead67f-4044-4a95-c8b0-df18b7637134"
      },
      "execution_count": null,
      "outputs": [
        {
          "output_type": "stream",
          "name": "stdout",
          "text": [
            "1977-08-18 00:00:00\n"
          ]
        },
        {
          "output_type": "execute_result",
          "data": {
            "text/plain": [
              "datetime.datetime"
            ]
          },
          "metadata": {},
          "execution_count": 56
        }
      ]
    },
    {
      "cell_type": "markdown",
      "source": [
        "# Задание 2"
      ],
      "metadata": {
        "id": "V4CJMxcpRDNg"
      }
    },
    {
      "cell_type": "code",
      "source": [
        "stream = ['2018-04-02', '2018-02-29', '2018-19-02']\n",
        "dates = []\n",
        "for date_str in stream:\n",
        "    try:\n",
        "        date_obj = datetime.strptime(date_str, '%Y-%m-%d')\n",
        "        print('True')\n",
        "    except ValueError as e:\n",
        "        print('False')"
      ],
      "metadata": {
        "colab": {
          "base_uri": "https://localhost:8080/"
        },
        "id": "Y3Ka4HM0ROBO",
        "outputId": "968a1e76-7551-41f2-be12-46a7ca999200"
      },
      "execution_count": null,
      "outputs": [
        {
          "output_type": "stream",
          "name": "stdout",
          "text": [
            "True\n",
            "False\n",
            "False\n"
          ]
        }
      ]
    },
    {
      "cell_type": "markdown",
      "source": [
        "# Задание 3"
      ],
      "metadata": {
        "id": "-Na_tSgFUvTM"
      }
    },
    {
      "cell_type": "code",
      "source": [
        "def dates(start_date, end_date):\n",
        "\n",
        "# Проверяем на соответствие заданному формату\n",
        "    try:\n",
        "        start_date = datetime.strptime(start_date, \"%Y-%m-%d\").date()\n",
        "        end_date = datetime.strptime(end_date, \"%Y-%m-%d\").date()\n",
        "    except ValueError:\n",
        "        return []  # Если формат не соответствует, выводим пустой список\n",
        "\n",
        "# Если дата начала меньше даты конца, то выводим список дат\n",
        "    if start_date <= end_date:\n",
        "        result = []\n",
        "        current_date = start_date\n",
        "        while current_date <= end_date:\n",
        "            result.append(current_date.strftime(\"%Y-%m-%d\"))\n",
        "            current_date += timedelta(days=1)\n",
        "        return result\n",
        "# Если дата начала больше даты конца, выводим пустой список\n",
        "    else:\n",
        "        return []"
      ],
      "metadata": {
        "id": "C2R-0gzwVgHz"
      },
      "execution_count": null,
      "outputs": []
    },
    {
      "cell_type": "code",
      "source": [
        "# Проверка, дата начала больше даты конца\n",
        "\n",
        "print(dates(\"2024-08-15\", \"2023-01-01\"))"
      ],
      "metadata": {
        "colab": {
          "base_uri": "https://localhost:8080/"
        },
        "id": "aVX7Mf60W2pg",
        "outputId": "f753a46d-1dc1-4240-f20f-2be7b3a4460a"
      },
      "execution_count": null,
      "outputs": [
        {
          "output_type": "stream",
          "name": "stdout",
          "text": [
            "[]\n"
          ]
        }
      ]
    },
    {
      "cell_type": "code",
      "source": [
        "# Проверка, корректный ряд\n",
        "\n",
        "print(dates(\"2024-08-15\", \"2024-08-21\"))\n"
      ],
      "metadata": {
        "colab": {
          "base_uri": "https://localhost:8080/"
        },
        "id": "dm86QS0SXgbw",
        "outputId": "a8395d46-3b9a-499c-e9df-faf0407ada49"
      },
      "execution_count": null,
      "outputs": [
        {
          "output_type": "stream",
          "name": "stdout",
          "text": [
            "['2024-08-15', '2024-08-16', '2024-08-17', '2024-08-18', '2024-08-19', '2024-08-20', '2024-08-21']\n"
          ]
        }
      ]
    }
  ]
}