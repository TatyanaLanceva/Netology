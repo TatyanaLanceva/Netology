{
  "nbformat": 4,
  "nbformat_minor": 0,
  "metadata": {
    "colab": {
      "provenance": [],
      "authorship_tag": "ABX9TyOOib/KLK7YKeK2ng+/Ztke",
      "include_colab_link": true
    },
    "kernelspec": {
      "name": "python3",
      "display_name": "Python 3"
    },
    "language_info": {
      "name": "python"
    }
  },
  "cells": [
    {
      "cell_type": "markdown",
      "metadata": {
        "id": "view-in-github",
        "colab_type": "text"
      },
      "source": [
        "<a href=\"https://colab.research.google.com/github/TatyanaLanceva/Netology/blob/main/2_1_The_concept_of_a_class_in_python_.ipynb\" target=\"_parent\"><img src=\"https://colab.research.google.com/assets/colab-badge.svg\" alt=\"Open In Colab\"/></a>"
      ]
    },
    {
      "cell_type": "markdown",
      "source": [
        "**Задание 1**\n",
        "Напишите функцию, которая возвращает название валюты (поле ‘Name’) с максимальным значением курса с помощью сервиса www.cbr-xml-daily.ru...ly_json.js\n",
        "\n",
        "**Задание 2**\n",
        "Добавьте в класс Rate параметр diff (со значениями True или False), который в случае значения True в методах курсов валют (eur, usd итд) будет возвращать не курс валюты, а изменение по сравнению в прошлым значением. Считайте, self.diff будет принимать значение True только при возврате значения курса. При отображении всей информации о валюте он не используется.\n",
        "\n",
        "**Задание 3**\n",
        "Напишите класс Designer, который учитывает количество международных премий. Подсказки в коде занятия (“Ноутбук к лекциям «Понятие класса» + презентация”, zip-файл “Используемый ноутбук к лекциям «Понятие класса»).\n",
        "\n",
        "Комментарий по классу Designer такой:\n",
        "Напишите класс Designer, который учитывает количество международных премий для дизайнеров (из презентации: “Повышение на 1 грейд за каждые 7 баллов. Получение международной премии – это +2 балла”). Считайте, что при выходе на работу сотрудник уже имеет две премии и их количество не меняется со стажем (конечно если хотите это можно вручную менять)."
      ],
      "metadata": {
        "id": "QcFW6bC1_A9s"
      }
    },
    {
      "cell_type": "markdown",
      "source": [
        "# Задание 1"
      ],
      "metadata": {
        "id": "SQs1SgtJkSK-"
      }
    },
    {
      "cell_type": "code",
      "source": [
        "import requests\n",
        "\n",
        "# Прописываем адрес для загрузки курса валют с сайта Центробанка РФ:\n",
        "\n",
        "exchange_rate_url = \"https://www.cbr-xml-daily.ru/daily_json.js\"\n",
        "\n",
        "# Отправка запроса\n",
        "\n",
        "response = requests.get(exchange_rate_url)\n",
        "\n",
        "# Проверка ответ на запрос, запросим код. Ответ 200 подтверждает успешность запроса\n",
        "\n",
        "response.status_code\n"
      ],
      "metadata": {
        "colab": {
          "base_uri": "https://localhost:8080/"
        },
        "id": "5qu_IZWxkWRQ",
        "outputId": "25dab0a2-40a2-4764-b9ed-4cc5092b7697"
      },
      "execution_count": null,
      "outputs": [
        {
          "output_type": "execute_result",
          "data": {
            "text/plain": [
              "200"
            ]
          },
          "metadata": {},
          "execution_count": 108
        }
      ]
    },
    {
      "cell_type": "code",
      "source": [
        "# Выбираем максимальное значение курса\n",
        "\n",
        "def max_exchange_rate (url):\n",
        "    rates = requests.get(url).json()\n",
        "    max_rate = max(\n",
        "        rates['Valute'].values(),\n",
        "        key=lambda rate: rate['Value']\n",
        "    )\n",
        "    return max_rate.get('Name')\n",
        "\n",
        "print (f'Максимальное значение курса имеет', max_exchange_rate (exchange_rate_url))"
      ],
      "metadata": {
        "colab": {
          "base_uri": "https://localhost:8080/"
        },
        "id": "Vv9bhuCxm803",
        "outputId": "cb5324ef-0df7-4b9f-b0f9-985b6c90bad2"
      },
      "execution_count": null,
      "outputs": [
        {
          "output_type": "stream",
          "name": "stdout",
          "text": [
            "Максимальное значение курса имеет СДР (специальные права заимствования)\n"
          ]
        }
      ]
    },
    {
      "cell_type": "markdown",
      "source": [
        "# Задание 2"
      ],
      "metadata": {
        "id": "zz3XwZzTp2em"
      }
    },
    {
      "cell_type": "code",
      "source": [
        "# Во втором задании мы используем загруженные в первом задании курсы валют и проверку запроса, поэтому не дублируем код.\n",
        "\n",
        "# Добавляем в класс Rate параметр diff:\n",
        "\n",
        "def set_check_diff(self, check_diff):\n",
        "        self.check_diff = check_diff\n",
        "\n",
        "# Форматированние данных по выбранной валюте:\n",
        "\n",
        "def make_format(self, currency):\n",
        "        rates = self._get_exchange_rates()\n",
        "        if currency in rates:\n",
        "            if self.format == 'full':\n",
        "                return rates[currency]\n",
        "            elif self.format == 'value':\n",
        "                if self.check_diff:\n",
        "                    difference = rates[currency]['Previous'] - rates[currency]['Value']\n",
        "                    return difference\n",
        "                else:\n",
        "                    return rates[currency]['Value']\n",
        "        return 'Ошибка'\n",
        "\n",
        "# Определяем курс евро на сегодня по заданному формату:\n",
        "\n",
        "def eur(self):\n",
        "        return self.make_format('EUR')\n",
        "\n",
        "# Определяем курс доллара на сегодня по заданному формату:\n",
        "\n",
        "def usd(self):\n",
        "        return self.make_format('USD')"
      ],
      "metadata": {
        "id": "hNFaxb0CBPxk"
      },
      "execution_count": null,
      "outputs": []
    },
    {
      "cell_type": "code",
      "source": [
        "# Проверки с разными параметрами:\n",
        "\n",
        "print('Проверка для евро diff = True')\n",
        "print('Изменение курса евро относительно прошлого дня:')\n",
        "Rate('value', 'True').eur()\n",
        "\n"
      ],
      "metadata": {
        "colab": {
          "base_uri": "https://localhost:8080/"
        },
        "id": "uoojSOuHBiKw",
        "outputId": "5c775c81-1621-47c5-e3dd-5b5e183271e6"
      },
      "execution_count": null,
      "outputs": [
        {
          "output_type": "stream",
          "name": "stdout",
          "text": [
            "Проверка для евро diff = True\n",
            "Изменение курса евро относительно прошлого дня:\n"
          ]
        },
        {
          "output_type": "execute_result",
          "data": {
            "text/plain": [
              "-1.205600000000004"
            ]
          },
          "metadata": {},
          "execution_count": 133
        }
      ]
    },
    {
      "cell_type": "code",
      "source": [
        "print('Проверка для доллара diff = True')\n",
        "print('Изменение курса доллара относительно прошлого дня:')\n",
        "Rate('value', 'True').usd()"
      ],
      "metadata": {
        "colab": {
          "base_uri": "https://localhost:8080/"
        },
        "id": "f1guMfBgBjWc",
        "outputId": "9e31ab8f-5ef1-430b-e29f-36760ca3afaa"
      },
      "execution_count": null,
      "outputs": [
        {
          "output_type": "stream",
          "name": "stdout",
          "text": [
            "Проверка для доллара diff = True\n",
            "Изменение курса доллара относительно прошлого дня:\n"
          ]
        },
        {
          "output_type": "execute_result",
          "data": {
            "text/plain": [
              "-0.9791000000000025"
            ]
          },
          "metadata": {},
          "execution_count": 134
        }
      ]
    },
    {
      "cell_type": "code",
      "source": [
        "print('Проверка для евро diff = False')\n",
        "print('Курс евро:')\n",
        "Rate('value', 'False').eur()"
      ],
      "metadata": {
        "colab": {
          "base_uri": "https://localhost:8080/"
        },
        "id": "LNElgmplB42Q",
        "outputId": "1804ce79-50c2-49ce-a703-ca29d92748d3"
      },
      "execution_count": null,
      "outputs": [
        {
          "output_type": "stream",
          "name": "stdout",
          "text": [
            "Проверка для евро diff = False\n",
            "Курс евро:\n"
          ]
        },
        {
          "output_type": "execute_result",
          "data": {
            "text/plain": [
              "105.7072"
            ]
          },
          "metadata": {},
          "execution_count": 135
        }
      ]
    },
    {
      "cell_type": "code",
      "source": [
        "print('Проверка для доллара diff = False')\n",
        "print('Курс доллара:')\n",
        "Rate('value', 'False').usd()"
      ],
      "metadata": {
        "colab": {
          "base_uri": "https://localhost:8080/"
        },
        "id": "dFmSbybxB6a6",
        "outputId": "187ba942-42c0-41f2-9f8c-5558636df012"
      },
      "execution_count": null,
      "outputs": [
        {
          "output_type": "stream",
          "name": "stdout",
          "text": [
            "Проверка для доллара diff = False\n",
            "Курс доллара:\n"
          ]
        },
        {
          "output_type": "execute_result",
          "data": {
            "text/plain": [
              "99.9971"
            ]
          },
          "metadata": {},
          "execution_count": 136
        }
      ]
    },
    {
      "cell_type": "markdown",
      "source": [
        "# Задание 3"
      ],
      "metadata": {
        "id": "Rkt__QG8QdKr"
      }
    },
    {
      "cell_type": "code",
      "source": [
        "# Базовый класс для всех сотрудников компании.\n",
        "\n",
        "class Employee:\n",
        "\n",
        "    def __init__(self, name, seniority, awards=0):\n",
        "        self.name = name\n",
        "        self.seniority = seniority\n",
        "        self.awards = awards\n",
        "        self.grade = 1\n",
        "\n",
        "# Повышение уровня сотрудника:\n",
        "\n",
        "    def grade_up(self):\n",
        "        self.grade += 1\n",
        "\n",
        "    def publish_grade(self):\n",
        "        print(f\"{self.name} достигает уровня {self.grade}.\")\n",
        "\n",
        "# Подкласс для дизайнеров:\n",
        "\n",
        "class Designer(Employee):\n",
        "\n",
        "    def __init__(self, name, seniority, awards):\n",
        "        super().__init__(name, seniority, awards)\n",
        "\n",
        "    def check_if_it_is_time_for_upgrade(self):\n",
        "\n",
        "# Проверка необходимости повысить уровень;\n",
        "\n",
        "        if self.seniority == 0:\n",
        "            self.seniority = 1 + self.awards * 2\n",
        "        else:\n",
        "            self.seniority += 1\n",
        "        if self.seniority % 7 == 0:\n",
        "            self.grade_up()\n",
        "        self.publish_grade()\n",
        "\n"
      ],
      "metadata": {
        "id": "TXnpHc1PQgiX"
      },
      "execution_count": null,
      "outputs": []
    },
    {
      "cell_type": "code",
      "source": [
        "# Проверка:\n",
        "\n",
        "designer = Designer('Виктория',2,2)\n",
        "\n",
        "# Повышение уровня\n",
        "for _ in range(15):\n",
        "    designer.check_if_it_is_time_for_upgrade()"
      ],
      "metadata": {
        "colab": {
          "base_uri": "https://localhost:8080/"
        },
        "id": "0IFrkH7ISfob",
        "outputId": "f06c4c47-9df2-443c-d04c-ba23718c3ac9"
      },
      "execution_count": null,
      "outputs": [
        {
          "output_type": "stream",
          "name": "stdout",
          "text": [
            "Виктория достигает уровня 1.\n",
            "Виктория достигает уровня 1.\n",
            "Виктория достигает уровня 1.\n",
            "Виктория достигает уровня 1.\n",
            "Виктория достигает уровня 2.\n",
            "Виктория достигает уровня 2.\n",
            "Виктория достигает уровня 2.\n",
            "Виктория достигает уровня 2.\n",
            "Виктория достигает уровня 2.\n",
            "Виктория достигает уровня 2.\n",
            "Виктория достигает уровня 2.\n",
            "Виктория достигает уровня 3.\n",
            "Виктория достигает уровня 3.\n",
            "Виктория достигает уровня 3.\n",
            "Виктория достигает уровня 3.\n"
          ]
        }
      ]
    }
  ]
}