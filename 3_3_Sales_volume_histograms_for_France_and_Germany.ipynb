{
  "nbformat": 4,
  "nbformat_minor": 0,
  "metadata": {
    "colab": {
      "provenance": [],
      "authorship_tag": "ABX9TyM2uXRLDwZFp0wLKDTA2GQo",
      "include_colab_link": true
    },
    "kernelspec": {
      "name": "python3",
      "display_name": "Python 3"
    },
    "language_info": {
      "name": "python"
    },
    "widgets": {
      "application/vnd.jupyter.widget-state+json": {
        "214cc6c7a10e48f2a133a7d850363d48": {
          "model_module": "@jupyter-widgets/controls",
          "model_name": "HBoxModel",
          "model_module_version": "1.5.0",
          "state": {
            "_dom_classes": [],
            "_model_module": "@jupyter-widgets/controls",
            "_model_module_version": "1.5.0",
            "_model_name": "HBoxModel",
            "_view_count": null,
            "_view_module": "@jupyter-widgets/controls",
            "_view_module_version": "1.5.0",
            "_view_name": "HBoxView",
            "box_style": "",
            "children": [
              "IPY_MODEL_a8445346a9d24bd5b2b0b9b23aa1ded3",
              "IPY_MODEL_4a9d40723c33400ab04d14705f4a6452",
              "IPY_MODEL_684176a801a941588fc73fb1c82f93ad"
            ],
            "layout": "IPY_MODEL_cc595501bb0b4759bb72b84f3501cb56"
          }
        },
        "a8445346a9d24bd5b2b0b9b23aa1ded3": {
          "model_module": "@jupyter-widgets/controls",
          "model_name": "HTMLModel",
          "model_module_version": "1.5.0",
          "state": {
            "_dom_classes": [],
            "_model_module": "@jupyter-widgets/controls",
            "_model_module_version": "1.5.0",
            "_model_name": "HTMLModel",
            "_view_count": null,
            "_view_module": "@jupyter-widgets/controls",
            "_view_module_version": "1.5.0",
            "_view_name": "HTMLView",
            "description": "",
            "description_tooltip": null,
            "layout": "IPY_MODEL_9ff482aa4243481da305bde0959daff2",
            "placeholder": "​",
            "style": "IPY_MODEL_19f77f2b5abf459cba7754de9bf4d5f4",
            "value": "100%"
          }
        },
        "4a9d40723c33400ab04d14705f4a6452": {
          "model_module": "@jupyter-widgets/controls",
          "model_name": "FloatProgressModel",
          "model_module_version": "1.5.0",
          "state": {
            "_dom_classes": [],
            "_model_module": "@jupyter-widgets/controls",
            "_model_module_version": "1.5.0",
            "_model_name": "FloatProgressModel",
            "_view_count": null,
            "_view_module": "@jupyter-widgets/controls",
            "_view_module_version": "1.5.0",
            "_view_name": "ProgressView",
            "bar_style": "success",
            "description": "",
            "description_tooltip": null,
            "layout": "IPY_MODEL_e5ff58dda9a34f60a2c6aba7749ab414",
            "max": 1000,
            "min": 0,
            "orientation": "horizontal",
            "style": "IPY_MODEL_0b9ebca23c554f7f8f11ca415f452cb5",
            "value": 1000
          }
        },
        "684176a801a941588fc73fb1c82f93ad": {
          "model_module": "@jupyter-widgets/controls",
          "model_name": "HTMLModel",
          "model_module_version": "1.5.0",
          "state": {
            "_dom_classes": [],
            "_model_module": "@jupyter-widgets/controls",
            "_model_module_version": "1.5.0",
            "_model_name": "HTMLModel",
            "_view_count": null,
            "_view_module": "@jupyter-widgets/controls",
            "_view_module_version": "1.5.0",
            "_view_name": "HTMLView",
            "description": "",
            "description_tooltip": null,
            "layout": "IPY_MODEL_bf0b7d0f69464650852772514b97eb74",
            "placeholder": "​",
            "style": "IPY_MODEL_d66154368467491385c3d985da39d381",
            "value": " 1000/1000 [00:00&lt;00:00, 1632.18it/s]"
          }
        },
        "cc595501bb0b4759bb72b84f3501cb56": {
          "model_module": "@jupyter-widgets/base",
          "model_name": "LayoutModel",
          "model_module_version": "1.2.0",
          "state": {
            "_model_module": "@jupyter-widgets/base",
            "_model_module_version": "1.2.0",
            "_model_name": "LayoutModel",
            "_view_count": null,
            "_view_module": "@jupyter-widgets/base",
            "_view_module_version": "1.2.0",
            "_view_name": "LayoutView",
            "align_content": null,
            "align_items": null,
            "align_self": null,
            "border": null,
            "bottom": null,
            "display": null,
            "flex": null,
            "flex_flow": null,
            "grid_area": null,
            "grid_auto_columns": null,
            "grid_auto_flow": null,
            "grid_auto_rows": null,
            "grid_column": null,
            "grid_gap": null,
            "grid_row": null,
            "grid_template_areas": null,
            "grid_template_columns": null,
            "grid_template_rows": null,
            "height": null,
            "justify_content": null,
            "justify_items": null,
            "left": null,
            "margin": null,
            "max_height": null,
            "max_width": null,
            "min_height": null,
            "min_width": null,
            "object_fit": null,
            "object_position": null,
            "order": null,
            "overflow": null,
            "overflow_x": null,
            "overflow_y": null,
            "padding": null,
            "right": null,
            "top": null,
            "visibility": null,
            "width": null
          }
        },
        "9ff482aa4243481da305bde0959daff2": {
          "model_module": "@jupyter-widgets/base",
          "model_name": "LayoutModel",
          "model_module_version": "1.2.0",
          "state": {
            "_model_module": "@jupyter-widgets/base",
            "_model_module_version": "1.2.0",
            "_model_name": "LayoutModel",
            "_view_count": null,
            "_view_module": "@jupyter-widgets/base",
            "_view_module_version": "1.2.0",
            "_view_name": "LayoutView",
            "align_content": null,
            "align_items": null,
            "align_self": null,
            "border": null,
            "bottom": null,
            "display": null,
            "flex": null,
            "flex_flow": null,
            "grid_area": null,
            "grid_auto_columns": null,
            "grid_auto_flow": null,
            "grid_auto_rows": null,
            "grid_column": null,
            "grid_gap": null,
            "grid_row": null,
            "grid_template_areas": null,
            "grid_template_columns": null,
            "grid_template_rows": null,
            "height": null,
            "justify_content": null,
            "justify_items": null,
            "left": null,
            "margin": null,
            "max_height": null,
            "max_width": null,
            "min_height": null,
            "min_width": null,
            "object_fit": null,
            "object_position": null,
            "order": null,
            "overflow": null,
            "overflow_x": null,
            "overflow_y": null,
            "padding": null,
            "right": null,
            "top": null,
            "visibility": null,
            "width": null
          }
        },
        "19f77f2b5abf459cba7754de9bf4d5f4": {
          "model_module": "@jupyter-widgets/controls",
          "model_name": "DescriptionStyleModel",
          "model_module_version": "1.5.0",
          "state": {
            "_model_module": "@jupyter-widgets/controls",
            "_model_module_version": "1.5.0",
            "_model_name": "DescriptionStyleModel",
            "_view_count": null,
            "_view_module": "@jupyter-widgets/base",
            "_view_module_version": "1.2.0",
            "_view_name": "StyleView",
            "description_width": ""
          }
        },
        "e5ff58dda9a34f60a2c6aba7749ab414": {
          "model_module": "@jupyter-widgets/base",
          "model_name": "LayoutModel",
          "model_module_version": "1.2.0",
          "state": {
            "_model_module": "@jupyter-widgets/base",
            "_model_module_version": "1.2.0",
            "_model_name": "LayoutModel",
            "_view_count": null,
            "_view_module": "@jupyter-widgets/base",
            "_view_module_version": "1.2.0",
            "_view_name": "LayoutView",
            "align_content": null,
            "align_items": null,
            "align_self": null,
            "border": null,
            "bottom": null,
            "display": null,
            "flex": null,
            "flex_flow": null,
            "grid_area": null,
            "grid_auto_columns": null,
            "grid_auto_flow": null,
            "grid_auto_rows": null,
            "grid_column": null,
            "grid_gap": null,
            "grid_row": null,
            "grid_template_areas": null,
            "grid_template_columns": null,
            "grid_template_rows": null,
            "height": null,
            "justify_content": null,
            "justify_items": null,
            "left": null,
            "margin": null,
            "max_height": null,
            "max_width": null,
            "min_height": null,
            "min_width": null,
            "object_fit": null,
            "object_position": null,
            "order": null,
            "overflow": null,
            "overflow_x": null,
            "overflow_y": null,
            "padding": null,
            "right": null,
            "top": null,
            "visibility": null,
            "width": null
          }
        },
        "0b9ebca23c554f7f8f11ca415f452cb5": {
          "model_module": "@jupyter-widgets/controls",
          "model_name": "ProgressStyleModel",
          "model_module_version": "1.5.0",
          "state": {
            "_model_module": "@jupyter-widgets/controls",
            "_model_module_version": "1.5.0",
            "_model_name": "ProgressStyleModel",
            "_view_count": null,
            "_view_module": "@jupyter-widgets/base",
            "_view_module_version": "1.2.0",
            "_view_name": "StyleView",
            "bar_color": null,
            "description_width": ""
          }
        },
        "bf0b7d0f69464650852772514b97eb74": {
          "model_module": "@jupyter-widgets/base",
          "model_name": "LayoutModel",
          "model_module_version": "1.2.0",
          "state": {
            "_model_module": "@jupyter-widgets/base",
            "_model_module_version": "1.2.0",
            "_model_name": "LayoutModel",
            "_view_count": null,
            "_view_module": "@jupyter-widgets/base",
            "_view_module_version": "1.2.0",
            "_view_name": "LayoutView",
            "align_content": null,
            "align_items": null,
            "align_self": null,
            "border": null,
            "bottom": null,
            "display": null,
            "flex": null,
            "flex_flow": null,
            "grid_area": null,
            "grid_auto_columns": null,
            "grid_auto_flow": null,
            "grid_auto_rows": null,
            "grid_column": null,
            "grid_gap": null,
            "grid_row": null,
            "grid_template_areas": null,
            "grid_template_columns": null,
            "grid_template_rows": null,
            "height": null,
            "justify_content": null,
            "justify_items": null,
            "left": null,
            "margin": null,
            "max_height": null,
            "max_width": null,
            "min_height": null,
            "min_width": null,
            "object_fit": null,
            "object_position": null,
            "order": null,
            "overflow": null,
            "overflow_x": null,
            "overflow_y": null,
            "padding": null,
            "right": null,
            "top": null,
            "visibility": null,
            "width": null
          }
        },
        "d66154368467491385c3d985da39d381": {
          "model_module": "@jupyter-widgets/controls",
          "model_name": "DescriptionStyleModel",
          "model_module_version": "1.5.0",
          "state": {
            "_model_module": "@jupyter-widgets/controls",
            "_model_module_version": "1.5.0",
            "_model_name": "DescriptionStyleModel",
            "_view_count": null,
            "_view_module": "@jupyter-widgets/base",
            "_view_module_version": "1.2.0",
            "_view_name": "StyleView",
            "description_width": ""
          }
        }
      }
    }
  },
  "cells": [
    {
      "cell_type": "markdown",
      "metadata": {
        "id": "view-in-github",
        "colab_type": "text"
      },
      "source": [
        "<a href=\"https://colab.research.google.com/github/TatyanaLanceva/Netology/blob/main/3_3_Sales_volume_histograms_for_France_and_Germany.ipynb\" target=\"_parent\"><img src=\"https://colab.research.google.com/assets/colab-badge.svg\" alt=\"Open In Colab\"/></a>"
      ]
    },
    {
      "cell_type": "markdown",
      "source": [
        "\n",
        "*   Используйте датасет [data_hw_2_(upd).xlsx ](https://docs.google.com/spreadsheets/d/1LzWPjuvABo39nc_QyRPzHMVLNLs0s-GH?rtpof=true&usp=drive_fs).\n",
        "*   Постройте гистограммы плотности распределения объёмов продаж для Франции и Германии и определите типы распределений.\n",
        "*   С помощью стат. критериев сравните объёмы продаж во Франции и Германии:\n",
        "*   Гипотеза: «Объёмы продаж Франции отличаются от объёмов продаж Германии».\n",
        "*   Сделайте выводы по результатам проверки.\n",
        "\n",
        "Примечание: базовые гипотезы всегда формулируются одинаково, нулевая гипотеза гласит, что выборки значимо не отличаются, альтернативная – наоборот; проверяемая гипотеза всегда является альтернативной."
      ],
      "metadata": {
        "id": "s9t7PwBAM-vF"
      }
    },
    {
      "cell_type": "code",
      "source": [
        "import pandas as pd\n",
        "import seaborn as sns\n",
        "import numpy as np\n",
        "import matplotlib.pyplot as plt"
      ],
      "metadata": {
        "id": "nQbUTW6-NBPV"
      },
      "execution_count": null,
      "outputs": []
    },
    {
      "cell_type": "markdown",
      "source": [
        "Загружаем файл с данными и проверяем его"
      ],
      "metadata": {
        "id": "b5cpupVENVoL"
      }
    },
    {
      "cell_type": "code",
      "source": [
        "df = pd.read_excel('data_hw_2__upd_.xlsx')\n",
        "df.head()"
      ],
      "metadata": {
        "colab": {
          "base_uri": "https://localhost:8080/",
          "height": 206
        },
        "id": "-8Jsr_BXNYHz",
        "outputId": "97f1cf1d-8b0f-45e7-bd74-4f58b04a5108"
      },
      "execution_count": null,
      "outputs": [
        {
          "output_type": "execute_result",
          "data": {
            "text/plain": [
              "   CustomerId  Gender        Age Geography  Balance, Euro  \\\n",
              "0    15815660  Female  37.374760    France  112542.729286   \n",
              "1    15815656  Female  50.122552   Germany  116610.117715   \n",
              "2    15815628  Female  13.436561    France   76470.519592   \n",
              "3    15815552  Female  31.963556    France   93863.675220   \n",
              "4    15815530  Female  29.909407    France  135003.312047   \n",
              "\n",
              "   EstimatedSalary, Euro  \n",
              "0           44585.817716  \n",
              "1           50417.699036  \n",
              "2           11413.463636  \n",
              "3           26318.453258  \n",
              "4           86017.408897  "
            ],
            "text/html": [
              "\n",
              "  <div id=\"df-3808ef87-b18f-420f-93e5-2f17f396d1d4\" class=\"colab-df-container\">\n",
              "    <div>\n",
              "<style scoped>\n",
              "    .dataframe tbody tr th:only-of-type {\n",
              "        vertical-align: middle;\n",
              "    }\n",
              "\n",
              "    .dataframe tbody tr th {\n",
              "        vertical-align: top;\n",
              "    }\n",
              "\n",
              "    .dataframe thead th {\n",
              "        text-align: right;\n",
              "    }\n",
              "</style>\n",
              "<table border=\"1\" class=\"dataframe\">\n",
              "  <thead>\n",
              "    <tr style=\"text-align: right;\">\n",
              "      <th></th>\n",
              "      <th>CustomerId</th>\n",
              "      <th>Gender</th>\n",
              "      <th>Age</th>\n",
              "      <th>Geography</th>\n",
              "      <th>Balance, Euro</th>\n",
              "      <th>EstimatedSalary, Euro</th>\n",
              "    </tr>\n",
              "  </thead>\n",
              "  <tbody>\n",
              "    <tr>\n",
              "      <th>0</th>\n",
              "      <td>15815660</td>\n",
              "      <td>Female</td>\n",
              "      <td>37.374760</td>\n",
              "      <td>France</td>\n",
              "      <td>112542.729286</td>\n",
              "      <td>44585.817716</td>\n",
              "    </tr>\n",
              "    <tr>\n",
              "      <th>1</th>\n",
              "      <td>15815656</td>\n",
              "      <td>Female</td>\n",
              "      <td>50.122552</td>\n",
              "      <td>Germany</td>\n",
              "      <td>116610.117715</td>\n",
              "      <td>50417.699036</td>\n",
              "    </tr>\n",
              "    <tr>\n",
              "      <th>2</th>\n",
              "      <td>15815628</td>\n",
              "      <td>Female</td>\n",
              "      <td>13.436561</td>\n",
              "      <td>France</td>\n",
              "      <td>76470.519592</td>\n",
              "      <td>11413.463636</td>\n",
              "    </tr>\n",
              "    <tr>\n",
              "      <th>3</th>\n",
              "      <td>15815552</td>\n",
              "      <td>Female</td>\n",
              "      <td>31.963556</td>\n",
              "      <td>France</td>\n",
              "      <td>93863.675220</td>\n",
              "      <td>26318.453258</td>\n",
              "    </tr>\n",
              "    <tr>\n",
              "      <th>4</th>\n",
              "      <td>15815530</td>\n",
              "      <td>Female</td>\n",
              "      <td>29.909407</td>\n",
              "      <td>France</td>\n",
              "      <td>135003.312047</td>\n",
              "      <td>86017.408897</td>\n",
              "    </tr>\n",
              "  </tbody>\n",
              "</table>\n",
              "</div>\n",
              "    <div class=\"colab-df-buttons\">\n",
              "\n",
              "  <div class=\"colab-df-container\">\n",
              "    <button class=\"colab-df-convert\" onclick=\"convertToInteractive('df-3808ef87-b18f-420f-93e5-2f17f396d1d4')\"\n",
              "            title=\"Convert this dataframe to an interactive table.\"\n",
              "            style=\"display:none;\">\n",
              "\n",
              "  <svg xmlns=\"http://www.w3.org/2000/svg\" height=\"24px\" viewBox=\"0 -960 960 960\">\n",
              "    <path d=\"M120-120v-720h720v720H120Zm60-500h600v-160H180v160Zm220 220h160v-160H400v160Zm0 220h160v-160H400v160ZM180-400h160v-160H180v160Zm440 0h160v-160H620v160ZM180-180h160v-160H180v160Zm440 0h160v-160H620v160Z\"/>\n",
              "  </svg>\n",
              "    </button>\n",
              "\n",
              "  <style>\n",
              "    .colab-df-container {\n",
              "      display:flex;\n",
              "      gap: 12px;\n",
              "    }\n",
              "\n",
              "    .colab-df-convert {\n",
              "      background-color: #E8F0FE;\n",
              "      border: none;\n",
              "      border-radius: 50%;\n",
              "      cursor: pointer;\n",
              "      display: none;\n",
              "      fill: #1967D2;\n",
              "      height: 32px;\n",
              "      padding: 0 0 0 0;\n",
              "      width: 32px;\n",
              "    }\n",
              "\n",
              "    .colab-df-convert:hover {\n",
              "      background-color: #E2EBFA;\n",
              "      box-shadow: 0px 1px 2px rgba(60, 64, 67, 0.3), 0px 1px 3px 1px rgba(60, 64, 67, 0.15);\n",
              "      fill: #174EA6;\n",
              "    }\n",
              "\n",
              "    .colab-df-buttons div {\n",
              "      margin-bottom: 4px;\n",
              "    }\n",
              "\n",
              "    [theme=dark] .colab-df-convert {\n",
              "      background-color: #3B4455;\n",
              "      fill: #D2E3FC;\n",
              "    }\n",
              "\n",
              "    [theme=dark] .colab-df-convert:hover {\n",
              "      background-color: #434B5C;\n",
              "      box-shadow: 0px 1px 3px 1px rgba(0, 0, 0, 0.15);\n",
              "      filter: drop-shadow(0px 1px 2px rgba(0, 0, 0, 0.3));\n",
              "      fill: #FFFFFF;\n",
              "    }\n",
              "  </style>\n",
              "\n",
              "    <script>\n",
              "      const buttonEl =\n",
              "        document.querySelector('#df-3808ef87-b18f-420f-93e5-2f17f396d1d4 button.colab-df-convert');\n",
              "      buttonEl.style.display =\n",
              "        google.colab.kernel.accessAllowed ? 'block' : 'none';\n",
              "\n",
              "      async function convertToInteractive(key) {\n",
              "        const element = document.querySelector('#df-3808ef87-b18f-420f-93e5-2f17f396d1d4');\n",
              "        const dataTable =\n",
              "          await google.colab.kernel.invokeFunction('convertToInteractive',\n",
              "                                                    [key], {});\n",
              "        if (!dataTable) return;\n",
              "\n",
              "        const docLinkHtml = 'Like what you see? Visit the ' +\n",
              "          '<a target=\"_blank\" href=https://colab.research.google.com/notebooks/data_table.ipynb>data table notebook</a>'\n",
              "          + ' to learn more about interactive tables.';\n",
              "        element.innerHTML = '';\n",
              "        dataTable['output_type'] = 'display_data';\n",
              "        await google.colab.output.renderOutput(dataTable, element);\n",
              "        const docLink = document.createElement('div');\n",
              "        docLink.innerHTML = docLinkHtml;\n",
              "        element.appendChild(docLink);\n",
              "      }\n",
              "    </script>\n",
              "  </div>\n",
              "\n",
              "\n",
              "<div id=\"df-5f9d5add-f942-45c9-b808-3ddcfb9707df\">\n",
              "  <button class=\"colab-df-quickchart\" onclick=\"quickchart('df-5f9d5add-f942-45c9-b808-3ddcfb9707df')\"\n",
              "            title=\"Suggest charts\"\n",
              "            style=\"display:none;\">\n",
              "\n",
              "<svg xmlns=\"http://www.w3.org/2000/svg\" height=\"24px\"viewBox=\"0 0 24 24\"\n",
              "     width=\"24px\">\n",
              "    <g>\n",
              "        <path d=\"M19 3H5c-1.1 0-2 .9-2 2v14c0 1.1.9 2 2 2h14c1.1 0 2-.9 2-2V5c0-1.1-.9-2-2-2zM9 17H7v-7h2v7zm4 0h-2V7h2v10zm4 0h-2v-4h2v4z\"/>\n",
              "    </g>\n",
              "</svg>\n",
              "  </button>\n",
              "\n",
              "<style>\n",
              "  .colab-df-quickchart {\n",
              "      --bg-color: #E8F0FE;\n",
              "      --fill-color: #1967D2;\n",
              "      --hover-bg-color: #E2EBFA;\n",
              "      --hover-fill-color: #174EA6;\n",
              "      --disabled-fill-color: #AAA;\n",
              "      --disabled-bg-color: #DDD;\n",
              "  }\n",
              "\n",
              "  [theme=dark] .colab-df-quickchart {\n",
              "      --bg-color: #3B4455;\n",
              "      --fill-color: #D2E3FC;\n",
              "      --hover-bg-color: #434B5C;\n",
              "      --hover-fill-color: #FFFFFF;\n",
              "      --disabled-bg-color: #3B4455;\n",
              "      --disabled-fill-color: #666;\n",
              "  }\n",
              "\n",
              "  .colab-df-quickchart {\n",
              "    background-color: var(--bg-color);\n",
              "    border: none;\n",
              "    border-radius: 50%;\n",
              "    cursor: pointer;\n",
              "    display: none;\n",
              "    fill: var(--fill-color);\n",
              "    height: 32px;\n",
              "    padding: 0;\n",
              "    width: 32px;\n",
              "  }\n",
              "\n",
              "  .colab-df-quickchart:hover {\n",
              "    background-color: var(--hover-bg-color);\n",
              "    box-shadow: 0 1px 2px rgba(60, 64, 67, 0.3), 0 1px 3px 1px rgba(60, 64, 67, 0.15);\n",
              "    fill: var(--button-hover-fill-color);\n",
              "  }\n",
              "\n",
              "  .colab-df-quickchart-complete:disabled,\n",
              "  .colab-df-quickchart-complete:disabled:hover {\n",
              "    background-color: var(--disabled-bg-color);\n",
              "    fill: var(--disabled-fill-color);\n",
              "    box-shadow: none;\n",
              "  }\n",
              "\n",
              "  .colab-df-spinner {\n",
              "    border: 2px solid var(--fill-color);\n",
              "    border-color: transparent;\n",
              "    border-bottom-color: var(--fill-color);\n",
              "    animation:\n",
              "      spin 1s steps(1) infinite;\n",
              "  }\n",
              "\n",
              "  @keyframes spin {\n",
              "    0% {\n",
              "      border-color: transparent;\n",
              "      border-bottom-color: var(--fill-color);\n",
              "      border-left-color: var(--fill-color);\n",
              "    }\n",
              "    20% {\n",
              "      border-color: transparent;\n",
              "      border-left-color: var(--fill-color);\n",
              "      border-top-color: var(--fill-color);\n",
              "    }\n",
              "    30% {\n",
              "      border-color: transparent;\n",
              "      border-left-color: var(--fill-color);\n",
              "      border-top-color: var(--fill-color);\n",
              "      border-right-color: var(--fill-color);\n",
              "    }\n",
              "    40% {\n",
              "      border-color: transparent;\n",
              "      border-right-color: var(--fill-color);\n",
              "      border-top-color: var(--fill-color);\n",
              "    }\n",
              "    60% {\n",
              "      border-color: transparent;\n",
              "      border-right-color: var(--fill-color);\n",
              "    }\n",
              "    80% {\n",
              "      border-color: transparent;\n",
              "      border-right-color: var(--fill-color);\n",
              "      border-bottom-color: var(--fill-color);\n",
              "    }\n",
              "    90% {\n",
              "      border-color: transparent;\n",
              "      border-bottom-color: var(--fill-color);\n",
              "    }\n",
              "  }\n",
              "</style>\n",
              "\n",
              "  <script>\n",
              "    async function quickchart(key) {\n",
              "      const quickchartButtonEl =\n",
              "        document.querySelector('#' + key + ' button');\n",
              "      quickchartButtonEl.disabled = true;  // To prevent multiple clicks.\n",
              "      quickchartButtonEl.classList.add('colab-df-spinner');\n",
              "      try {\n",
              "        const charts = await google.colab.kernel.invokeFunction(\n",
              "            'suggestCharts', [key], {});\n",
              "      } catch (error) {\n",
              "        console.error('Error during call to suggestCharts:', error);\n",
              "      }\n",
              "      quickchartButtonEl.classList.remove('colab-df-spinner');\n",
              "      quickchartButtonEl.classList.add('colab-df-quickchart-complete');\n",
              "    }\n",
              "    (() => {\n",
              "      let quickchartButtonEl =\n",
              "        document.querySelector('#df-5f9d5add-f942-45c9-b808-3ddcfb9707df button');\n",
              "      quickchartButtonEl.style.display =\n",
              "        google.colab.kernel.accessAllowed ? 'block' : 'none';\n",
              "    })();\n",
              "  </script>\n",
              "</div>\n",
              "    </div>\n",
              "  </div>\n"
            ],
            "application/vnd.google.colaboratory.intrinsic+json": {
              "type": "dataframe",
              "variable_name": "df",
              "summary": "{\n  \"name\": \"df\",\n  \"rows\": 2000,\n  \"fields\": [\n    {\n      \"column\": \"CustomerId\",\n      \"properties\": {\n        \"dtype\": \"number\",\n        \"std\": 71927,\n        \"min\": 15565796,\n        \"max\": 15815660,\n        \"num_unique_values\": 2000,\n        \"samples\": [\n          15583221,\n          15770711,\n          15647974\n        ],\n        \"semantic_type\": \"\",\n        \"description\": \"\"\n      }\n    },\n    {\n      \"column\": \"Gender\",\n      \"properties\": {\n        \"dtype\": \"category\",\n        \"num_unique_values\": 2,\n        \"samples\": [\n          \"Male\",\n          \"Female\"\n        ],\n        \"semantic_type\": \"\",\n        \"description\": \"\"\n      }\n    },\n    {\n      \"column\": \"Age\",\n      \"properties\": {\n        \"dtype\": \"number\",\n        \"std\": 10.810696998732293,\n        \"min\": 7.282502961178508,\n        \"max\": 86.99251839355286,\n        \"num_unique_values\": 2000,\n        \"samples\": [\n          32.32088443709466,\n          19.80629007771007\n        ],\n        \"semantic_type\": \"\",\n        \"description\": \"\"\n      }\n    },\n    {\n      \"column\": \"Geography\",\n      \"properties\": {\n        \"dtype\": \"category\",\n        \"num_unique_values\": 2,\n        \"samples\": [\n          \"Germany\",\n          \"France\"\n        ],\n        \"semantic_type\": \"\",\n        \"description\": \"\"\n      }\n    },\n    {\n      \"column\": \"Balance, Euro\",\n      \"properties\": {\n        \"dtype\": \"number\",\n        \"std\": 29308.14589586299,\n        \"min\": 17386.74859262368,\n        \"max\": 231588.6054907227,\n        \"num_unique_values\": 2000,\n        \"samples\": [\n          92981.01460074785,\n          64803.02493218603\n        ],\n        \"semantic_type\": \"\",\n        \"description\": \"\"\n      }\n    },\n    {\n      \"column\": \"EstimatedSalary, Euro\",\n      \"properties\": {\n        \"dtype\": \"number\",\n        \"std\": 40708.979602679035,\n        \"min\": 26.56302767724992,\n        \"max\": 268442.0974712264,\n        \"num_unique_values\": 2000,\n        \"samples\": [\n          65507.80497062145,\n          94909.97191429921\n        ],\n        \"semantic_type\": \"\",\n        \"description\": \"\"\n      }\n    }\n  ]\n}"
            }
          },
          "metadata": {},
          "execution_count": 3
        }
      ]
    },
    {
      "cell_type": "markdown",
      "source": [
        "Формируем выборки по странам (Франция и Германия)"
      ],
      "metadata": {
        "id": "hJlzsq7LOgEJ"
      }
    },
    {
      "cell_type": "code",
      "source": [
        "df_1 = df[df['Country'] == 'France']\n",
        "df_2 = df[df['Country'] == 'Germany']\n",
        "print ('Выборки имеют одинаковую длину: ', len (df_1) == len (df_2))"
      ],
      "metadata": {
        "colab": {
          "base_uri": "https://localhost:8080/"
        },
        "id": "6k977DI2Oidf",
        "outputId": "3c30972c-f2dc-4e5c-d109-6c9a4992f887"
      },
      "execution_count": null,
      "outputs": [
        {
          "output_type": "stream",
          "name": "stdout",
          "text": [
            "Выборки имеют одинаковую длину:  True\n"
          ]
        }
      ]
    },
    {
      "cell_type": "markdown",
      "source": [
        "# Проверяем распределение"
      ],
      "metadata": {
        "id": "U-rppYkdV7uB"
      }
    },
    {
      "cell_type": "markdown",
      "source": [
        "Смотрим распределение через distplot"
      ],
      "metadata": {
        "id": "mwzTwf9-RKJH"
      }
    },
    {
      "cell_type": "code",
      "source": [
        "sns.distplot(df_1['TotalPrice'], 50)\n",
        "sns.distplot(df_2['TotalPrice'], 50)\n"
      ],
      "metadata": {
        "colab": {
          "base_uri": "https://localhost:8080/",
          "height": 848
        },
        "id": "RJnqq-PuRtQV",
        "outputId": "1ef78a94-40ac-4268-8817-849f51c265b6"
      },
      "execution_count": null,
      "outputs": [
        {
          "output_type": "stream",
          "name": "stderr",
          "text": [
            "<ipython-input-34-d7525d25a941>:1: UserWarning: \n",
            "\n",
            "`distplot` is a deprecated function and will be removed in seaborn v0.14.0.\n",
            "\n",
            "Please adapt your code to use either `displot` (a figure-level function with\n",
            "similar flexibility) or `histplot` (an axes-level function for histograms).\n",
            "\n",
            "For a guide to updating your code to use the new functions, please see\n",
            "https://gist.github.com/mwaskom/de44147ed2974457ad6372750bbe5751\n",
            "\n",
            "  sns.distplot(df_1['TotalPrice'], 50)\n",
            "<ipython-input-34-d7525d25a941>:2: UserWarning: \n",
            "\n",
            "`distplot` is a deprecated function and will be removed in seaborn v0.14.0.\n",
            "\n",
            "Please adapt your code to use either `displot` (a figure-level function with\n",
            "similar flexibility) or `histplot` (an axes-level function for histograms).\n",
            "\n",
            "For a guide to updating your code to use the new functions, please see\n",
            "https://gist.github.com/mwaskom/de44147ed2974457ad6372750bbe5751\n",
            "\n",
            "  sns.distplot(df_2['TotalPrice'], 50)\n"
          ]
        },
        {
          "output_type": "execute_result",
          "data": {
            "text/plain": [
              "<Axes: xlabel='TotalPrice', ylabel='Density'>"
            ]
          },
          "metadata": {},
          "execution_count": 34
        },
        {
          "output_type": "display_data",
          "data": {
            "text/plain": [
              "<Figure size 640x480 with 1 Axes>"
            ],
            "image/png": "[encoded data removed]"
          },
          "metadata": {}
        }
      ]
    },
    {
      "cell_type": "markdown",
      "source": [
        "Строим распределение через histplot"
      ],
      "metadata": {
        "id": "2SFf0a5MTHLm"
      }
    },
    {
      "cell_type": "code",
      "source": [
        "sns.histplot(df_1['TotalPrice'], kde=True) #Франция\n",
        "\n",
        "sns.histplot(df_2['TotalPrice'], kde=True) #Германия"
      ],
      "metadata": {
        "colab": {
          "base_uri": "https://localhost:8080/",
          "height": 466
        },
        "id": "qXHIDoSGSdwt",
        "outputId": "ad9da7a7-f204-467e-a059-3db429e0d14e"
      },
      "execution_count": null,
      "outputs": [
        {
          "output_type": "execute_result",
          "data": {
            "text/plain": [
              "<Axes: xlabel='TotalPrice', ylabel='Count'>"
            ]
          },
          "metadata": {},
          "execution_count": 35
        },
        {
          "output_type": "display_data",
          "data": {
            "text/plain": [
              "<Figure size 640x480 with 1 Axes>"
            ],
            "image/png": "[encoded data removed]"
          },
          "metadata": {}
        }
      ]
    },
    {
      "cell_type": "markdown",
      "source": [
        "Выведем график распределения продаж отдельно для Франции"
      ],
      "metadata": {
        "id": "DuCoA5m3c7K3"
      }
    },
    {
      "cell_type": "code",
      "source": [
        "sns.histplot(df_1['TotalPrice'], kde=True) #Франция"
      ],
      "metadata": {
        "colab": {
          "base_uri": "https://localhost:8080/",
          "height": 470
        },
        "id": "J5c7CQ5ic-g3",
        "outputId": "e565afe2-ac04-4458-fc0b-534ac042fc65"
      },
      "execution_count": null,
      "outputs": [
        {
          "output_type": "execute_result",
          "data": {
            "text/plain": [
              "<Axes: xlabel='TotalPrice', ylabel='Count'>"
            ]
          },
          "metadata": {},
          "execution_count": 47
        },
        {
          "output_type": "display_data",
          "data": {
            "text/plain": [
              "<Figure size 640x480 with 1 Axes>"
            ],
            "image/png": "[encoded data removed]"
          },
          "metadata": {}
        }
      ]
    },
    {
      "cell_type": "markdown",
      "source": [
        "Выведем график распределения продаж отдельно для Германии"
      ],
      "metadata": {
        "id": "fusX1dX8dEhl"
      }
    },
    {
      "cell_type": "code",
      "source": [
        "sns.histplot(df_2['TotalPrice'], kde=True) #Германия"
      ],
      "metadata": {
        "colab": {
          "base_uri": "https://localhost:8080/",
          "height": 470
        },
        "id": "I-U03g-ndJT1",
        "outputId": "147ceb6b-0aee-4689-88cc-0322a35e281f"
      },
      "execution_count": null,
      "outputs": [
        {
          "output_type": "execute_result",
          "data": {
            "text/plain": [
              "<Axes: xlabel='TotalPrice', ylabel='Count'>"
            ]
          },
          "metadata": {},
          "execution_count": 48
        },
        {
          "output_type": "display_data",
          "data": {
            "text/plain": [
              "<Figure size 640x480 with 1 Axes>"
            ],
            "image/png": "[encoded data removed]"
          },
          "metadata": {}
        }
      ]
    },
    {
      "cell_type": "markdown",
      "source": [
        "Выводы: при изучении графиков распределения продаж мы видим, что график Германии имеет нормальное распределение. График  Франции имеет некоторое отклонение от нормального распределения, но очень близок к нему."
      ],
      "metadata": {
        "id": "XlmGXUoJVPH5"
      }
    },
    {
      "cell_type": "markdown",
      "source": [
        "# Проверка гипотезы\n",
        "H0 = Объёмы продаж Франции и Германии не имеют существенных различий"
      ],
      "metadata": {
        "id": "BPCqxEIZVvq-"
      }
    },
    {
      "cell_type": "markdown",
      "source": [
        "Подключения библиотек статистических критериев и задание уровня значимости"
      ],
      "metadata": {
        "id": "pVgdEAoaX2uy"
      }
    },
    {
      "cell_type": "code",
      "source": [
        "from scipy.stats import ttest_ind\n",
        "from scipy.stats import mannwhitneyu\n",
        "\n",
        "alpha = 0.05                          # Уровень значимости"
      ],
      "metadata": {
        "id": "ln9wsDarX347"
      },
      "execution_count": null,
      "outputs": []
    },
    {
      "cell_type": "markdown",
      "source": [
        "Проведение Т-Теста (t-критерий Стьюдента)"
      ],
      "metadata": {
        "id": "H6kjIRkdYKmn"
      }
    },
    {
      "cell_type": "code",
      "source": [
        "result = ttest_ind(df_1['TotalPrice'], df_2['TotalPrice'])\n",
        "print('p-value: %.8f' % result.pvalue)\n",
        "\n",
        "if (result.pvalue < alpha):\n",
        "    print('Отвергаем нулевую гипотезу')\n",
        "else:\n",
        "    print('Не отвергаем нулевую гипотезу')"
      ],
      "metadata": {
        "colab": {
          "base_uri": "https://localhost:8080/"
        },
        "id": "iebQtZSnYLcf",
        "outputId": "22810b69-0f58-41bc-cfa8-71af13376184"
      },
      "execution_count": null,
      "outputs": [
        {
          "output_type": "stream",
          "name": "stdout",
          "text": [
            "p-value: 0.00000000\n",
            "Отвергаем нулевую гипотезу\n"
          ]
        }
      ]
    },
    {
      "cell_type": "markdown",
      "source": [
        "Проведение теста Манна — Уитни (U-критерий Манна — Уитни)"
      ],
      "metadata": {
        "id": "peCb6yFFYaER"
      }
    },
    {
      "cell_type": "code",
      "source": [
        "result = mannwhitneyu(df_1['TotalPrice'], df_2['TotalPrice'])\n",
        "print('p-value: %.8f' % result.pvalue)\n",
        "\n",
        "if (result.pvalue < alpha):\n",
        "    print('Отвергаем нулевую гипотезу')\n",
        "else:\n",
        "    print('Не отвергаем нулевую гипотезу')"
      ],
      "metadata": {
        "colab": {
          "base_uri": "https://localhost:8080/"
        },
        "id": "3kP1gY6dYvEX",
        "outputId": "3f3dcfbc-803e-4df6-d3cd-65902eeb38a8"
      },
      "execution_count": null,
      "outputs": [
        {
          "output_type": "stream",
          "name": "stdout",
          "text": [
            "p-value: 0.00000000\n",
            "Отвергаем нулевую гипотезу\n"
          ]
        }
      ]
    },
    {
      "cell_type": "markdown",
      "source": [
        "Проверка Bootstrap"
      ],
      "metadata": {
        "id": "Y3CyzzI5ZNEk"
      }
    },
    {
      "cell_type": "code",
      "source": [
        "from scipy.stats import norm\n",
        "from tqdm.auto import tqdm\n",
        "\n",
        "alpha = 0.05                          # Уровень значимости"
      ],
      "metadata": {
        "id": "bi4JRSAOZOKs"
      },
      "execution_count": null,
      "outputs": []
    },
    {
      "cell_type": "code",
      "source": [
        "def get_bootstrap(\n",
        "    data_column_1,                    # Числовые значения первой выборки\n",
        "    data_column_2,                    # Числовые значения второй выборки\n",
        "    boot_it = 1000,                   # Количество бутстрэп-подвыборок\n",
        "    statistic = np.mean,              # Интересующая нас статистика\n",
        "    bootstrap_conf_level = 1-alpha    # Уровень значимости\n",
        "):\n",
        "\n",
        "    boot_len = max([len(data_column_1), len(data_column_2)])\n",
        "    boot_data = []\n",
        "    for i in tqdm(range(boot_it)):    # Извлекаем подвыборки\n",
        "        samples_1 = data_column_1.sample(\n",
        "            boot_len,\n",
        "            replace = True            # Параметр возвращения\n",
        "        ).values\n",
        "\n",
        "        samples_2 = data_column_2.sample(\n",
        "            boot_len,                 # Чтобы сохранить дисперсию, берем такой же размер выборки\n",
        "            replace = True\n",
        "        ).values\n",
        "\n",
        "        boot_data.append(statistic(samples_1-samples_2))\n",
        "    pd_boot_data = pd.DataFrame(boot_data)\n",
        "\n",
        "    left_quant = (1 - bootstrap_conf_level)/2\n",
        "    right_quant = 1 - (1 - bootstrap_conf_level) / 2\n",
        "    quants = pd_boot_data.quantile([left_quant, right_quant])\n",
        "\n",
        "    p_1 = norm.cdf(\n",
        "        x = 0,\n",
        "        loc = np.mean(boot_data),\n",
        "        scale = np.std(boot_data)\n",
        "    )\n",
        "    p_2 = norm.cdf(\n",
        "        x = 0,\n",
        "        loc = -np.mean(boot_data),\n",
        "        scale = np.std(boot_data)\n",
        "    )\n",
        "    p_value = min(p_1, p_2) * 2\n",
        "\n",
        "    # Визуализация\n",
        "    _, _, bars = plt.hist(pd_boot_data[0], bins = 50)\n",
        "    for bar in bars:\n",
        "        if abs(bar.get_x()) <= quants.iloc[0][0] or abs(bar.get_x()) >= quants.iloc[1][0]:\n",
        "            bar.set_facecolor('red')\n",
        "        else:\n",
        "            bar.set_facecolor('grey')\n",
        "            bar.set_edgecolor('black')\n",
        "\n",
        "    plt.style.use('ggplot')\n",
        "    plt.vlines(quants,ymin=0,ymax=50,linestyle='--')\n",
        "    plt.xlabel('boot_data')\n",
        "    plt.ylabel('frequency')\n",
        "    plt.title(\"Histogram of boot_data\")\n",
        "    plt.show()\n",
        "\n",
        "    print('p-value: %.8f' % p_value)\n",
        "\n",
        "    return p_value"
      ],
      "metadata": {
        "id": "hp4AaXFnZU7E"
      },
      "execution_count": null,
      "outputs": []
    },
    {
      "cell_type": "code",
      "source": [
        "tmp_boot = get_bootstrap(\n",
        "    df_1['TotalPrice'],                 # числовые значения первой выборки\n",
        "    df_2['TotalPrice'],                 # числовые значения второй выборки\n",
        "    boot_it = 1000,                 # количество бутстрэп-подвыборок\n",
        "    statistic = np.mean,            # интересующая нас статистика\n",
        "    bootstrap_conf_level = 1-alpha  # уровень значимости\n",
        ")\n",
        "\n",
        "if (tmp_boot < alpha):\n",
        "    print('Отвергаем нулевую гипотезу')\n",
        "else:\n",
        "    print('Не отвергаем нулевую гипотезу')"
      ],
      "metadata": {
        "colab": {
          "base_uri": "https://localhost:8080/",
          "height": 540,
          "referenced_widgets": [
            "214cc6c7a10e48f2a133a7d850363d48",
            "a8445346a9d24bd5b2b0b9b23aa1ded3",
            "4a9d40723c33400ab04d14705f4a6452",
            "684176a801a941588fc73fb1c82f93ad",
            "cc595501bb0b4759bb72b84f3501cb56",
            "9ff482aa4243481da305bde0959daff2",
            "19f77f2b5abf459cba7754de9bf4d5f4",
            "e5ff58dda9a34f60a2c6aba7749ab414",
            "0b9ebca23c554f7f8f11ca415f452cb5",
            "bf0b7d0f69464650852772514b97eb74",
            "d66154368467491385c3d985da39d381"
          ]
        },
        "id": "8KpCVbzlZko5",
        "outputId": "5b6d20f7-7ed0-40c4-8332-3172a508f951"
      },
      "execution_count": null,
      "outputs": [
        {
          "output_type": "display_data",
          "data": {
            "text/plain": [
              "  0%|          | 0/1000 [00:00<?, ?it/s]"
            ],
            "application/vnd.jupyter.widget-view+json": {
              "version_major": 2,
              "version_minor": 0,
              "model_id": "214cc6c7a10e48f2a133a7d850363d48"
            }
          },
          "metadata": {}
        },
        {
          "output_type": "display_data",
          "data": {
            "text/plain": [
              "<Figure size 640x480 with 1 Axes>"
            ],
            "image/png": "[encoded data removed]"
          },
          "metadata": {}
        },
        {
          "output_type": "stream",
          "name": "stdout",
          "text": [
            "p-value: 0.00000000\n",
            "Отвергаем нулевую гипотезу\n"
          ]
        }
      ]
    },
    {
      "cell_type": "markdown",
      "source": [
        "Выводы: все способы проверки гипотезы, используемые в исследовании подтвердили, что H0 отвергается. Следовательно объемы продаж во Франции и Германии статистически различаются."
      ],
      "metadata": {
        "id": "jer_U-0paeyr"
      }
    }
  ]
}