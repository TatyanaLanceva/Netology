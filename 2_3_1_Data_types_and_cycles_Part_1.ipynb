{
  "nbformat": 4,
  "nbformat_minor": 0,
  "metadata": {
    "colab": {
      "provenance": [],
      "authorship_tag": "ABX9TyNqAdQL1oT9CePY7RMY70ff",
      "include_colab_link": true
    },
    "kernelspec": {
      "name": "python3",
      "display_name": "Python 3"
    },
    "language_info": {
      "name": "python"
    }
  },
  "cells": [
    {
      "cell_type": "markdown",
      "metadata": {
        "id": "view-in-github",
        "colab_type": "text"
      },
      "source": [
        "<a href=\"https://colab.research.google.com/github/TatyanaLanceva/Netology/blob/main/2_3_1_Data_types_and_cycles_Part_1.ipynb\" target=\"_parent\"><img src=\"https://colab.research.google.com/assets/colab-badge.svg\" alt=\"Open In Colab\"/></a>"
      ]
    },
    {
      "cell_type": "markdown",
      "source": [
        "**Задание 1**\n",
        "Дана переменная, в которой хранится слово из латинских букв. Напишите код, который выводит на экран:\n",
        "\n",
        "среднюю букву, если число букв в слове нечетное;\n",
        "две средних буквы, если число букв четное."
      ],
      "metadata": {
        "id": "M-BRteYBWBIM"
      }
    },
    {
      "cell_type": "code",
      "source": [
        "w = input('word = ')\n",
        "if len(w) % 2 == 1:\n",
        "    print(w[len(w) // 2])\n",
        "else:\n",
        "    print(w[len(w) // 2 - 1: len(w) // 2 + 1])"
      ],
      "metadata": {
        "colab": {
          "base_uri": "https://localhost:8080/"
        },
        "id": "y22P1G-JWDth",
        "outputId": "c126706d-2db4-48d0-e777-a7207d4305b6"
      },
      "execution_count": null,
      "outputs": [
        {
          "output_type": "stream",
          "name": "stdout",
          "text": [
            "word = testing\n",
            "t\n"
          ]
        }
      ]
    },
    {
      "cell_type": "markdown",
      "source": [
        "**Задание 2**\n",
        "Напишите программу, которая последовательно запрашивает у пользователя числа (по одному за раз) и после первого нуля выводит сумму всех ранее введенных чисел."
      ],
      "metadata": {
        "id": "FYxDox_00-eD"
      }
    },
    {
      "cell_type": "code",
      "source": [
        "number = 1\n",
        "sum = 0\n",
        "while number:\n",
        "    number = int(input('Введите число:'))\n",
        "    sum += number\n",
        "print('Результат:',sum)"
      ],
      "metadata": {
        "id": "16vfsMok-hrG",
        "colab": {
          "base_uri": "https://localhost:8080/"
        },
        "outputId": "d4337709-3334-4ebd-b0d1-3ce8aff3d011"
      },
      "execution_count": null,
      "outputs": [
        {
          "output_type": "stream",
          "name": "stdout",
          "text": [
            "Введите число:0\n",
            "Результат: 0\n"
          ]
        }
      ]
    },
    {
      "cell_type": "markdown",
      "source": [
        "**Задание 3**\n",
        "Мы делаем MVP dating-сервиса, и у нас есть список парней и девушек.\n",
        "Выдвигаем гипотезу: лучшие рекомендации мы получим, если просто отсортируем имена по алфавиту и познакомим людей с одинаковыми индексами после сортировки! Но мы не будем никого знакомить, если кто-то может остаться без пары:"
      ],
      "metadata": {
        "id": "XWBlggtOAwl0"
      }
    },
    {
      "cell_type": "code",
      "source": [
        "# Вариант пары совпали\n",
        "\n",
        "boys = ['Peter', 'Alex', 'John', 'Arthur', 'Richard']\n",
        "girls = ['Kate', 'Liza', 'Kira', 'Emma', 'Trisha']\n",
        "\n",
        "if len(boys) != len(girls):\n",
        "    print('Внимание, кто-то может остаться без пары!')\n",
        "\n",
        "else:\n",
        "    print('Идеальные пары:')\n",
        "    girls.sort()\n",
        "    boys.sort()\n",
        "    dating = zip(boys, girls)\n",
        "    for company in dating:\n",
        "       print(f'{company[0]} и {company[1]}')"
      ],
      "metadata": {
        "colab": {
          "base_uri": "https://localhost:8080/"
        },
        "id": "BLTy_u_zE7xX",
        "outputId": "62e73a0c-99a7-4865-c1ca-4eb9d6641ac7"
      },
      "execution_count": null,
      "outputs": [
        {
          "output_type": "stream",
          "name": "stdout",
          "text": [
            "Идеальные пары:\n",
            "Alex и Emma\n",
            "Arthur и Kate\n",
            "John и Kira\n",
            "Peter и Liza\n",
            "Richard и Trisha\n"
          ]
        }
      ]
    },
    {
      "cell_type": "code",
      "source": [
        "# Вариант пары не совпали\n",
        "\n",
        "boys = ['Peter', 'Alex', 'John', 'Arthur', 'Richard', 'Michael']\n",
        "girls = ['Kate', 'Liza', 'Kira', 'Emma', 'Trisha']\n",
        "\n",
        "if len(boys) != len(girls):\n",
        "    print('Внимание, кто-то может остаться без пары!')\n",
        "\n",
        "else:\n",
        "    print('Идеальные пары:')\n",
        "    girls.sort()\n",
        "    boys.sort()\n",
        "    dating = zip(boys, girls)\n",
        "    for company in dating:\n",
        "       print(f'{company[0]} и {company[1]}')"
      ],
      "metadata": {
        "colab": {
          "base_uri": "https://localhost:8080/"
        },
        "id": "1nRWQ0gOF2yb",
        "outputId": "afa7fe66-fd61-4060-f2a8-04ab066cc74f"
      },
      "execution_count": null,
      "outputs": [
        {
          "output_type": "stream",
          "name": "stdout",
          "text": [
            "Внимание, кто-то может остаться без пары!\n"
          ]
        }
      ]
    },
    {
      "cell_type": "markdown",
      "source": [
        "**Задание 4**\n",
        "У нас есть список, содержащий информацию о среднедневной температуре в Фаренгейтах за произвольный период по странам (структура данных в примере). Необходимо написать код, который рассчитает среднюю температуру за период в Цельсиях(!) для каждой страны."
      ],
      "metadata": {
        "id": "arzM5PPgHtH1"
      }
    },
    {
      "cell_type": "code",
      "source": [
        "countries_temperature = [\n",
        "    ['Thailand', [75.2, 77, 78.8, 73.4, 68, 75.2, 77]],\n",
        "    ['Germany', [57.2, 55.4, 59, 59, 53.6]],\n",
        "    ['Russia', [35.6, 37.4, 39.2, 41, 42.8, 39.2, 35.6]],\n",
        "    ['Poland', [50, 50, 53.6, 57.2, 55.4, 55.4]]\n",
        "]\n",
        "print('Средняя температура в странах: ')\n",
        "for Country, Temperature in countries_temperature:\n",
        "  Tsum = 0\n",
        "  for T in Temperature:\n",
        "    Tsum += (T - 32)*5/9\n",
        "  print('%10s  %5.1f' % (Country, Tsum/len(Temperature)))"
      ],
      "metadata": {
        "colab": {
          "base_uri": "https://localhost:8080/"
        },
        "id": "PB28pDI8JKCZ",
        "outputId": "34514d51-30b7-45a2-ce84-370c6b5da280"
      },
      "execution_count": null,
      "outputs": [
        {
          "output_type": "stream",
          "name": "stdout",
          "text": [
            "Средняя температура в странах: \n",
            "  Thailand   23.9\n",
            "   Germany   13.8\n",
            "    Russia    3.7\n",
            "    Poland   12.0\n"
          ]
        }
      ]
    },
    {
      "cell_type": "markdown",
      "source": [
        "**Задание 5 (необязательное)**\n",
        "Имеется список с транспортными номерами. Необходимо написать код, который проверит каждый номер на валидность (1 буква, 3 цифры, 2 буквы, 2-3 цифры). Обратите внимание, что не все буквы кириллического алфавита используются в транспортных номерах.\n",
        "\n",
        "Если номер валиден, то вывести его в нужном формавте (пример ниже), а если не валиден — вывести текст. При решении помогут регулярные выражения, с которыми будет знакомство на практике."
      ],
      "metadata": {
        "id": "XlEmrQkpMM_Q"
      }
    },
    {
      "cell_type": "code",
      "source": [
        "import re\n",
        "regexp = re.compile(r'^[АВЕКМНОРСТУХ]\\d{3}[АВЕКМНОРСТУХ]{2}(?P<reg>\\d{2,3})$')\n",
        "car_id=input()\n",
        "match = regexp.match(car_id)\n",
        "if match:\n",
        "    print(f\"Результат: Номер {car_id} валиден. Регион: {match['reg']}\")\n",
        "else:\n",
        "    print(f\"Результат: Номер {car_id} не валиден\")"
      ],
      "metadata": {
        "colab": {
          "base_uri": "https://localhost:8080/"
        },
        "id": "21ZAVjC7NPyl",
        "outputId": "d569f2d5-0ac3-4472-9935-e8fd7646ddbd"
      },
      "execution_count": null,
      "outputs": [
        {
          "output_type": "stream",
          "name": "stdout",
          "text": [
            "А222ВС96\n",
            "Результат: Номер А222ВС96 валиден. Регион: 96\n"
          ]
        }
      ]
    }
  ]
}