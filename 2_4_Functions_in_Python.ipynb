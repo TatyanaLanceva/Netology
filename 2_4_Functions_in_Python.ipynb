{
  "nbformat": 4,
  "nbformat_minor": 0,
  "metadata": {
    "colab": {
      "provenance": [],
      "authorship_tag": "ABX9TyNkc2G+1LiWthFXaAdUnLpb",
      "include_colab_link": true
    },
    "kernelspec": {
      "name": "python3",
      "display_name": "Python 3"
    },
    "language_info": {
      "name": "python"
    }
  },
  "cells": [
    {
      "cell_type": "markdown",
      "metadata": {
        "id": "view-in-github",
        "colab_type": "text"
      },
      "source": [
        "<a href=\"https://colab.research.google.com/github/TatyanaLanceva/Netology/blob/main/2_4_Functions_in_Python.ipynb\" target=\"_parent\"><img src=\"https://colab.research.google.com/assets/colab-badge.svg\" alt=\"Open In Colab\"/></a>"
      ]
    },
    {
      "cell_type": "markdown",
      "source": [
        "Вам нужно помочь секретарю автоматизировать работу. Для этого нужно написать программу, которая будет на основе хранимых данных исполнять пользовательские команды.\n",
        "\n",
        "Исходные данные имеют следующую структуру:\n",
        "\n",
        "    Перечень всех документов.\n",
        "    documents = [\n",
        "    {‘type’: ‘passport’, ‘number’: ‘2207 876234’, ‘name’: ‘Василий Гупкин’},\n",
        "    {‘type’: ‘invoice’, ‘number’: ‘11-2’, ‘name’: ‘Геннадий Покемонов’},\n",
        "    {‘type’: ‘insurance’, ‘number’: ‘10006’, ‘name’: ‘Аристарх Павлов’}\n",
        "    ]\n",
        "    Перечень полок, на которых хранятся документы. Если документ есть в documents, то он обязательно должен быть и в directories.\n",
        "    directories = {\n",
        "    ‘1’: [‘2207 876234’, ‘11-2’],\n",
        "    ‘2’: [‘10006’],\n",
        "    ‘3’: []\n",
        "    }\n",
        "    Общие требования к программе:\n",
        "\n",
        "    код должен быть грамотно декомпозирован: каждая функция отвечает за свою конкретную задачу, дублирующийся функционал переиспользуется, а его код не повторяется;\n",
        "    в коде отсутствуют глобальные переменные, за исключением documents и directories;\n",
        "    пользовательский ввод обрабатывается в цикле while до тех пор, пока пользователь явно не завершит программу вводом команды «q».\n",
        "\n",
        "*Пункт 1.*\n",
        "\n",
        "Пользователь по команде «p» может узнать владельца документа по его номеру.\n",
        "Примеры работы:\n",
        "\n",
        "Введите команду:\n",
        "p\n",
        "\n",
        "Введите номер документа:\n",
        "10006\n",
        "Результат:\n",
        "Владелец документа: Аристарх Павлов\n",
        "\n",
        "Введите команду:\n",
        "p\n",
        "\n",
        "Введите номер документа:\n",
        "12345\n",
        "Результат:\n",
        "Документ не найден в базе\n",
        "\n",
        "*Пункт 2.*\n",
        "\n",
        "Пользователь по команде «s» может по номеру документа узнать, на какой полке он хранится.\n",
        "Примеры работы:\n",
        "\n",
        "Введите команду:\n",
        "s\n",
        "\n",
        "Введите номер документа:\n",
        "10006\n",
        "Результат:\n",
        "Документ хранится на полке: 2\n",
        "\n",
        "Введите команду:\n",
        "s\n",
        "\n",
        "Введите номер документа:\n",
        "12345\n",
        "Результат:\n",
        "Документ не найден в базе\n",
        "\n",
        "*Пункт 3.*\n",
        "\n",
        "Пользователь по команде «l» может увидеть полную информацию по всем документам.\n",
        "Пример работы:\n",
        "\n",
        "Введите команду:\n",
        "l\n",
        "Результат:\n",
        "\n",
        "№: 2207 876234, тип: passport, владелец: Василий Гупкин, полка хранения: 1\n",
        "№: 11-2, тип: invoice, владелец: Геннадий Покемонов, полка хранения: 1\n",
        "№: 10006, тип: insurance, владелец: Аристарх Павлов, полка хранения: 2\n",
        "\n",
        "\n",
        "*Пункт 4.*\n",
        "\n",
        "Пользователь по команде «ads» может добавить новую полку.\n",
        "Примеры работы:\n",
        "\n",
        "Введите команду:\n",
        "ads\n",
        "\n",
        "Введите номер полки:\n",
        "10\n",
        "Результат:\n",
        "Полка добавлена. Текущий перечень полок: 1, 2, 3, 10.\n",
        "\n",
        "Введите команду:\n",
        "ads\n",
        "\n",
        "Введите номер полки:\n",
        "1\n",
        "Результат:\n",
        "Такая полка уже существует. Текущий перечень полок: 1, 2, 3.\n",
        "\n",
        "*Пункт 5.*\n",
        "\n",
        "Пользователь по команде «ds» может удалить существующую полку из данных, только если она пустая.\n",
        "Примеры работы:\n",
        "\n",
        "Введите команду:\n",
        "ds\n",
        "\n",
        "Введите номер полки:\n",
        "3\n",
        "Результат:\n",
        "Полка удалена. Текущий перечень полок: 1, 2.\n",
        "\n",
        "Введите команду:\n",
        "ds\n",
        "\n",
        "Введите номер полки:\n",
        "1\n",
        "Результат:\n",
        "На полке есть документы, удалите их перед удалением полки. Текущий перечень полок: 1, 2, 3.\n",
        "\n",
        "Введите команду:\n",
        "ds\n",
        "\n",
        "Введите номер полки:\n",
        "4\n",
        "Результат:\n",
        "Такой полки не существует. Текущий перечень полок: 1, 2, 3"
      ],
      "metadata": {
        "id": "-RI1Bzf6kX0A"
      }
    },
    {
      "cell_type": "code",
      "execution_count": null,
      "metadata": {
        "id": "mVEEOMLsLnHV"
      },
      "outputs": [],
      "source": [
        "# Перечень всех документов\n",
        "documents = [\n",
        "    {'type': 'passport', 'number': '2207 876234', 'name': 'Василий Гупкин'},\n",
        "    {'type': 'invoice', 'number': '11-2', 'name': 'Геннадий Покемонов'},\n",
        "    {'type': 'insurance', 'number': '10006', 'name': 'Аристарх Павлов'}\n",
        "]\n",
        "\n",
        "# Перечень полок, на которых хранятся документы (если документ есть в documents, то он обязательно должен быть и в directories)\n",
        "\n",
        "directories = {\n",
        "    '1': ['2207 876234', '11-2'],\n",
        "    '2': ['10006'],\n",
        "    '3': []\n",
        "}"
      ]
    },
    {
      "cell_type": "code",
      "source": [
        "# Перечень функций для заданий:\n",
        "# p - поиск владельца документа по его номеру\n",
        "# s - поиск полки, на которой хранится документ по номеру\n",
        "# l - полная информация по всем документам\n",
        "# ads - добавить новую полку\n",
        "# ds - удалить полку\n"
      ],
      "metadata": {
        "id": "Fzg0EPzKLx-j"
      },
      "execution_count": null,
      "outputs": []
    },
    {
      "cell_type": "code",
      "source": [
        "#Зададим функцию поиска владельца по номеру докумена (Задание 1, функция p)\n",
        "\n",
        "def get_man_by_number():\n",
        "    doc_number = input('Введите номер документа:')\n",
        "    for document in documents:\n",
        "        if document['number'] == doc_number:\n",
        "            print(f'Владелец документа: {document[\"name\"]}')\n",
        "            return\n",
        "    else:\n",
        "        print('Документ не найден в базе')\n",
        "\n"
      ],
      "metadata": {
        "id": "9JFf94-NOWVH"
      },
      "execution_count": null,
      "outputs": []
    },
    {
      "cell_type": "code",
      "source": [
        "#Зададим функцию для поиска полки по номеру документа. (Задание 2, функция s)\n",
        "\n",
        "def get_shelf_number_by_doc():\n",
        "    doc_number = input('Введите номер документа: ')\n",
        "    found_document = next((doc for doc in documents if doc[\"number\"] == doc_number), None)\n",
        "    if not found_document:\n",
        "        print('Документ не найден в базе')\n",
        "        return\n",
        "    for shelf, doc_numbers in directories.items():\n",
        "        if doc_number in doc_numbers:\n",
        "            print(f'Документ хранится на полке: {shelf}')\n",
        "            return\n",
        "    print('Документ не найден в базе')\n",
        "\n"
      ],
      "metadata": {
        "id": "XNpziC3LQzZY"
      },
      "execution_count": null,
      "outputs": []
    },
    {
      "cell_type": "code",
      "source": [
        "#Зададим функцию для получения всей информации по всем документам. (Задание 3, функция l)\n",
        "\n",
        "def find_shelf(doc_number):\n",
        "    for shelf, numbers in directories.items():\n",
        "        if doc_number in numbers:\n",
        "            return shelf\n",
        "    return \"Полка не найдена\"\n",
        "def get_documents_list():\n",
        "    for document in documents:\n",
        "        shelf = find_shelf(document[\"number\"])\n",
        "        print(f\"№: {document['number']}, тип: {document['type']}, владелец: {document['name']}, полка хранения: {shelf}\")\n",
        "\n"
      ],
      "metadata": {
        "id": "_-nSXv---yij"
      },
      "execution_count": null,
      "outputs": []
    },
    {
      "cell_type": "code",
      "source": [
        "#Зададим функцию добавления новой полки. (Задание 4, функция ads).\n",
        "\n",
        "def add_new_shelf():\n",
        "    new_shelf = input('Введите номер новой полки: ').strip()\n",
        "    if new_shelf in directories:\n",
        "        print(f'Такая полка уже существует. Текущий перечень полок: {\", \".join(directories)}.')\n",
        "    else:\n",
        "        directories[new_shelf] = []\n",
        "        print(f'Полка добавлена. Текущий перечень полок: {\", \".join(directories)}.')\n",
        "\n"
      ],
      "metadata": {
        "id": "5mowHYX1Dl53"
      },
      "execution_count": null,
      "outputs": []
    },
    {
      "cell_type": "code",
      "source": [
        "#Зададим функцию удаления полки. (Задание 5, функция ds)\n",
        "\n",
        "def del_shelf():\n",
        "    user_shelf_del = input('Введите номер полки: ')\n",
        "    if user_shelf_del not in directories:\n",
        "        print(f'Такой полки не существует. Текущий перечень полок: {\", \".join(directories)}.')\n",
        "    elif directories[user_shelf_del]:\n",
        "        print(f'На полке есть документы, удалите их перед удалением полки. Текущий перечень полок: {\", \".join(directories)}.')\n",
        "    else:\n",
        "        del directories[user_shelf_del]\n",
        "        print(f'Полка удалена. Текущий перечень полок: {\", \".join(directories)}.')\n",
        "\n"
      ],
      "metadata": {
        "id": "PL5Wyo4CJRXo"
      },
      "execution_count": null,
      "outputs": []
    },
    {
      "cell_type": "code",
      "source": [
        "#Перечень введенных функций\n",
        "\n",
        "functions = {\n",
        "    'p': get_man_by_number,\n",
        "    's': get_shelf_number_by_doc,\n",
        "    'l': get_documents_list,\n",
        "    'ads': add_new_shelf,\n",
        "    'ds': del_shelf\n",
        "     }"
      ],
      "metadata": {
        "id": "-PBhhejDMOBW"
      },
      "execution_count": null,
      "outputs": []
    },
    {
      "cell_type": "code",
      "source": [
        "# Основное меню\n",
        "\n",
        "def check_user_input():\n",
        "    user_input = input('Введите команду: ')\n",
        "    if user_input.lower().strip() in {'p','s','l','ads','ds'}:\n",
        "        return user_input.lower().strip()\n",
        "def main():\n",
        "   while True:\n",
        "     inp=check_user_input()\n",
        "     if inp:\n",
        "         print('')\n",
        "         functions[inp]()\n",
        "     else:\n",
        "      break\n",
        "\n",
        "main()\n"
      ],
      "metadata": {
        "colab": {
          "base_uri": "https://localhost:8080/"
        },
        "id": "9ZBHpf_6Mn25",
        "outputId": "19d082f0-526e-41f2-e2b7-5c238322d176"
      },
      "execution_count": null,
      "outputs": [
        {
          "name": "stdout",
          "output_type": "stream",
          "text": [
            "Введите команду: p\n",
            "\n",
            "Введите номер документа:10006\n",
            "Владелец документа: Аристарх Павлов\n",
            "Введите команду: p\n",
            "\n",
            "Введите номер документа:12345\n",
            "Документ не найден в базе\n",
            "Введите команду: s\n",
            "\n",
            "Введите номер документа: 10006\n",
            "Документ хранится на полке: 2\n",
            "Введите команду: s\n",
            "\n",
            "Введите номер документа: 12345\n",
            "Документ не найден в базе\n",
            "Введите команду: l\n",
            "\n",
            "№: 2207 876234, тип: passport, владелец: Василий Гупкин, полка хранения: 1\n",
            "№: 11-2, тип: invoice, владелец: Геннадий Покемонов, полка хранения: 1\n",
            "№: 10006, тип: insurance, владелец: Аристарх Павлов, полка хранения: 2\n",
            "Введите команду: ads\n",
            "\n",
            "Введите номер новой полки: 10\n",
            "Полка добавлена. Текущий перечень полок: 1, 2, 3, 10.\n",
            "Введите команду: ads\n",
            "\n",
            "Введите номер новой полки: 1\n",
            "Такая полка уже существует. Текущий перечень полок: 1, 2, 3, 10.\n",
            "Введите команду: ds\n",
            "\n",
            "Введите номер полки: 4\n",
            "Такой полки не существует. Текущий перечень полок: 1, 2, 3, 10.\n",
            "Введите команду: ds\n",
            "\n",
            "Введите номер полки: 5\n",
            "Такой полки не существует. Текущий перечень полок: 1, 2, 3, 10.\n",
            "Введите команду: q\n"
          ]
        }
      ]
    }
  ]
}