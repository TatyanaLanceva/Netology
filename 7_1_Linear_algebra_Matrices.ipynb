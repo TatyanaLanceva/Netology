{
  "nbformat": 4,
  "nbformat_minor": 0,
  "metadata": {
    "colab": {
      "provenance": [],
      "include_colab_link": true
    },
    "kernelspec": {
      "name": "python3",
      "display_name": "Python 3"
    }
  },
  "cells": [
    {
      "cell_type": "markdown",
      "metadata": {
        "id": "view-in-github",
        "colab_type": "text"
      },
      "source": [
        "<a href=\"https://colab.research.google.com/github/TatyanaLanceva/Netology/blob/main/7_1_Linear_algebra_Matrices.ipynb\" target=\"_parent\"><img src=\"https://colab.research.google.com/assets/colab-badge.svg\" alt=\"Open In Colab\"/></a>"
      ]
    },
    {
      "cell_type": "markdown",
      "metadata": {
        "id": "_kX74ytuOfgy"
      },
      "source": [
        "# Домашнее задание \"Линейная алгебра. Матрицы\"."
      ]
    },
    {
      "cell_type": "markdown",
      "source": [
        "## Уровень 0:\n"
      ],
      "metadata": {
        "id": "t69IZulqTZMz"
      }
    },
    {
      "cell_type": "markdown",
      "source": [
        "### Задание 1"
      ],
      "metadata": {
        "id": "9JUikPzroAL8"
      }
    },
    {
      "cell_type": "markdown",
      "source": [
        " - Создайте матрицу 3 на 3, заполненную числами от 1 до 9\n",
        " - Прибавьте к ней матрицу с единицами на диагонале\n",
        " - Умножьте полученную матрицу на вектор (1, 2, 3)\n",
        " - Вычислить транспонированную матрицу $A^T$ от полученной в результате прибавления матрицы\n",
        " - Посчитайте обратную матрицу к полученной в результате прибавления матрице\n"
      ],
      "metadata": {
        "id": "ya8BlSO5nQ9a"
      }
    },
    {
      "cell_type": "code",
      "source": [
        "### YOUR CODE HERE\n",
        "import numpy as np\n",
        "\n",
        "# Создайте матрицу 3 на 3, заполненную числами от 1 до 9\n",
        "matrix = np.array([\n",
        "    [1, 2, 3],\n",
        "    [4, 5, 6],\n",
        "    [7, 8, 9]\n",
        "])\n",
        "print(f'Телефонная матрица:\\n {matrix}')\n",
        "print()\n",
        "\n",
        "matrix1 = np.array([\n",
        "    [1, 0, 0],\n",
        "    [0, 1, 0],\n",
        "    [0, 0, 1]\n",
        "])\n",
        "print(f'Матрица с единицами по диагонали:\\n {matrix1}')\n",
        "print()\n",
        "\n",
        "# Прибавьте к ней матрицу с единицами на диагонале\n",
        "summatrix = matrix + matrix1\n",
        "print(f'Сумма первых двух матриц:\\n {summatrix}')\n",
        "print()\n",
        "\n",
        "# Определение вектора (как одномерного массива)\n",
        "v = np.array([1, 2, 3])\n",
        "v = v.reshape(-1, 1)\n",
        "# Умножьте полученную матрицу на вектор (1, 2, 3)\n",
        "v_multiply = summatrix @ v\n",
        "print(f'Результат умножения суммы матриц на вектор:\\n {v_multiply}')\n",
        "print()\n",
        "\n",
        "# Вычислить транспонированную матрицу AT от полученной в результате прибавления матрицы\n",
        "AT = summatrix.T\n",
        "print(f'Транспонированная матрица:\\n {AT}')\n",
        "print()\n",
        "\n",
        "# Посчитайте обратную матрицу к полученной в результате прибавления матрице\n",
        "# Проверка определителя\n",
        "determinant = np.linalg.det(summatrix)\n",
        "\n",
        "if determinant == 0:\n",
        "    print(\"Матрица вырожденная. Обратная матрица не существует.\")\n",
        "else:\n",
        "    inverse_matrix = np.linalg.inv(summatrix)\n",
        "    print(f'Обратная матрица:\\n {inverse_matrix}')\n"
      ],
      "metadata": {
        "id": "hZ34229YdNlq",
        "colab": {
          "base_uri": "https://localhost:8080/"
        },
        "outputId": "2fa8c8a4-29ff-4b68-e801-15d08d2a18e9"
      },
      "execution_count": null,
      "outputs": [
        {
          "output_type": "stream",
          "name": "stdout",
          "text": [
            "Телефонная матрица:\n",
            " [[1 2 3]\n",
            " [4 5 6]\n",
            " [7 8 9]]\n",
            "\n",
            "Матрица с единицами по диагонали:\n",
            " [[1 0 0]\n",
            " [0 1 0]\n",
            " [0 0 1]]\n",
            "\n",
            "Сумма первых двух матриц:\n",
            " [[ 2  2  3]\n",
            " [ 4  6  6]\n",
            " [ 7  8 10]]\n",
            "\n",
            "Результат умножения суммы матриц на вектор:\n",
            " [[15]\n",
            " [34]\n",
            " [53]]\n",
            "\n",
            "Транспонированная матрица:\n",
            " [[ 2  4  7]\n",
            " [ 2  6  8]\n",
            " [ 3  6 10]]\n",
            "\n",
            "Обратная матрица:\n",
            " [[-6.00000000e+00 -2.00000000e+00  3.00000000e+00]\n",
            " [-1.00000000e+00  5.00000000e-01 -2.33146835e-16]\n",
            " [ 5.00000000e+00  1.00000000e+00 -2.00000000e+00]]\n"
          ]
        }
      ]
    },
    {
      "cell_type": "markdown",
      "source": [
        "## Уровень 1:"
      ],
      "metadata": {
        "id": "qZxS_tEVTapE"
      }
    },
    {
      "cell_type": "markdown",
      "source": [
        "### Задание 2"
      ],
      "metadata": {
        "id": "gUB5Tx31oDZB"
      }
    },
    {
      "cell_type": "markdown",
      "source": [
        "Найдите собственные значения и собственные вектора матрицы:\n",
        "```\n",
        "m = np.array([[2, 2],\n",
        "              [1, 3]])\n",
        "print(m)\n",
        "```\n",
        "\n"
      ],
      "metadata": {
        "id": "Jh-pEPj-TcDQ"
      }
    },
    {
      "cell_type": "code",
      "source": [
        "### YOUR CODE HERE\n",
        "# Определение матрицы\n",
        "m = np.array([[2, 2],\n",
        "              [1, 3]])\n",
        "print(f'Матрица:\\n {m}')\n",
        "print()\n",
        "\n",
        "# Вычисление собственных значений и собственных векторов\n",
        "eigenvalues, eigenvectors = np.linalg.eig(m)\n",
        "\n",
        "# Вывод результатов\n",
        "print(f'Собственные значения:\\n {eigenvalues}')\n",
        "print()\n",
        "\n",
        "print(f'Собственные векторы (по столбцам):\\n {eigenvectors}')"
      ],
      "metadata": {
        "id": "1OeJWLrpobqU",
        "colab": {
          "base_uri": "https://localhost:8080/"
        },
        "outputId": "107a29c1-b79a-4e6a-caf4-69b4886f2be4"
      },
      "execution_count": null,
      "outputs": [
        {
          "output_type": "stream",
          "name": "stdout",
          "text": [
            "Матрица:\n",
            " [[2 2]\n",
            " [1 3]]\n",
            "\n",
            "Собственные значения:\n",
            " [1. 4.]\n",
            "\n",
            "Собственные векторы (по столбцам):\n",
            " [[-0.89442719 -0.70710678]\n",
            " [ 0.4472136  -0.70710678]]\n"
          ]
        }
      ]
    },
    {
      "cell_type": "markdown",
      "source": [
        "### Задание 3\n"
      ],
      "metadata": {
        "id": "Tj14Nn3NOp8s"
      }
    },
    {
      "cell_type": "markdown",
      "source": [
        "Придумайте матрицу, у которой определитель = 1, и все элементы не равны 0.\n",
        "\n",
        "P.S. Матрица должна быть ненулевой и размерностью не менее 2!"
      ],
      "metadata": {
        "id": "JMjSYrp4OrpG"
      }
    },
    {
      "cell_type": "code",
      "source": [
        "### YOUR CODE HERE\n",
        "\n",
        "# Матрица 2x2 с определителем 1 и без нулевых элементов\n",
        "matrix = np.array([\n",
        "    [1, 1],\n",
        "    [1, 2]\n",
        "])\n",
        "\n",
        "# Проверка определителя\n",
        "det = np.linalg.det(matrix)\n",
        "\n",
        "print(\"Матрица:\")\n",
        "print(matrix)\n",
        "print(f\"Определитель: {det}\")"
      ],
      "metadata": {
        "id": "hRov-LJgOrz0",
        "colab": {
          "base_uri": "https://localhost:8080/"
        },
        "outputId": "94028168-8886-4815-ae8a-d811a5d419b9"
      },
      "execution_count": null,
      "outputs": [
        {
          "output_type": "stream",
          "name": "stdout",
          "text": [
            "Матрица:\n",
            "[[1 1]\n",
            " [1 2]]\n",
            "Определитель: 1.0\n"
          ]
        }
      ]
    }
  ]
}