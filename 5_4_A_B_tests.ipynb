{
  "cells": [
    {
      "cell_type": "markdown",
      "metadata": {
        "id": "view-in-github",
        "colab_type": "text"
      },
      "source": [
        "<a href=\"https://colab.research.google.com/github/TatyanaLanceva/Netology/blob/main/5_4_A_B_tests.ipynb\" target=\"_parent\"><img src=\"https://colab.research.google.com/assets/colab-badge.svg\" alt=\"Open In Colab\"/></a>"
      ]
    },
    {
      "cell_type": "markdown",
      "metadata": {
        "id": "SOZozVNIGZwQ"
      },
      "source": [
        "## Домашнее задание к занятию \"A/B-тесты\""
      ]
    },
    {
      "cell_type": "markdown",
      "metadata": {
        "id": "N5Z4Rg7PGZwR"
      },
      "source": [
        "### Описание задачи\n",
        "\n",
        "![banner](https://storage.googleapis.com/kaggle-datasets-images/635/1204/126be74882028aac7241553cef0e27a7/dataset-original.jpg)\n",
        "\n",
        "Покемоны - это маленькие существа, которые сражаются друг с другом на соревнованиях. Все покемоны имеют разные характеристики (сила атаки, защиты и т. д.) И относятся к одному или двум так называемым классам (вода, огонь и т. д.).\n",
        "Профессор Оук является изобретателем Pokedex - портативного устройства, которое хранит информацию обо всех существующих покемонах. Как его ведущий специалист по данным, Вы только что получили от него запрос с просьбой осуществить аналитику данных на всех устройствах Pokedex.\n",
        "\n",
        "### Описание набора данных\n",
        "Профессор Оук скопировал все содержимое в память одного устройства Pokedex, в результате чего получился набор данных, с которым Вы будете работать в этой задаче. В этом файле каждая строка представляет характеристики одного покемона:\n",
        "\n",
        "* `pid`: Numeric - ID покемона\n",
        "* `HP`: Numeric - Очки здоровья\n",
        "* `Attack`: Numeric - Сила обычной атаки\n",
        "* `Defense`: Numeric - Сила обычной защиты\n",
        "* `Sp. Atk`: Numeric - Сила специальной атаки\n",
        "* `Sp. Def`: Numeric - Сила специальной защиты\n",
        "* `Speed`: Numeric - Скорость движений\n",
        "* `Legendary`: Boolean - «True», если покемон редкий\n",
        "* `Class 1`: Categorical - Класс покемона\n",
        "* `Class 2`: Categorical - Класс покемона"
      ]
    },
    {
      "cell_type": "code",
      "execution_count": null,
      "metadata": {
        "colab": {
          "base_uri": "https://localhost:8080/",
          "height": 226
        },
        "id": "op1t0-0QGZwS",
        "outputId": "0171c4c5-a959-42b3-8ef5-34d3fa3843b2"
      },
      "outputs": [
        {
          "output_type": "execute_result",
          "data": {
            "text/plain": [
              "   pid           Name Class 1 Class 2  HP  Attack  Defense  Sp. Atk  Sp. Def  \\\n",
              "0    1      Bulbasaur   Grass  Poison  45      49       49       65       65   \n",
              "1    2        Ivysaur   Grass  Poison  60      62       63       80       80   \n",
              "2    3       Venusaur   Grass  Poison  80      82       83      100      100   \n",
              "3    4  Mega Venusaur   Grass  Poison  80     100      123      122      120   \n",
              "4    5     Charmander    Fire     NaN  39      52       43       60       50   \n",
              "\n",
              "   Speed  Legendary  \n",
              "0     45      False  \n",
              "1     60      False  \n",
              "2     80      False  \n",
              "3     80      False  \n",
              "4     65      False  "
            ],
            "text/html": [
              "\n",
              "  <div id=\"df-157bcdb2-e789-41d3-834f-f2f7106a44b6\" class=\"colab-df-container\">\n",
              "    <div>\n",
              "<style scoped>\n",
              "    .dataframe tbody tr th:only-of-type {\n",
              "        vertical-align: middle;\n",
              "    }\n",
              "\n",
              "    .dataframe tbody tr th {\n",
              "        vertical-align: top;\n",
              "    }\n",
              "\n",
              "    .dataframe thead th {\n",
              "        text-align: right;\n",
              "    }\n",
              "</style>\n",
              "<table border=\"1\" class=\"dataframe\">\n",
              "  <thead>\n",
              "    <tr style=\"text-align: right;\">\n",
              "      <th></th>\n",
              "      <th>pid</th>\n",
              "      <th>Name</th>\n",
              "      <th>Class 1</th>\n",
              "      <th>Class 2</th>\n",
              "      <th>HP</th>\n",
              "      <th>Attack</th>\n",
              "      <th>Defense</th>\n",
              "      <th>Sp. Atk</th>\n",
              "      <th>Sp. Def</th>\n",
              "      <th>Speed</th>\n",
              "      <th>Legendary</th>\n",
              "    </tr>\n",
              "  </thead>\n",
              "  <tbody>\n",
              "    <tr>\n",
              "      <th>0</th>\n",
              "      <td>1</td>\n",
              "      <td>Bulbasaur</td>\n",
              "      <td>Grass</td>\n",
              "      <td>Poison</td>\n",
              "      <td>45</td>\n",
              "      <td>49</td>\n",
              "      <td>49</td>\n",
              "      <td>65</td>\n",
              "      <td>65</td>\n",
              "      <td>45</td>\n",
              "      <td>False</td>\n",
              "    </tr>\n",
              "    <tr>\n",
              "      <th>1</th>\n",
              "      <td>2</td>\n",
              "      <td>Ivysaur</td>\n",
              "      <td>Grass</td>\n",
              "      <td>Poison</td>\n",
              "      <td>60</td>\n",
              "      <td>62</td>\n",
              "      <td>63</td>\n",
              "      <td>80</td>\n",
              "      <td>80</td>\n",
              "      <td>60</td>\n",
              "      <td>False</td>\n",
              "    </tr>\n",
              "    <tr>\n",
              "      <th>2</th>\n",
              "      <td>3</td>\n",
              "      <td>Venusaur</td>\n",
              "      <td>Grass</td>\n",
              "      <td>Poison</td>\n",
              "      <td>80</td>\n",
              "      <td>82</td>\n",
              "      <td>83</td>\n",
              "      <td>100</td>\n",
              "      <td>100</td>\n",
              "      <td>80</td>\n",
              "      <td>False</td>\n",
              "    </tr>\n",
              "    <tr>\n",
              "      <th>3</th>\n",
              "      <td>4</td>\n",
              "      <td>Mega Venusaur</td>\n",
              "      <td>Grass</td>\n",
              "      <td>Poison</td>\n",
              "      <td>80</td>\n",
              "      <td>100</td>\n",
              "      <td>123</td>\n",
              "      <td>122</td>\n",
              "      <td>120</td>\n",
              "      <td>80</td>\n",
              "      <td>False</td>\n",
              "    </tr>\n",
              "    <tr>\n",
              "      <th>4</th>\n",
              "      <td>5</td>\n",
              "      <td>Charmander</td>\n",
              "      <td>Fire</td>\n",
              "      <td>NaN</td>\n",
              "      <td>39</td>\n",
              "      <td>52</td>\n",
              "      <td>43</td>\n",
              "      <td>60</td>\n",
              "      <td>50</td>\n",
              "      <td>65</td>\n",
              "      <td>False</td>\n",
              "    </tr>\n",
              "  </tbody>\n",
              "</table>\n",
              "</div>\n",
              "    <div class=\"colab-df-buttons\">\n",
              "\n",
              "  <div class=\"colab-df-container\">\n",
              "    <button class=\"colab-df-convert\" onclick=\"convertToInteractive('df-157bcdb2-e789-41d3-834f-f2f7106a44b6')\"\n",
              "            title=\"Convert this dataframe to an interactive table.\"\n",
              "            style=\"display:none;\">\n",
              "\n",
              "  <svg xmlns=\"http://www.w3.org/2000/svg\" height=\"24px\" viewBox=\"0 -960 960 960\">\n",
              "    <path d=\"M120-120v-720h720v720H120Zm60-500h600v-160H180v160Zm220 220h160v-160H400v160Zm0 220h160v-160H400v160ZM180-400h160v-160H180v160Zm440 0h160v-160H620v160ZM180-180h160v-160H180v160Zm440 0h160v-160H620v160Z\"/>\n",
              "  </svg>\n",
              "    </button>\n",
              "\n",
              "  <style>\n",
              "    .colab-df-container {\n",
              "      display:flex;\n",
              "      gap: 12px;\n",
              "    }\n",
              "\n",
              "    .colab-df-convert {\n",
              "      background-color: #E8F0FE;\n",
              "      border: none;\n",
              "      border-radius: 50%;\n",
              "      cursor: pointer;\n",
              "      display: none;\n",
              "      fill: #1967D2;\n",
              "      height: 32px;\n",
              "      padding: 0 0 0 0;\n",
              "      width: 32px;\n",
              "    }\n",
              "\n",
              "    .colab-df-convert:hover {\n",
              "      background-color: #E2EBFA;\n",
              "      box-shadow: 0px 1px 2px rgba(60, 64, 67, 0.3), 0px 1px 3px 1px rgba(60, 64, 67, 0.15);\n",
              "      fill: #174EA6;\n",
              "    }\n",
              "\n",
              "    .colab-df-buttons div {\n",
              "      margin-bottom: 4px;\n",
              "    }\n",
              "\n",
              "    [theme=dark] .colab-df-convert {\n",
              "      background-color: #3B4455;\n",
              "      fill: #D2E3FC;\n",
              "    }\n",
              "\n",
              "    [theme=dark] .colab-df-convert:hover {\n",
              "      background-color: #434B5C;\n",
              "      box-shadow: 0px 1px 3px 1px rgba(0, 0, 0, 0.15);\n",
              "      filter: drop-shadow(0px 1px 2px rgba(0, 0, 0, 0.3));\n",
              "      fill: #FFFFFF;\n",
              "    }\n",
              "  </style>\n",
              "\n",
              "    <script>\n",
              "      const buttonEl =\n",
              "        document.querySelector('#df-157bcdb2-e789-41d3-834f-f2f7106a44b6 button.colab-df-convert');\n",
              "      buttonEl.style.display =\n",
              "        google.colab.kernel.accessAllowed ? 'block' : 'none';\n",
              "\n",
              "      async function convertToInteractive(key) {\n",
              "        const element = document.querySelector('#df-157bcdb2-e789-41d3-834f-f2f7106a44b6');\n",
              "        const dataTable =\n",
              "          await google.colab.kernel.invokeFunction('convertToInteractive',\n",
              "                                                    [key], {});\n",
              "        if (!dataTable) return;\n",
              "\n",
              "        const docLinkHtml = 'Like what you see? Visit the ' +\n",
              "          '<a target=\"_blank\" href=https://colab.research.google.com/notebooks/data_table.ipynb>data table notebook</a>'\n",
              "          + ' to learn more about interactive tables.';\n",
              "        element.innerHTML = '';\n",
              "        dataTable['output_type'] = 'display_data';\n",
              "        await google.colab.output.renderOutput(dataTable, element);\n",
              "        const docLink = document.createElement('div');\n",
              "        docLink.innerHTML = docLinkHtml;\n",
              "        element.appendChild(docLink);\n",
              "      }\n",
              "    </script>\n",
              "  </div>\n",
              "\n",
              "\n",
              "<div id=\"df-4b95b326-954c-4c8c-b7c9-8748857ddd1d\">\n",
              "  <button class=\"colab-df-quickchart\" onclick=\"quickchart('df-4b95b326-954c-4c8c-b7c9-8748857ddd1d')\"\n",
              "            title=\"Suggest charts\"\n",
              "            style=\"display:none;\">\n",
              "\n",
              "<svg xmlns=\"http://www.w3.org/2000/svg\" height=\"24px\"viewBox=\"0 0 24 24\"\n",
              "     width=\"24px\">\n",
              "    <g>\n",
              "        <path d=\"M19 3H5c-1.1 0-2 .9-2 2v14c0 1.1.9 2 2 2h14c1.1 0 2-.9 2-2V5c0-1.1-.9-2-2-2zM9 17H7v-7h2v7zm4 0h-2V7h2v10zm4 0h-2v-4h2v4z\"/>\n",
              "    </g>\n",
              "</svg>\n",
              "  </button>\n",
              "\n",
              "<style>\n",
              "  .colab-df-quickchart {\n",
              "      --bg-color: #E8F0FE;\n",
              "      --fill-color: #1967D2;\n",
              "      --hover-bg-color: #E2EBFA;\n",
              "      --hover-fill-color: #174EA6;\n",
              "      --disabled-fill-color: #AAA;\n",
              "      --disabled-bg-color: #DDD;\n",
              "  }\n",
              "\n",
              "  [theme=dark] .colab-df-quickchart {\n",
              "      --bg-color: #3B4455;\n",
              "      --fill-color: #D2E3FC;\n",
              "      --hover-bg-color: #434B5C;\n",
              "      --hover-fill-color: #FFFFFF;\n",
              "      --disabled-bg-color: #3B4455;\n",
              "      --disabled-fill-color: #666;\n",
              "  }\n",
              "\n",
              "  .colab-df-quickchart {\n",
              "    background-color: var(--bg-color);\n",
              "    border: none;\n",
              "    border-radius: 50%;\n",
              "    cursor: pointer;\n",
              "    display: none;\n",
              "    fill: var(--fill-color);\n",
              "    height: 32px;\n",
              "    padding: 0;\n",
              "    width: 32px;\n",
              "  }\n",
              "\n",
              "  .colab-df-quickchart:hover {\n",
              "    background-color: var(--hover-bg-color);\n",
              "    box-shadow: 0 1px 2px rgba(60, 64, 67, 0.3), 0 1px 3px 1px rgba(60, 64, 67, 0.15);\n",
              "    fill: var(--button-hover-fill-color);\n",
              "  }\n",
              "\n",
              "  .colab-df-quickchart-complete:disabled,\n",
              "  .colab-df-quickchart-complete:disabled:hover {\n",
              "    background-color: var(--disabled-bg-color);\n",
              "    fill: var(--disabled-fill-color);\n",
              "    box-shadow: none;\n",
              "  }\n",
              "\n",
              "  .colab-df-spinner {\n",
              "    border: 2px solid var(--fill-color);\n",
              "    border-color: transparent;\n",
              "    border-bottom-color: var(--fill-color);\n",
              "    animation:\n",
              "      spin 1s steps(1) infinite;\n",
              "  }\n",
              "\n",
              "  @keyframes spin {\n",
              "    0% {\n",
              "      border-color: transparent;\n",
              "      border-bottom-color: var(--fill-color);\n",
              "      border-left-color: var(--fill-color);\n",
              "    }\n",
              "    20% {\n",
              "      border-color: transparent;\n",
              "      border-left-color: var(--fill-color);\n",
              "      border-top-color: var(--fill-color);\n",
              "    }\n",
              "    30% {\n",
              "      border-color: transparent;\n",
              "      border-left-color: var(--fill-color);\n",
              "      border-top-color: var(--fill-color);\n",
              "      border-right-color: var(--fill-color);\n",
              "    }\n",
              "    40% {\n",
              "      border-color: transparent;\n",
              "      border-right-color: var(--fill-color);\n",
              "      border-top-color: var(--fill-color);\n",
              "    }\n",
              "    60% {\n",
              "      border-color: transparent;\n",
              "      border-right-color: var(--fill-color);\n",
              "    }\n",
              "    80% {\n",
              "      border-color: transparent;\n",
              "      border-right-color: var(--fill-color);\n",
              "      border-bottom-color: var(--fill-color);\n",
              "    }\n",
              "    90% {\n",
              "      border-color: transparent;\n",
              "      border-bottom-color: var(--fill-color);\n",
              "    }\n",
              "  }\n",
              "</style>\n",
              "\n",
              "  <script>\n",
              "    async function quickchart(key) {\n",
              "      const quickchartButtonEl =\n",
              "        document.querySelector('#' + key + ' button');\n",
              "      quickchartButtonEl.disabled = true;  // To prevent multiple clicks.\n",
              "      quickchartButtonEl.classList.add('colab-df-spinner');\n",
              "      try {\n",
              "        const charts = await google.colab.kernel.invokeFunction(\n",
              "            'suggestCharts', [key], {});\n",
              "      } catch (error) {\n",
              "        console.error('Error during call to suggestCharts:', error);\n",
              "      }\n",
              "      quickchartButtonEl.classList.remove('colab-df-spinner');\n",
              "      quickchartButtonEl.classList.add('colab-df-quickchart-complete');\n",
              "    }\n",
              "    (() => {\n",
              "      let quickchartButtonEl =\n",
              "        document.querySelector('#df-4b95b326-954c-4c8c-b7c9-8748857ddd1d button');\n",
              "      quickchartButtonEl.style.display =\n",
              "        google.colab.kernel.accessAllowed ? 'block' : 'none';\n",
              "    })();\n",
              "  </script>\n",
              "</div>\n",
              "    </div>\n",
              "  </div>\n"
            ],
            "application/vnd.google.colaboratory.intrinsic+json": {
              "type": "dataframe",
              "summary": "{\n  \"name\": \"# \\u0415\\u0441\\u043b\\u0438 \\u0443 \\u043f\\u043e\\u043a\\u0435\\u043c\\u043e\\u043d\\u0430 \\u0434\\u0432\\u0430 \\u043a\\u043b\\u0430\\u0441\\u0441\\u0430, \\u0441\\u0447\\u0438\\u0442\\u0430\\u0435\\u0442\\u0441\\u044f, \\u0447\\u0442\\u043e \\u043e\\u043d\\u0438 \\u0438\\u043c\\u0435\\u044e\\u0442 \\u043e\\u0434\\u0438\\u043d\\u0430\\u043a\\u043e\\u0432\\u0443\\u044e \\u0437\\u043d\\u0430\\u0447\\u0438\\u043c\\u043e\\u0441\\u0442\\u044c\",\n  \"rows\": 5,\n  \"fields\": [\n    {\n      \"column\": \"pid\",\n      \"properties\": {\n        \"dtype\": \"number\",\n        \"std\": 1,\n        \"min\": 1,\n        \"max\": 5,\n        \"num_unique_values\": 5,\n        \"samples\": [\n          2,\n          5,\n          3\n        ],\n        \"semantic_type\": \"\",\n        \"description\": \"\"\n      }\n    },\n    {\n      \"column\": \"Name\",\n      \"properties\": {\n        \"dtype\": \"string\",\n        \"num_unique_values\": 5,\n        \"samples\": [\n          \"Ivysaur\",\n          \"Charmander\",\n          \"Venusaur\"\n        ],\n        \"semantic_type\": \"\",\n        \"description\": \"\"\n      }\n    },\n    {\n      \"column\": \"Class 1\",\n      \"properties\": {\n        \"dtype\": \"category\",\n        \"num_unique_values\": 2,\n        \"samples\": [\n          \"Fire\",\n          \"Grass\"\n        ],\n        \"semantic_type\": \"\",\n        \"description\": \"\"\n      }\n    },\n    {\n      \"column\": \"Class 2\",\n      \"properties\": {\n        \"dtype\": \"category\",\n        \"num_unique_values\": 1,\n        \"samples\": [\n          \"Poison\"\n        ],\n        \"semantic_type\": \"\",\n        \"description\": \"\"\n      }\n    },\n    {\n      \"column\": \"HP\",\n      \"properties\": {\n        \"dtype\": \"number\",\n        \"std\": 19,\n        \"min\": 39,\n        \"max\": 80,\n        \"num_unique_values\": 4,\n        \"samples\": [\n          60\n        ],\n        \"semantic_type\": \"\",\n        \"description\": \"\"\n      }\n    },\n    {\n      \"column\": \"Attack\",\n      \"properties\": {\n        \"dtype\": \"number\",\n        \"std\": 21,\n        \"min\": 49,\n        \"max\": 100,\n        \"num_unique_values\": 5,\n        \"samples\": [\n          62\n        ],\n        \"semantic_type\": \"\",\n        \"description\": \"\"\n      }\n    },\n    {\n      \"column\": \"Defense\",\n      \"properties\": {\n        \"dtype\": \"number\",\n        \"std\": 32,\n        \"min\": 43,\n        \"max\": 123,\n        \"num_unique_values\": 5,\n        \"samples\": [\n          63\n        ],\n        \"semantic_type\": \"\",\n        \"description\": \"\"\n      }\n    },\n    {\n      \"column\": \"Sp. Atk\",\n      \"properties\": {\n        \"dtype\": \"number\",\n        \"std\": 25,\n        \"min\": 60,\n        \"max\": 122,\n        \"num_unique_values\": 5,\n        \"samples\": [\n          80\n        ],\n        \"semantic_type\": \"\",\n        \"description\": \"\"\n      }\n    },\n    {\n      \"column\": \"Sp. Def\",\n      \"properties\": {\n        \"dtype\": \"number\",\n        \"std\": 27,\n        \"min\": 50,\n        \"max\": 120,\n        \"num_unique_values\": 5,\n        \"samples\": [\n          80\n        ],\n        \"semantic_type\": \"\",\n        \"description\": \"\"\n      }\n    },\n    {\n      \"column\": \"Speed\",\n      \"properties\": {\n        \"dtype\": \"number\",\n        \"std\": 14,\n        \"min\": 45,\n        \"max\": 80,\n        \"num_unique_values\": 4,\n        \"samples\": [\n          60\n        ],\n        \"semantic_type\": \"\",\n        \"description\": \"\"\n      }\n    },\n    {\n      \"column\": \"Legendary\",\n      \"properties\": {\n        \"dtype\": \"boolean\",\n        \"num_unique_values\": 1,\n        \"samples\": [\n          false\n        ],\n        \"semantic_type\": \"\",\n        \"description\": \"\"\n      }\n    }\n  ]\n}"
            }
          },
          "metadata": {},
          "execution_count": 2
        }
      ],
      "source": [
        "import warnings\n",
        "# Отключение предупреждений (warnings)\n",
        "warnings.filterwarnings(\"ignore\")\n",
        "\n",
        "import pandas as pd\n",
        "\n",
        "from scipy.stats import ttest_ind\n",
        "from scipy.stats import f_oneway, shapiro\n",
        "\n",
        "pokemon = pd.read_csv('https://raw.githubusercontent.com/a-milenkin/datasets_for_t-tests/main/pokemon.csv', on_bad_lines='skip')  # Откроем датасет\n",
        "pokemon.head()\n",
        "\n",
        "# Обратите внимание, что у покемона может быть один или два класса.\n",
        "# Если у покемона два класса, считается, что они имеют одинаковую значимость."
      ]
    },
    {
      "cell_type": "markdown",
      "metadata": {
        "id": "8KytW3mUGZwT"
      },
      "source": [
        "### Задачи"
      ]
    },
    {
      "cell_type": "markdown",
      "metadata": {
        "id": "i72--cvLGZwT"
      },
      "source": [
        "<div class=\"alert alert-info\">\n",
        "<b>Задание № 1:</b>\n",
        "    \n",
        "Профессор Оук подозревает, что покемоны в классе `Grass` имеют более сильную обычную атаку, чем покемоны в классе `Rock`. Проверьте, прав ли он, и убедите его в своём выводе статистически.\n",
        "    \n",
        "    \n",
        "Примечание: если есть покемоны, которые относятся к обоим классам, просто выбросьте их;\n",
        "    \n",
        "Вы можете предположить, что распределение обычных атак является нормальным для всех классов покемонов.\n",
        "\n",
        "</div>"
      ]
    },
    {
      "cell_type": "code",
      "execution_count": null,
      "metadata": {
        "id": "h6s6LL6mt17A",
        "colab": {
          "base_uri": "https://localhost:8080/"
        },
        "outputId": "4118713a-0096-4fb0-8fc3-53286ff747f0"
      },
      "outputs": [
        {
          "output_type": "stream",
          "name": "stdout",
          "text": [
            "t-статистика: -3.1844842999983785, p-значение: 0.0020757539895809533\n"
          ]
        }
      ],
      "source": [
        "# Отфильтруем покемонов по классам 'Grass' и 'Rock' в обоих классах\n",
        "grass_pokemon = pokemon[(pokemon['Class 1'] == 'Grass') | (pokemon['Class 2'] == 'Grass')]\n",
        "rock_pokemon = pokemon[(pokemon['Class 1'] == 'Rock') | (pokemon['Class 2'] == 'Rock')]\n",
        "\n",
        "# Удалим покемонов с двумя классами одновременно:\n",
        "grass_pokemon = grass_pokemon[~((grass_pokemon['Class 1'] == 'Grass') & (grass_pokemon['Class 2'].notnull()))]\n",
        "rock_pokemon = rock_pokemon[~((rock_pokemon['Class 1'] == 'Rock') & (rock_pokemon['Class 2'].notnull()))]\n",
        "\n",
        "# Соберем значения атаки для каждого класса:\n",
        "grass_attack = grass_pokemon['Attack']\n",
        "rock_attack = rock_pokemon['Attack']\n",
        "\n",
        "# Проверку распределений опустим, по условиям задачи есть данные, что распределение обычных атак нормальное для всех классов.\n",
        "# Выполненим двухвыборочный t-тест для независимых выборок\n",
        "t_statistic, p_value = ttest_ind(grass_attack, rock_attack)\n",
        "print(f\"t-статистика: {t_statistic}, p-значение: {p_value}\")"
      ]
    },
    {
      "cell_type": "markdown",
      "source": [
        "**Выводы:**\n",
        "\n",
        "p-значение значительно ниже уровня значимости α=0,05, что указывает на наличие статистической значимости различий между средними значениями обычной атаки покемонов классов Grass и Rock.\n",
        "Н0 =  нет разницы в средней силе обычной атаки между покемонами классов \"Grass\" и \"Rock\". Следовательно мы отвергаем нулевую гипотезу и принимаем, что разница в атаке есть, но для понимания, какая, нужны дальнейшие исследования. Применим графический метод, построим boxplot."
      ],
      "metadata": {
        "id": "eZ8nCYthNU94"
      }
    },
    {
      "cell_type": "code",
      "source": [
        "import matplotlib.pyplot as plt\n",
        "import seaborn as sns\n",
        "\n",
        "# Объединяем данные в один DataFrame для удобства построения box plots\n",
        "data = {'Класс': ['Grass'] * len(grass_attack) + ['Rock'] * len(rock_attack),\n",
        "        'Атака': list(grass_attack) + list(rock_attack)}\n",
        "df = pd.DataFrame(data)\n",
        "\n",
        "# Строим box plot\n",
        "plt.figure(figsize=(10, 6))\n",
        "ax = sns.boxplot(x='Класс', y='Атака', data=df, palette=['MediumAquamarine', 'Sienna'])\n",
        "\n",
        "# Добавляем точки для отображения реальных значений\n",
        "sns.swarmplot(x='Класс', y='Атака', data=df, color='black')\n",
        "\n",
        "# Настройки графика\n",
        "plt.title('Распределение значений атаки покемонов классов \"Grass\" и \"Rock\"')\n",
        "plt.xlabel('Класс покемона')\n",
        "plt.ylabel('Значение атаки')\n",
        "\n",
        "plt.show()"
      ],
      "metadata": {
        "colab": {
          "base_uri": "https://localhost:8080/",
          "height": 584
        },
        "id": "V-XVDyMMXwgq",
        "outputId": "cd69335f-8c14-435b-9e73-d050d4067fdc"
      },
      "execution_count": null,
      "outputs": [
        {
          "output_type": "display_data",
          "data": {
            "text/plain": [
              "<Figure size 1000x600 with 1 Axes>"
            ],
            "image/png": "[encoded data removed]"
          },
          "metadata": {}
        }
      ]
    },
    {
      "cell_type": "markdown",
      "source": [
        "**Выводы:**\n",
        "\n",
        "Мы видим, что значения атаки у покемонов класса \"Rock\" имеют следущие отличия: максимум и медиана у покемоном находятся выше, чем у класса \"Grass\". Это показывает, что значительная часть покемонов \"Rock\" обладает более высокой силой атаки. При этом размеры ящиков близки, что указывает на схожесть распределения в разных классах."
      ],
      "metadata": {
        "id": "pMxBcj2mavzU"
      }
    },
    {
      "cell_type": "markdown",
      "metadata": {
        "id": "KS2OVjmFGZwV"
      },
      "source": [
        "<div class=\"alert alert-info\">\n",
        "<b>Задание № 2:</b>\n",
        "    \n",
        "Профессор Оук уже долго не может спать по ночам, ведь его волнует вопрос, а правда ли, что покемоны в классе `Water` в среднем быстрее, чем покемоны в классе `Normal`.\n",
        "    \n",
        "    \n",
        "Проверьте, прав ли он, и убедите его в своём выводе статистически.\n",
        "    \n",
        "Примечание: если есть покемоны, которые относятся к обоим классам, выбросьте их;\n",
        "    \n",
        "Вы можете предположить, что распределение скорости движения является нормальным для всех классов покемонов.\n",
        "</div>"
      ]
    },
    {
      "cell_type": "code",
      "execution_count": null,
      "metadata": {
        "id": "h_p9DQRzt3o_",
        "colab": {
          "base_uri": "https://localhost:8080/"
        },
        "outputId": "ad901498-ed3c-49f6-fa5f-98fecd69164a"
      },
      "outputs": [
        {
          "output_type": "stream",
          "name": "stdout",
          "text": [
            "t-статистика: -1.6647571172344386, p-значение: 0.09777126925575434\n"
          ]
        }
      ],
      "source": [
        "# Отфильтруем покемонов по классам 'Water' и 'Normal' в обоих классах\n",
        "water_pokemon = pokemon[(pokemon['Class 1'] == 'Water') | (pokemon['Class 2'] == 'Water')]\n",
        "normal_pokemon = pokemon[(pokemon['Class 1'] == 'Normal') | (pokemon['Class 2'] == 'Normal')]\n",
        "\n",
        "# Удалим покемонов с двумя классами одновременно:\n",
        "water_pokemon = water_pokemon[~((water_pokemon['Class 1'] == 'Water') & (water_pokemon['Class 2'].notnull()))]\n",
        "normal_pokemon = normal_pokemon[~((normal_pokemon['Class 1'] == 'Rock') & (normal_pokemon['Class 2'].notnull()))]\n",
        "\n",
        "# Соберем значения скорости для искомых классов:\n",
        "water_speed = water_pokemon['Speed']\n",
        "normal_speed = normal_pokemon['Speed']\n",
        "\n",
        "# Проверку распределения опустим, по условиям задачи есть данные, что распределение обычных атак нормальное для всех классов.\n",
        "# Выполненим двухвыборочный t-тест для независимых выборок\n",
        "t_statistic, p_value = ttest_ind(water_speed, normal_speed)\n",
        "print(f\"t-статистика: {t_statistic}, p-значение: {p_value}\")"
      ]
    },
    {
      "cell_type": "markdown",
      "source": [
        "**Выводы:**\n",
        "\n",
        "p-значение выше уровня значимости α=0,05. Это означает, что разница в средних значениях скорости между покемонами классов Water и Normal не является статистически значимой.\n",
        "H0 = нет разницы в средней скорости между покемонами классов \"Water\" и \"Normal\"\n",
        "Поскольку p-значение больше стандартного уровня значимости α=0,05, мы не можем отвергнуть нулевую гипотезу. Следовательно предположение о том, что покемоны класса Water в среднем быстрее, чем покемоны класса Normal, не подтверждается статистическими данными."
      ],
      "metadata": {
        "id": "VsXD2sHkQbfx"
      }
    },
    {
      "cell_type": "markdown",
      "metadata": {
        "id": "p9VPcdu-GZwb"
      },
      "source": [
        "<div class=\"alert alert-info\">\n",
        "<b>Задание № 3:</b>\n",
        "    \n",
        "Профессор Оук тот еще безумец. Он изобрёл сыворотку, способную ускорить покемона. Однако мы усомнились в эффективности его вакцины. Професоор дал эту сыворотку следующим покемонам: смотри массив `treathed_pokemon`. Проверьте, работает ли вообще его сыворотка, убедите всех в своём выводе статистически.\n",
        "    \n",
        "    \n",
        "Вы можете предположить, что распределение скорости движения является нормальным для всех классов покемонов.\n",
        "\n",
        "</div>"
      ]
    },
    {
      "cell_type": "code",
      "execution_count": null,
      "metadata": {
        "id": "olGBBpq2GZwb"
      },
      "outputs": [],
      "source": [
        "# Покемоны, которые принимали сыворотку увеличения скорости\n",
        "treathed_pokemon = ['Mega Beedrill', 'Mega Alakazam',\n",
        "                    'Deoxys Normal Forme', 'Mega Lopunny']"
      ]
    },
    {
      "cell_type": "code",
      "execution_count": null,
      "metadata": {
        "id": "2hxZ3wbxt5T7",
        "colab": {
          "base_uri": "https://localhost:8080/"
        },
        "outputId": "40696e1e-05d0-4ca5-80c5-574c4a910ee3"
      },
      "outputs": [
        {
          "output_type": "stream",
          "name": "stdout",
          "text": [
            "Статистика Шапиро-Уилка для обработанных покемонов: 0.8274266724986942 p-значение: 0.16119061463308976\n",
            "Статистика Шапиро-Уилка для необработанных покемонов: 0.9848792891888268 p-значение: 2.5469674821596204e-07\n"
          ]
        }
      ],
      "source": [
        "# Разделим всех наших покемонов на две группы: получившие сыворотку и нет.\n",
        "treated_pokemon = ['Mega Beedrill', 'Mega Alakazam', 'Deoxys Normal Forme', 'Mega Lopunny']\n",
        "\n",
        "index_treated = pokemon['Name'].isin(treated_pokemon)\n",
        "index_others = ~index_treated\n",
        "\n",
        "df_treated = pokemon[index_treated]\n",
        "df_others = pokemon[index_others]\n",
        "\n",
        "# Проверим распределение:\n",
        "stat, p = shapiro(df_treated['Speed'])\n",
        "print('Статистика Шапиро-Уилка для обработанных покемонов:', stat, 'p-значение:', p)\n",
        "\n",
        "stat, p = shapiro(df_others['Speed'])\n",
        "print('Статистика Шапиро-Уилка для необработанных покемонов:', stat, 'p-значение:', p)"
      ]
    },
    {
      "cell_type": "markdown",
      "source": [
        "Выводы по распределению:\n",
        "\n",
        "Обработанные покемоны: p-значение равно 0,16119, что больше 0,05. Распределение скорости можно считать нормальным.\n",
        "Необработанные покемоны: p-значение намного меньше 0,05. Это указывает на то, что распределение скорости для этой группы покемонов не является нормальным."
      ],
      "metadata": {
        "id": "buQ93XsZUK6L"
      }
    },
    {
      "cell_type": "code",
      "source": [
        "# Так как распределение по необработанным покемонам не является нормальным, проверим, можно ли провести тестирование Манна-Уитни,\n",
        "# для этого предварительно проверим дисперсии:\n",
        "\n",
        "# Дисперсия для группы покемонов, принимавших сыворотку\n",
        "variance_treated = df_treated['Speed'].var()\n",
        "# Дисперсия для группы покемонов, не принимавших сыворотку\n",
        "variance_others = df_others['Speed'].var()\n",
        "print(f\"Дисперсия для группы покемонов, принимавших сыворотку: {variance_treated}\")\n",
        "print(f\"Дисперсия для группы покемонов, не принимавших сыворотку: {variance_others}\")\n"
      ],
      "metadata": {
        "colab": {
          "base_uri": "https://localhost:8080/"
        },
        "id": "Pg6qbbVTU9au",
        "outputId": "92873477-b579-4673-e5d7-1c1587f16b13"
      },
      "execution_count": null,
      "outputs": [
        {
          "output_type": "stream",
          "name": "stdout",
          "text": [
            "Дисперсия для группы покемонов, принимавших сыворотку: 50.0\n",
            "Дисперсия для группы покемонов, не принимавших сыворотку: 818.8059226952378\n"
          ]
        }
      ]
    },
    {
      "cell_type": "markdown",
      "source": [
        "**Выводы:**\n",
        "\n",
        "Дисперсии различаются значительно. У нас получается большой разброс скоростей. Тест Манна-Уитни не подходит при такой разнице дисперсий. Обратимся к тесту Колмогорова-Смирнова"
      ],
      "metadata": {
        "id": "0s2VhEfDWN_1"
      }
    },
    {
      "cell_type": "code",
      "source": [
        "from scipy.stats import ks_2samp\n",
        "ks_stat, p_ks = ks_2samp(df_treated['Speed'], df_others['Speed'])\n",
        "print(\"KS-статистика:\", ks_stat, \"p-значение:\", p_ks)"
      ],
      "metadata": {
        "colab": {
          "base_uri": "https://localhost:8080/"
        },
        "id": "hy06060yWuce",
        "outputId": "c3156b92-f4cb-41d8-ab03-c710059da88f"
      },
      "execution_count": null,
      "outputs": [
        {
          "output_type": "stream",
          "name": "stdout",
          "text": [
            "KS-статистика: 0.9886934673366834 p-значение: 8.442076826937149e-08\n"
          ]
        }
      ]
    },
    {
      "cell_type": "markdown",
      "source": [
        "**Выводы**:\n",
        "\n",
        " крайне низкое p-значение указывает на то, что распределения скоростей покемонов, принимавших сыворотку, и покемонов, которые сыворотку не получали, значительно различаются. Сыворотка действительно оказала существенное влияние на скорость покемонов."
      ],
      "metadata": {
        "id": "EDr7wAKGW_vR"
      }
    },
    {
      "cell_type": "markdown",
      "metadata": {
        "id": "IpgS6yk9GZwc"
      },
      "source": [
        "<div class=\"alert alert-info\">\n",
        "<b>Задание № 4:</b>\n",
        "    \n",
        "Профессор Оук всегда любил истории про легендарных покемонов. Однако профессор не очень уверен, что они лучше остальных покемонов. Оук предложил разобраться в этом нам. Проверьте, действительно ли сумма характеристик `HP`,`Attack`,`Defense` у легендарных покемонов выше, чем у других покемонов?\n",
        "\n",
        "А произведение этих же параметров?\n",
        "\n",
        "Найдите ответы на эти вопросы и убедите всех в своём выводе статистически.\n",
        "   \n",
        "\n",
        "Вы можете предположить, что распределение сум и произведений этих параметров является нормальным для всех классов покемонов.\n",
        "\n",
        "</div>"
      ]
    },
    {
      "cell_type": "code",
      "execution_count": null,
      "metadata": {
        "id": "ah5AoxB1t8tA",
        "colab": {
          "base_uri": "https://localhost:8080/"
        },
        "outputId": "9e3dd4ed-5c03-4815-d8c9-61c3032a6978"
      },
      "outputs": [
        {
          "output_type": "stream",
          "name": "stdout",
          "text": [
            "Проверка нормальности распределения:\n",
            "Шапиро-Уилк для суммы характеристик легендарных покемонов: 0.9662, p-значение: 0.0725\n",
            "Шапиро-Уилк для произведения характеристик легендарных покемонов: 0.9392, p-значение: 0.0032\n",
            "Шапиро-Уилк для суммы характеристик нелегендарных покемонов: 0.9903, p-значение: 0.0001\n",
            "Шапиро-Уилк для произведения характеристик нелегендарных покемонов: 0.8403, p-значение: 0.0000\n"
          ]
        }
      ],
      "source": [
        "# Создадим новые колонки для суммы и произведения характеристик\n",
        "pokemon['sum_had'] = pokemon['HP'] + pokemon['Attack'] + pokemon['Defense']\n",
        "pokemon['prod_had'] = pokemon['HP'] * pokemon['Attack'] * pokemon['Defense']\n",
        "\n",
        "# Разделим покемонов на легендарных и нелегендарных\n",
        "legendary_mask = pokemon['Legendary'] == True\n",
        "non_legendary_mask = pokemon['Legendary'] == False\n",
        "\n",
        "legendary_pokemon = pokemon[legendary_mask]\n",
        "non_legendary_pokemon = pokemon[non_legendary_mask]\n",
        "\n",
        "# Проверим нормальность распределения сумм и произведений характеристик\n",
        "shapiro_sum_legendary, pvalue_shapiro_sum_legendary = shapiro(legendary_pokemon['sum_had'])\n",
        "shapiro_prod_legendary, pvalue_shapiro_prod_legendary = shapiro(legendary_pokemon['prod_had'])\n",
        "\n",
        "shapiro_sum_non_legendary, pvalue_shapiro_sum_non_legendary = shapiro(non_legendary_pokemon['sum_had'])\n",
        "shapiro_prod_non_legendary, pvalue_shapiro_prod_non_legendary = shapiro(non_legendary_pokemon['prod_had'])\n",
        "\n",
        "# Применение t-теста для сумм характеристик\n",
        "ttest_sum_result = ttest_ind(legendary_pokemon['sum_had'], non_legendary_pokemon['sum_had'])\n",
        "\n",
        "# Применение t-теста для произведений характеристик\n",
        "ttest_prod_result = ttest_ind(legendary_pokemon['prod_had'], non_legendary_pokemon['prod_had'])\n",
        "\n",
        "# Вывод результатов\n",
        "print(\"Проверка нормальности распределения:\")\n",
        "print(f\"Шапиро-Уилк для суммы характеристик легендарных покемонов: {shapiro_sum_legendary:.4f}, p-значение: {pvalue_shapiro_sum_legendary:.4f}\")\n",
        "print(f\"Шапиро-Уилк для произведения характеристик легендарных покемонов: {shapiro_prod_legendary:.4f}, p-значение: {pvalue_shapiro_prod_legendary:.4f}\")\n",
        "print(f\"Шапиро-Уилк для суммы характеристик нелегендарных покемонов: {shapiro_sum_non_legendary:.4f}, p-значение: {pvalue_shapiro_sum_non_legendary:.4f}\")\n",
        "print(f\"Шапиро-Уилк для произведения характеристик нелегендарных покемонов: {shapiro_prod_non_legendary:.4f}, p-значение: {pvalue_shapiro_prod_non_legendary:.4f}\")\n"
      ]
    },
    {
      "cell_type": "markdown",
      "source": [
        "Выводы по распределению:\n",
        "Легендарные покемоны: сумма характеристик HP, Attack и Defense: Распределение близко к нормальному (p-значение = 0,0725), поэтому можно использовать t-тест.\n",
        "Произведение характеристик HP, Attack и Defense: Распределение не является нормальным (p-значение = 0,0032), поэтому t-тест здесь неприменим. Необходимо использовать непараметрический тест, например, тест Манна-Уитни. Нелегендарные покемоны: сумма характеристик HP, Attack и Defense: Распределение не является нормальным (p-значение = 0,0001), поэтому t-тест здесь неприменим. Нужно использовать непараметрический тест. Произведение характеристик HP, Attack и Defense: Распределение также не является нормальным (p-значение = 0,0000), поэтому снова используем непараметрический тест.\n",
        "\n",
        "Для подбора теста проверим дисперсии."
      ],
      "metadata": {
        "id": "vYSsXxtUcn8f"
      }
    },
    {
      "cell_type": "code",
      "source": [
        "# Вычислим дисперсий для всех групп\n",
        "dispersion_sum_legendary = legendary_pokemon['sum_had'].var()\n",
        "dispersion_prod_legendary = legendary_pokemon['prod_had'].var()\n",
        "\n",
        "dispersion_sum_non_legendary = non_legendary_pokemon['sum_had'].var()\n",
        "dispersion_prod_non_legendary = non_legendary_pokemon['prod_had'].var()\n",
        "\n",
        "# Вывод данных\n",
        "print(\"Дисперсия для суммы характеристик у легендарных покемонов:\", dispersion_sum_legendary)\n",
        "print(\"Дисперсия для произведения характеристик у легендарных покемонов:\", dispersion_prod_legendary)\n",
        "print(\"Дисперсия для суммы характеристик у нелегендарных покемонов:\", dispersion_sum_non_legendary)\n",
        "print(\"Дисперсия для произведения характеристик у нелегендарных покемонов:\", dispersion_prod_non_legendary)"
      ],
      "metadata": {
        "colab": {
          "base_uri": "https://localhost:8080/"
        },
        "id": "JU6GCK76dJgk",
        "outputId": "48295eed-7d04-4834-a2de-01d8932b421b"
      },
      "execution_count": null,
      "outputs": [
        {
          "output_type": "stream",
          "name": "stdout",
          "text": [
            "Дисперсия для суммы характеристик у легендарных покемонов: 2155.728365384615\n",
            "Дисперсия для произведения характеристик у легендарных покемонов: 267279760407.11542\n",
            "Дисперсия для суммы характеристик у нелегендарных покемонов: 4142.157919516582\n",
            "Дисперсия для произведения характеристик у нелегендарных покемонов: 137903924032.31152\n"
          ]
        }
      ]
    },
    {
      "cell_type": "markdown",
      "source": [
        "Выводы по анализу дисперсий: дисперсии для легендарных и нелегендарных покемонов заметно различаются как для суммы характеристик, так и для их произведения. Остановимся на тесте Манна-Уитни."
      ],
      "metadata": {
        "id": "BcaxCX0tdbfL"
      }
    },
    {
      "cell_type": "code",
      "source": [
        "# Применим тест Манна-Уитни для суммы характеристик\n",
        "mwu_sum_result = mannwhitneyu(legendary_pokemon['sum_had'], non_legendary_pokemon['sum_had'])\n",
        "\n",
        "# Применим тест Манна-Уитни для произведения характеристик\n",
        "mwu_prod_result = mannwhitneyu(legendary_pokemon['prod_had'], non_legendary_pokemon['prod_had'])\n",
        "\n",
        "print('Результаты теста Манна-Уитни:')\n",
        "print(f'MWU-статистика для суммы характеристик: {mwu_sum_result.statistic:.4f}, p-значение: {mwu_sum_result.pvalue:.4f}')\n",
        "print(f'MWU-статистика для произведения характеристик: {mwu_prod_result.statistic:.4f}, p-значение: {mwu_prod_result.pvalue:.4f}')\n"
      ],
      "metadata": {
        "colab": {
          "base_uri": "https://localhost:8080/"
        },
        "id": "xBameya4dzEV",
        "outputId": "562a6844-aac2-404c-fd61-f77c446e50c4"
      },
      "execution_count": null,
      "outputs": [
        {
          "output_type": "stream",
          "name": "stdout",
          "text": [
            "Результаты теста Манна-Уитни:\n",
            "MWU-статистика для суммы характеристик: 42199.0000, p-значение: 0.0000\n",
            "MWU-статистика для произведения характеристик: 42033.5000, p-значение: 0.0000\n"
          ]
        }
      ]
    },
    {
      "cell_type": "markdown",
      "source": [
        "**Выводы:**\n",
        "\n",
        "Характеристики у легендарных покемонов значимо отличаются от характеристик нелегендарных покемонов. Значения p-значения для обоих случаев близки к нулю, что указывает на высокую вероятность того, что отличия в характеристиках не вызваны случайностью. Сумма характеристик HP, Attack и Defense у легендарных покемонов значимо выше, чем у нелегендарных покемонов. Произведение характеристик HP, Attack и Defense у легендарных покемонов также значимо выше, чем у нелегендарных покемонов. Эти результаты свидетельствуют о том, что легендарные покемоны обладают значительными преимуществами в характеристиках по сравнению с нелегендарными покемонами.\n"
      ],
      "metadata": {
        "id": "Y46lIpZieQ7Q"
      }
    },
    {
      "cell_type": "markdown",
      "metadata": {
        "id": "g9GwcheAGZwc"
      },
      "source": [
        "<div class=\"alert alert-info\">\n",
        "<b>Задание № 5:</b>\n",
        "    \n",
        "Профессор Оук частенько наблюдает за боями покемонов. После очередных таких боёв Оук выделил четыре класса `best_defence_class`, которые на его взгляд одинаковы по \"силе обычной защиты\" `Defense`.\n",
        "\n",
        "Проверьте, действительно ли эти классы покемонов не отличаются по уровню защиты статистически значимо? Всё та же статистика вам в помощь!\n",
        "   \n",
        "\n",
        "Вы можете предположить, что распределение параметров защитных характеристик является нормальным для всех классов покемонов.\n",
        "\n",
        "</div>"
      ]
    },
    {
      "cell_type": "code",
      "execution_count": null,
      "metadata": {
        "colab": {
          "base_uri": "https://localhost:8080/"
        },
        "id": "F0w6ipNBGZwd",
        "outputId": "bcc86b76-10d8-4a43-a8ab-3b6f66c515f2"
      },
      "outputs": [
        {
          "output_type": "execute_result",
          "data": {
            "text/plain": [
              "['Rock', 'Ground', 'Steel', 'Ice']"
            ]
          },
          "metadata": {},
          "execution_count": 59
        }
      ],
      "source": [
        "best_defence_class = ['Rock', 'Ground', 'Steel', 'Ice']\n",
        "best_defence_class"
      ]
    },
    {
      "cell_type": "code",
      "source": [
        "# Отфильтруем данные:\n",
        "condition = (pokemon[\"Class 1\"].isin(best_defence_class)) | (pokemon[\"Class 2\"].isin(best_defence_class))\n",
        "filtered_pokemon = pokemon[condition]\n",
        "\n",
        "# Создадим списки для каждого класса\n",
        "groups = []\n",
        "for class_name in best_defence_class:\n",
        "    condition = (filtered_pokemon[\"Class 1\"] == class_name) | (filtered_pokemon[\"Class 2\"] == class_name)\n",
        "    group_df = filtered_pokemon[condition]['Defense']\n",
        "    groups.append(group_df)\n",
        "\n",
        "# Проверим равенство дисперсий для подбора необходимого теста, используем тест Левена\n",
        "levene_result = levene(*groups)\n",
        "print(f'Тест Левена: Статистика={levene_result.statistic:.4f}, P-значение={levene_result.pvalue:.4f}')"
      ],
      "metadata": {
        "colab": {
          "base_uri": "https://localhost:8080/"
        },
        "id": "j3wfizYOkDFf",
        "outputId": "eef26c5e-4c04-40ba-99cc-f80e6f9c8fe7"
      },
      "execution_count": null,
      "outputs": [
        {
          "output_type": "stream",
          "name": "stdout",
          "text": [
            "Тест Левена: Статистика=0.4857, P-значение=0.6925\n"
          ]
        }
      ]
    },
    {
      "cell_type": "markdown",
      "source": [
        "Выводы по анализу дисперсий: значение статистики равно 0,4857, а соответствующее P-значение составляет 0,6925. Это означает, что различия между дисперсиями выборок не являются статистически значимыми (при стандартном уровне значимости 0,05). Таким образом, можно предположить, что дисперсии двух сравниваемых групп примерно равны.\n",
        "\n",
        "Для дальнешего анализа можно применить ANOVA. У нас есть нормальное распределение (указано в задании), гомогенность дисперсий, независимость наблюдений. Сформулируем гипотезы. Нулевая гипотеза: средние значения защитных характеристик для всех четырех классов одинаковы.Альтернативная гипотеза: по крайней мере одно среднее значение отличается от других.\n",
        "\n"
      ],
      "metadata": {
        "id": "WpN6GoEIlmct"
      }
    },
    {
      "cell_type": "code",
      "source": [
        "# Выполнение ANOVA-теста\n",
        "f_statistic, p_value = f_oneway(*groups)\n",
        "\n",
        "# Вывод результатов\n",
        "print(f\"F-статистика: {f_statistic:.4f}, p-значение: {p_value:.4f}\")"
      ],
      "metadata": {
        "colab": {
          "base_uri": "https://localhost:8080/"
        },
        "id": "tXxgKp-Xli0w",
        "outputId": "f5963348-da21-4fe9-c9ba-8169969cc66f"
      },
      "execution_count": null,
      "outputs": [
        {
          "output_type": "stream",
          "name": "stdout",
          "text": [
            "F-статистика: 10.8201, p-значение: 0.0000\n"
          ]
        }
      ]
    },
    {
      "cell_type": "markdown",
      "source": [
        "**Выводы:**\n",
        "\n",
        "F-статистика равна 10,8201, а p-значение равно 0,0000. Поскольку p-значение значительно ниже общепринятого уровня значимости, это указывает на то, что существует статистически значимое различие между средними значениями защитных характеристик (Defense) хотя бы одного из классов покемонов.Таким образом, предположение том, что все четыре класса покемонов имеют одинаковые уровни защиты, неверно. Мы отвергаем нулевую гипотезу."
      ],
      "metadata": {
        "id": "PMhdoVV_m2ih"
      }
    }
  ],
  "metadata": {
    "colab": {
      "provenance": [],
      "include_colab_link": true
    },
    "kernelspec": {
      "display_name": "Python 3",
      "language": "python",
      "name": "python3"
    },
    "language_info": {
      "codemirror_mode": {
        "name": "ipython",
        "version": 3
      },
      "file_extension": ".py",
      "mimetype": "text/x-python",
      "name": "python",
      "nbconvert_exporter": "python",
      "pygments_lexer": "ipython3",
      "version": "3.14.0"
    },
    "toc": {
      "base_numbering": 1,
      "nav_menu": {},
      "number_sections": true,
      "sideBar": true,
      "skip_h1_title": false,
      "title_cell": "Table of Contents",
      "title_sidebar": "Contents",
      "toc_cell": false,
      "toc_position": {},
      "toc_section_display": true,
      "toc_window_display": false
    }
  },
  "nbformat": 4,
  "nbformat_minor": 0
}