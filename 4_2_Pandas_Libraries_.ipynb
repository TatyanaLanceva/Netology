{
  "nbformat": 4,
  "nbformat_minor": 0,
  "metadata": {
    "colab": {
      "provenance": [],
      "authorship_tag": "ABX9TyMmPf6Cdu480QjWxcglcUku",
      "include_colab_link": true
    },
    "kernelspec": {
      "name": "python3",
      "display_name": "Python 3"
    },
    "language_info": {
      "name": "python"
    }
  },
  "cells": [
    {
      "cell_type": "markdown",
      "metadata": {
        "id": "view-in-github",
        "colab_type": "text"
      },
      "source": [
        "<a href=\"https://colab.research.google.com/github/TatyanaLanceva/Netology/blob/main/4_2_Pandas_Libraries_.ipynb\" target=\"_parent\"><img src=\"https://colab.research.google.com/assets/colab-badge.svg\" alt=\"Open In Colab\"/></a>"
      ]
    },
    {
      "cell_type": "markdown",
      "source": [
        "# Задание 1\n",
        "Определите, какому фильму было выставлено больше всего оценок 5.0."
      ],
      "metadata": {
        "id": "xZmaR4WK99vA"
      }
    },
    {
      "cell_type": "code",
      "source": [
        "# Загружаем библиотеке\n",
        "import pandas as pd\n",
        "import json\n",
        "import csv"
      ],
      "metadata": {
        "id": "1WRAo9DB-I-O"
      },
      "execution_count": null,
      "outputs": []
    },
    {
      "cell_type": "code",
      "source": [
        "# Чтение CSV-файла movies\n",
        "df_movies = pd.read_csv('movies.csv')\n",
        "# Просмотр первых пяти строк таблицы\n",
        "print(df_movies.head())\n",
        "print()\n",
        "df_movies.info()"
      ],
      "metadata": {
        "colab": {
          "base_uri": "https://localhost:8080/"
        },
        "id": "VTFK5nv1-6pl",
        "outputId": "04d9a3eb-b967-4fef-8721-58edfdc6f57b"
      },
      "execution_count": null,
      "outputs": [
        {
          "output_type": "stream",
          "name": "stdout",
          "text": [
            "   movieId                               title  \\\n",
            "0        1                    Toy Story (1995)   \n",
            "1        2                      Jumanji (1995)   \n",
            "2        3             Grumpier Old Men (1995)   \n",
            "3        4            Waiting to Exhale (1995)   \n",
            "4        5  Father of the Bride Part II (1995)   \n",
            "\n",
            "                                        genres  \n",
            "0  Adventure|Animation|Children|Comedy|Fantasy  \n",
            "1                   Adventure|Children|Fantasy  \n",
            "2                               Comedy|Romance  \n",
            "3                         Comedy|Drama|Romance  \n",
            "4                                       Comedy  \n",
            "\n",
            "<class 'pandas.core.frame.DataFrame'>\n",
            "RangeIndex: 9742 entries, 0 to 9741\n",
            "Data columns (total 3 columns):\n",
            " #   Column   Non-Null Count  Dtype \n",
            "---  ------   --------------  ----- \n",
            " 0   movieId  9742 non-null   int64 \n",
            " 1   title    9742 non-null   object\n",
            " 2   genres   9742 non-null   object\n",
            "dtypes: int64(1), object(2)\n",
            "memory usage: 228.5+ KB\n"
          ]
        }
      ]
    },
    {
      "cell_type": "code",
      "source": [
        "# Чтение CSV-файла ratings\n",
        "df_ratings = pd.read_csv('ratings.csv')\n",
        "# Просмотр первых пяти строк таблицы\n",
        "print(df_ratings.head())\n",
        "print()\n",
        "df_ratings.info()"
      ],
      "metadata": {
        "colab": {
          "base_uri": "https://localhost:8080/"
        },
        "id": "V4kfVIwj_H5M",
        "outputId": "b7196cd6-d4f7-48f2-beb5-7d0d10595ee9"
      },
      "execution_count": null,
      "outputs": [
        {
          "output_type": "stream",
          "name": "stdout",
          "text": [
            "   userId  movieId  rating  timestamp\n",
            "0       1        1     4.0  964982703\n",
            "1       1        3     4.0  964981247\n",
            "2       1        6     4.0  964982224\n",
            "3       1       47     5.0  964983815\n",
            "4       1       50     5.0  964982931\n",
            "\n",
            "<class 'pandas.core.frame.DataFrame'>\n",
            "RangeIndex: 100836 entries, 0 to 100835\n",
            "Data columns (total 4 columns):\n",
            " #   Column     Non-Null Count   Dtype  \n",
            "---  ------     --------------   -----  \n",
            " 0   userId     100836 non-null  int64  \n",
            " 1   movieId    100836 non-null  int64  \n",
            " 2   rating     100836 non-null  float64\n",
            " 3   timestamp  100836 non-null  int64  \n",
            "dtypes: float64(1), int64(3)\n",
            "memory usage: 3.1 MB\n"
          ]
        }
      ]
    },
    {
      "cell_type": "code",
      "source": [
        "# Объединим данные для получения общей информации\n",
        "\n",
        "# Слияние DataFrame\n",
        "\n",
        "joined = ratings_df.merge(movies_df, left_on='movieId', right_on='movieId', how='left')\n",
        "\n",
        "# Краткий просмотр\n",
        "\n",
        "joined.head()"
      ],
      "metadata": {
        "colab": {
          "base_uri": "https://localhost:8080/",
          "height": 231
        },
        "id": "GtS3iBQn_jWp",
        "outputId": "587ab497-d6ff-40ae-cb67-ef325320505c"
      },
      "execution_count": null,
      "outputs": [
        {
          "output_type": "error",
          "ename": "NameError",
          "evalue": "name 'ratings_df' is not defined",
          "traceback": [
            "\u001b[0;31m---------------------------------------------------------------------------\u001b[0m",
            "\u001b[0;31mNameError\u001b[0m                                 Traceback (most recent call last)",
            "\u001b[0;32m<ipython-input-2-449e81837d5d>\u001b[0m in \u001b[0;36m<cell line: 5>\u001b[0;34m()\u001b[0m\n\u001b[1;32m      3\u001b[0m \u001b[0;31m# Слияние DataFrame\u001b[0m\u001b[0;34m\u001b[0m\u001b[0;34m\u001b[0m\u001b[0m\n\u001b[1;32m      4\u001b[0m \u001b[0;34m\u001b[0m\u001b[0m\n\u001b[0;32m----> 5\u001b[0;31m \u001b[0mjoined\u001b[0m \u001b[0;34m=\u001b[0m \u001b[0mratings_df\u001b[0m\u001b[0;34m.\u001b[0m\u001b[0mmerge\u001b[0m\u001b[0;34m(\u001b[0m\u001b[0mmovies_df\u001b[0m\u001b[0;34m,\u001b[0m \u001b[0mleft_on\u001b[0m\u001b[0;34m=\u001b[0m\u001b[0;34m'movieId'\u001b[0m\u001b[0;34m,\u001b[0m \u001b[0mright_on\u001b[0m\u001b[0;34m=\u001b[0m\u001b[0;34m'movieId'\u001b[0m\u001b[0;34m,\u001b[0m \u001b[0mhow\u001b[0m\u001b[0;34m=\u001b[0m\u001b[0;34m'left'\u001b[0m\u001b[0;34m)\u001b[0m\u001b[0;34m\u001b[0m\u001b[0;34m\u001b[0m\u001b[0m\n\u001b[0m\u001b[1;32m      6\u001b[0m \u001b[0;34m\u001b[0m\u001b[0m\n\u001b[1;32m      7\u001b[0m \u001b[0;31m# Краткий просмотр\u001b[0m\u001b[0;34m\u001b[0m\u001b[0;34m\u001b[0m\u001b[0m\n",
            "\u001b[0;31mNameError\u001b[0m: name 'ratings_df' is not defined"
          ]
        }
      ]
    },
    {
      "cell_type": "code",
      "source": [
        "joined.info()"
      ],
      "metadata": {
        "colab": {
          "base_uri": "https://localhost:8080/"
        },
        "id": "3Rhy3sTDBTDg",
        "outputId": "93d1a418-d64b-4a1e-aa50-98a4d9957afe"
      },
      "execution_count": null,
      "outputs": [
        {
          "output_type": "stream",
          "name": "stdout",
          "text": [
            "<class 'pandas.core.frame.DataFrame'>\n",
            "RangeIndex: 100836 entries, 0 to 100835\n",
            "Data columns (total 6 columns):\n",
            " #   Column     Non-Null Count   Dtype  \n",
            "---  ------     --------------   -----  \n",
            " 0   userId     100836 non-null  int64  \n",
            " 1   movieId    100836 non-null  int64  \n",
            " 2   rating     100836 non-null  float64\n",
            " 3   timestamp  100836 non-null  int64  \n",
            " 4   title      100836 non-null  object \n",
            " 5   genres     100836 non-null  object \n",
            "dtypes: float64(1), int64(3), object(2)\n",
            "memory usage: 4.6+ MB\n"
          ]
        }
      ]
    },
    {
      "cell_type": "code",
      "source": [
        "# Выберем фильмы только с оценкой 5, краткий просмотр\n",
        "\n",
        "joined_5 = joined[joined['rating'] == 5.0]\n",
        "joined_5.head(-5)"
      ],
      "metadata": {
        "colab": {
          "base_uri": "https://localhost:8080/",
          "height": 424
        },
        "id": "ni5Q5OiRbeXB",
        "outputId": "902822a9-0627-43b3-875c-a1a7ddc3c828"
      },
      "execution_count": null,
      "outputs": [
        {
          "output_type": "execute_result",
          "data": {
            "text/plain": [
              "        userId  movieId  rating   timestamp  \\\n",
              "3            1       47     5.0   964983815   \n",
              "4            1       50     5.0   964982931   \n",
              "6            1      101     5.0   964980868   \n",
              "8            1      151     5.0   964984041   \n",
              "9            1      157     5.0   964984100   \n",
              "...        ...      ...     ...         ...   \n",
              "100736     610   121231     5.0  1493848188   \n",
              "100737     610   122882     5.0  1493845444   \n",
              "100743     610   122920     5.0  1493845626   \n",
              "100779     610   138632     5.0  1479545420   \n",
              "100811     610   156371     5.0  1479542831   \n",
              "\n",
              "                                    title                            genres  \n",
              "3             Seven (a.k.a. Se7en) (1995)                  Mystery|Thriller  \n",
              "4              Usual Suspects, The (1995)            Crime|Mystery|Thriller  \n",
              "6                    Bottle Rocket (1996)    Adventure|Comedy|Crime|Romance  \n",
              "8                          Rob Roy (1995)          Action|Drama|Romance|War  \n",
              "9                   Canadian Bacon (1995)                        Comedy|War  \n",
              "...                                   ...                               ...  \n",
              "100736                  It Follows (2014)                            Horror  \n",
              "100737          Mad Max: Fury Road (2015)  Action|Adventure|Sci-Fi|Thriller  \n",
              "100743  Captain America: Civil War (2016)            Action|Sci-Fi|Thriller  \n",
              "100779                 Tokyo Tribe (2014)         Action|Crime|Drama|Sci-Fi  \n",
              "100811        Everybody Wants Some (2016)                            Comedy  \n",
              "\n",
              "[13206 rows x 6 columns]"
            ],
            "text/html": [
              "\n",
              "  <div id=\"df-cfabfa07-4619-4b32-8293-775f2be029cd\" class=\"colab-df-container\">\n",
              "    <div>\n",
              "<style scoped>\n",
              "    .dataframe tbody tr th:only-of-type {\n",
              "        vertical-align: middle;\n",
              "    }\n",
              "\n",
              "    .dataframe tbody tr th {\n",
              "        vertical-align: top;\n",
              "    }\n",
              "\n",
              "    .dataframe thead th {\n",
              "        text-align: right;\n",
              "    }\n",
              "</style>\n",
              "<table border=\"1\" class=\"dataframe\">\n",
              "  <thead>\n",
              "    <tr style=\"text-align: right;\">\n",
              "      <th></th>\n",
              "      <th>userId</th>\n",
              "      <th>movieId</th>\n",
              "      <th>rating</th>\n",
              "      <th>timestamp</th>\n",
              "      <th>title</th>\n",
              "      <th>genres</th>\n",
              "    </tr>\n",
              "  </thead>\n",
              "  <tbody>\n",
              "    <tr>\n",
              "      <th>3</th>\n",
              "      <td>1</td>\n",
              "      <td>47</td>\n",
              "      <td>5.0</td>\n",
              "      <td>964983815</td>\n",
              "      <td>Seven (a.k.a. Se7en) (1995)</td>\n",
              "      <td>Mystery|Thriller</td>\n",
              "    </tr>\n",
              "    <tr>\n",
              "      <th>4</th>\n",
              "      <td>1</td>\n",
              "      <td>50</td>\n",
              "      <td>5.0</td>\n",
              "      <td>964982931</td>\n",
              "      <td>Usual Suspects, The (1995)</td>\n",
              "      <td>Crime|Mystery|Thriller</td>\n",
              "    </tr>\n",
              "    <tr>\n",
              "      <th>6</th>\n",
              "      <td>1</td>\n",
              "      <td>101</td>\n",
              "      <td>5.0</td>\n",
              "      <td>964980868</td>\n",
              "      <td>Bottle Rocket (1996)</td>\n",
              "      <td>Adventure|Comedy|Crime|Romance</td>\n",
              "    </tr>\n",
              "    <tr>\n",
              "      <th>8</th>\n",
              "      <td>1</td>\n",
              "      <td>151</td>\n",
              "      <td>5.0</td>\n",
              "      <td>964984041</td>\n",
              "      <td>Rob Roy (1995)</td>\n",
              "      <td>Action|Drama|Romance|War</td>\n",
              "    </tr>\n",
              "    <tr>\n",
              "      <th>9</th>\n",
              "      <td>1</td>\n",
              "      <td>157</td>\n",
              "      <td>5.0</td>\n",
              "      <td>964984100</td>\n",
              "      <td>Canadian Bacon (1995)</td>\n",
              "      <td>Comedy|War</td>\n",
              "    </tr>\n",
              "    <tr>\n",
              "      <th>...</th>\n",
              "      <td>...</td>\n",
              "      <td>...</td>\n",
              "      <td>...</td>\n",
              "      <td>...</td>\n",
              "      <td>...</td>\n",
              "      <td>...</td>\n",
              "    </tr>\n",
              "    <tr>\n",
              "      <th>100736</th>\n",
              "      <td>610</td>\n",
              "      <td>121231</td>\n",
              "      <td>5.0</td>\n",
              "      <td>1493848188</td>\n",
              "      <td>It Follows (2014)</td>\n",
              "      <td>Horror</td>\n",
              "    </tr>\n",
              "    <tr>\n",
              "      <th>100737</th>\n",
              "      <td>610</td>\n",
              "      <td>122882</td>\n",
              "      <td>5.0</td>\n",
              "      <td>1493845444</td>\n",
              "      <td>Mad Max: Fury Road (2015)</td>\n",
              "      <td>Action|Adventure|Sci-Fi|Thriller</td>\n",
              "    </tr>\n",
              "    <tr>\n",
              "      <th>100743</th>\n",
              "      <td>610</td>\n",
              "      <td>122920</td>\n",
              "      <td>5.0</td>\n",
              "      <td>1493845626</td>\n",
              "      <td>Captain America: Civil War (2016)</td>\n",
              "      <td>Action|Sci-Fi|Thriller</td>\n",
              "    </tr>\n",
              "    <tr>\n",
              "      <th>100779</th>\n",
              "      <td>610</td>\n",
              "      <td>138632</td>\n",
              "      <td>5.0</td>\n",
              "      <td>1479545420</td>\n",
              "      <td>Tokyo Tribe (2014)</td>\n",
              "      <td>Action|Crime|Drama|Sci-Fi</td>\n",
              "    </tr>\n",
              "    <tr>\n",
              "      <th>100811</th>\n",
              "      <td>610</td>\n",
              "      <td>156371</td>\n",
              "      <td>5.0</td>\n",
              "      <td>1479542831</td>\n",
              "      <td>Everybody Wants Some (2016)</td>\n",
              "      <td>Comedy</td>\n",
              "    </tr>\n",
              "  </tbody>\n",
              "</table>\n",
              "<p>13206 rows × 6 columns</p>\n",
              "</div>\n",
              "    <div class=\"colab-df-buttons\">\n",
              "\n",
              "  <div class=\"colab-df-container\">\n",
              "    <button class=\"colab-df-convert\" onclick=\"convertToInteractive('df-cfabfa07-4619-4b32-8293-775f2be029cd')\"\n",
              "            title=\"Convert this dataframe to an interactive table.\"\n",
              "            style=\"display:none;\">\n",
              "\n",
              "  <svg xmlns=\"http://www.w3.org/2000/svg\" height=\"24px\" viewBox=\"0 -960 960 960\">\n",
              "    <path d=\"M120-120v-720h720v720H120Zm60-500h600v-160H180v160Zm220 220h160v-160H400v160Zm0 220h160v-160H400v160ZM180-400h160v-160H180v160Zm440 0h160v-160H620v160ZM180-180h160v-160H180v160Zm440 0h160v-160H620v160Z\"/>\n",
              "  </svg>\n",
              "    </button>\n",
              "\n",
              "  <style>\n",
              "    .colab-df-container {\n",
              "      display:flex;\n",
              "      gap: 12px;\n",
              "    }\n",
              "\n",
              "    .colab-df-convert {\n",
              "      background-color: #E8F0FE;\n",
              "      border: none;\n",
              "      border-radius: 50%;\n",
              "      cursor: pointer;\n",
              "      display: none;\n",
              "      fill: #1967D2;\n",
              "      height: 32px;\n",
              "      padding: 0 0 0 0;\n",
              "      width: 32px;\n",
              "    }\n",
              "\n",
              "    .colab-df-convert:hover {\n",
              "      background-color: #E2EBFA;\n",
              "      box-shadow: 0px 1px 2px rgba(60, 64, 67, 0.3), 0px 1px 3px 1px rgba(60, 64, 67, 0.15);\n",
              "      fill: #174EA6;\n",
              "    }\n",
              "\n",
              "    .colab-df-buttons div {\n",
              "      margin-bottom: 4px;\n",
              "    }\n",
              "\n",
              "    [theme=dark] .colab-df-convert {\n",
              "      background-color: #3B4455;\n",
              "      fill: #D2E3FC;\n",
              "    }\n",
              "\n",
              "    [theme=dark] .colab-df-convert:hover {\n",
              "      background-color: #434B5C;\n",
              "      box-shadow: 0px 1px 3px 1px rgba(0, 0, 0, 0.15);\n",
              "      filter: drop-shadow(0px 1px 2px rgba(0, 0, 0, 0.3));\n",
              "      fill: #FFFFFF;\n",
              "    }\n",
              "  </style>\n",
              "\n",
              "    <script>\n",
              "      const buttonEl =\n",
              "        document.querySelector('#df-cfabfa07-4619-4b32-8293-775f2be029cd button.colab-df-convert');\n",
              "      buttonEl.style.display =\n",
              "        google.colab.kernel.accessAllowed ? 'block' : 'none';\n",
              "\n",
              "      async function convertToInteractive(key) {\n",
              "        const element = document.querySelector('#df-cfabfa07-4619-4b32-8293-775f2be029cd');\n",
              "        const dataTable =\n",
              "          await google.colab.kernel.invokeFunction('convertToInteractive',\n",
              "                                                    [key], {});\n",
              "        if (!dataTable) return;\n",
              "\n",
              "        const docLinkHtml = 'Like what you see? Visit the ' +\n",
              "          '<a target=\"_blank\" href=https://colab.research.google.com/notebooks/data_table.ipynb>data table notebook</a>'\n",
              "          + ' to learn more about interactive tables.';\n",
              "        element.innerHTML = '';\n",
              "        dataTable['output_type'] = 'display_data';\n",
              "        await google.colab.output.renderOutput(dataTable, element);\n",
              "        const docLink = document.createElement('div');\n",
              "        docLink.innerHTML = docLinkHtml;\n",
              "        element.appendChild(docLink);\n",
              "      }\n",
              "    </script>\n",
              "  </div>\n",
              "\n",
              "\n",
              "<div id=\"df-978a2d86-9972-4a98-8220-29588f8a76b1\">\n",
              "  <button class=\"colab-df-quickchart\" onclick=\"quickchart('df-978a2d86-9972-4a98-8220-29588f8a76b1')\"\n",
              "            title=\"Suggest charts\"\n",
              "            style=\"display:none;\">\n",
              "\n",
              "<svg xmlns=\"http://www.w3.org/2000/svg\" height=\"24px\"viewBox=\"0 0 24 24\"\n",
              "     width=\"24px\">\n",
              "    <g>\n",
              "        <path d=\"M19 3H5c-1.1 0-2 .9-2 2v14c0 1.1.9 2 2 2h14c1.1 0 2-.9 2-2V5c0-1.1-.9-2-2-2zM9 17H7v-7h2v7zm4 0h-2V7h2v10zm4 0h-2v-4h2v4z\"/>\n",
              "    </g>\n",
              "</svg>\n",
              "  </button>\n",
              "\n",
              "<style>\n",
              "  .colab-df-quickchart {\n",
              "      --bg-color: #E8F0FE;\n",
              "      --fill-color: #1967D2;\n",
              "      --hover-bg-color: #E2EBFA;\n",
              "      --hover-fill-color: #174EA6;\n",
              "      --disabled-fill-color: #AAA;\n",
              "      --disabled-bg-color: #DDD;\n",
              "  }\n",
              "\n",
              "  [theme=dark] .colab-df-quickchart {\n",
              "      --bg-color: #3B4455;\n",
              "      --fill-color: #D2E3FC;\n",
              "      --hover-bg-color: #434B5C;\n",
              "      --hover-fill-color: #FFFFFF;\n",
              "      --disabled-bg-color: #3B4455;\n",
              "      --disabled-fill-color: #666;\n",
              "  }\n",
              "\n",
              "  .colab-df-quickchart {\n",
              "    background-color: var(--bg-color);\n",
              "    border: none;\n",
              "    border-radius: 50%;\n",
              "    cursor: pointer;\n",
              "    display: none;\n",
              "    fill: var(--fill-color);\n",
              "    height: 32px;\n",
              "    padding: 0;\n",
              "    width: 32px;\n",
              "  }\n",
              "\n",
              "  .colab-df-quickchart:hover {\n",
              "    background-color: var(--hover-bg-color);\n",
              "    box-shadow: 0 1px 2px rgba(60, 64, 67, 0.3), 0 1px 3px 1px rgba(60, 64, 67, 0.15);\n",
              "    fill: var(--button-hover-fill-color);\n",
              "  }\n",
              "\n",
              "  .colab-df-quickchart-complete:disabled,\n",
              "  .colab-df-quickchart-complete:disabled:hover {\n",
              "    background-color: var(--disabled-bg-color);\n",
              "    fill: var(--disabled-fill-color);\n",
              "    box-shadow: none;\n",
              "  }\n",
              "\n",
              "  .colab-df-spinner {\n",
              "    border: 2px solid var(--fill-color);\n",
              "    border-color: transparent;\n",
              "    border-bottom-color: var(--fill-color);\n",
              "    animation:\n",
              "      spin 1s steps(1) infinite;\n",
              "  }\n",
              "\n",
              "  @keyframes spin {\n",
              "    0% {\n",
              "      border-color: transparent;\n",
              "      border-bottom-color: var(--fill-color);\n",
              "      border-left-color: var(--fill-color);\n",
              "    }\n",
              "    20% {\n",
              "      border-color: transparent;\n",
              "      border-left-color: var(--fill-color);\n",
              "      border-top-color: var(--fill-color);\n",
              "    }\n",
              "    30% {\n",
              "      border-color: transparent;\n",
              "      border-left-color: var(--fill-color);\n",
              "      border-top-color: var(--fill-color);\n",
              "      border-right-color: var(--fill-color);\n",
              "    }\n",
              "    40% {\n",
              "      border-color: transparent;\n",
              "      border-right-color: var(--fill-color);\n",
              "      border-top-color: var(--fill-color);\n",
              "    }\n",
              "    60% {\n",
              "      border-color: transparent;\n",
              "      border-right-color: var(--fill-color);\n",
              "    }\n",
              "    80% {\n",
              "      border-color: transparent;\n",
              "      border-right-color: var(--fill-color);\n",
              "      border-bottom-color: var(--fill-color);\n",
              "    }\n",
              "    90% {\n",
              "      border-color: transparent;\n",
              "      border-bottom-color: var(--fill-color);\n",
              "    }\n",
              "  }\n",
              "</style>\n",
              "\n",
              "  <script>\n",
              "    async function quickchart(key) {\n",
              "      const quickchartButtonEl =\n",
              "        document.querySelector('#' + key + ' button');\n",
              "      quickchartButtonEl.disabled = true;  // To prevent multiple clicks.\n",
              "      quickchartButtonEl.classList.add('colab-df-spinner');\n",
              "      try {\n",
              "        const charts = await google.colab.kernel.invokeFunction(\n",
              "            'suggestCharts', [key], {});\n",
              "      } catch (error) {\n",
              "        console.error('Error during call to suggestCharts:', error);\n",
              "      }\n",
              "      quickchartButtonEl.classList.remove('colab-df-spinner');\n",
              "      quickchartButtonEl.classList.add('colab-df-quickchart-complete');\n",
              "    }\n",
              "    (() => {\n",
              "      let quickchartButtonEl =\n",
              "        document.querySelector('#df-978a2d86-9972-4a98-8220-29588f8a76b1 button');\n",
              "      quickchartButtonEl.style.display =\n",
              "        google.colab.kernel.accessAllowed ? 'block' : 'none';\n",
              "    })();\n",
              "  </script>\n",
              "</div>\n",
              "    </div>\n",
              "  </div>\n"
            ],
            "application/vnd.google.colaboratory.intrinsic+json": {
              "type": "dataframe",
              "variable_name": "joined_5",
              "summary": "{\n  \"name\": \"joined_5\",\n  \"rows\": 13211,\n  \"fields\": [\n    {\n      \"column\": \"userId\",\n      \"properties\": {\n        \"dtype\": \"number\",\n        \"std\": 184,\n        \"min\": 1,\n        \"max\": 610,\n        \"num_unique_values\": 573,\n        \"samples\": [\n          548,\n          77,\n          144\n        ],\n        \"semantic_type\": \"\",\n        \"description\": \"\"\n      }\n    },\n    {\n      \"column\": \"movieId\",\n      \"properties\": {\n        \"dtype\": \"number\",\n        \"std\": 33521,\n        \"min\": 1,\n        \"max\": 187717,\n        \"num_unique_values\": 2954,\n        \"samples\": [\n          2007,\n          80124,\n          2186\n        ],\n        \"semantic_type\": \"\",\n        \"description\": \"\"\n      }\n    },\n    {\n      \"column\": \"rating\",\n      \"properties\": {\n        \"dtype\": \"number\",\n        \"std\": 0.0,\n        \"min\": 5.0,\n        \"max\": 5.0,\n        \"num_unique_values\": 1,\n        \"samples\": [\n          5.0\n        ],\n        \"semantic_type\": \"\",\n        \"description\": \"\"\n      }\n    },\n    {\n      \"column\": \"timestamp\",\n      \"properties\": {\n        \"dtype\": \"number\",\n        \"std\": 233608191,\n        \"min\": 828124615,\n        \"max\": 1537632257,\n        \"num_unique_values\": 11511,\n        \"samples\": [\n          1430616951\n        ],\n        \"semantic_type\": \"\",\n        \"description\": \"\"\n      }\n    },\n    {\n      \"column\": \"title\",\n      \"properties\": {\n        \"dtype\": \"category\",\n        \"num_unique_values\": 2954,\n        \"samples\": [\n          \"Polish Wedding (1998)\"\n        ],\n        \"semantic_type\": \"\",\n        \"description\": \"\"\n      }\n    },\n    {\n      \"column\": \"genres\",\n      \"properties\": {\n        \"dtype\": \"category\",\n        \"num_unique_values\": 560,\n        \"samples\": [\n          \"Drama|Fantasy|Horror|Thriller\"\n        ],\n        \"semantic_type\": \"\",\n        \"description\": \"\"\n      }\n    }\n  ]\n}"
            }
          },
          "metadata": {},
          "execution_count": 190
        }
      ]
    },
    {
      "cell_type": "code",
      "source": [
        "# Посчитаем количество 5.0 для каждого фильма:\n",
        "\n",
        "counts = filtered_df.groupby('title')['rating'].count()\n",
        "\n",
        "# Найдем фильм с максимальным количеством оценок 5.0:\n",
        "most_rated_film = counts.idxmax()\n",
        "\n",
        "# Вывод результата\n",
        "print(f'Фильм с наибольшим количеством оценок 5.0: {most_rated_film}.')"
      ],
      "metadata": {
        "colab": {
          "base_uri": "https://localhost:8080/"
        },
        "id": "54KCllkhcI1P",
        "outputId": "66cb1e09-c0df-408e-e1d9-205fdb94fec6"
      },
      "execution_count": null,
      "outputs": [
        {
          "output_type": "stream",
          "name": "stdout",
          "text": [
            "Фильм с наибольшим количеством оценок 5.0: Shawshank Redemption, The (1994).\n"
          ]
        }
      ]
    },
    {
      "cell_type": "markdown",
      "source": [
        "# Задание 2\n",
        "\n",
        "По данным файла power.csv посчитайте суммарное потребление стран Прибалтики (Латвия, Литва и Эстония) категорий 4, 12 и 21 за период с 2005 по 2010 год. Не учитывайте в расчётах отрицательные значения quantity."
      ],
      "metadata": {
        "id": "RtH3-H2Hc3nJ"
      }
    },
    {
      "cell_type": "code",
      "source": [
        "# Чтение CSV-файла movies\n",
        "power = pd.read_csv('power.csv')\n",
        "# Просмотр первых пяти строк таблицы\n",
        "print(power.head())\n",
        "print()\n",
        "power.info()"
      ],
      "metadata": {
        "colab": {
          "base_uri": "https://localhost:8080/"
        },
        "id": "H67ihRs2e0YC",
        "outputId": "b855d4b7-5116-48a8-a3be-785a36ce2207"
      },
      "execution_count": null,
      "outputs": [
        {
          "output_type": "stream",
          "name": "stdout",
          "text": [
            "   country  year  quantity  category\n",
            "0  Austria  1996       5.0         1\n",
            "1  Austria  1995      17.0         1\n",
            "2  Belgium  2014       0.0         1\n",
            "3  Belgium  2013       0.0         1\n",
            "4  Belgium  2012      35.0         1\n",
            "\n",
            "<class 'pandas.core.frame.DataFrame'>\n",
            "RangeIndex: 1189482 entries, 0 to 1189481\n",
            "Data columns (total 4 columns):\n",
            " #   Column    Non-Null Count    Dtype  \n",
            "---  ------    --------------    -----  \n",
            " 0   country   1189482 non-null  object \n",
            " 1   year      1189482 non-null  int64  \n",
            " 2   quantity  1189482 non-null  float64\n",
            " 3   category  1189482 non-null  int64  \n",
            "dtypes: float64(1), int64(2), object(1)\n",
            "memory usage: 36.3+ MB\n"
          ]
        }
      ]
    },
    {
      "cell_type": "code",
      "source": [
        "# Настроим фильтр по заданным критериям:\n",
        "# Страны: Латвия, Литва и Эстония\n",
        "# Категорий 4, 12 и 21\n",
        "# Годы с 2005 по 2010\n",
        "# Отрицательные значения quantity исключаем.\n",
        "\n",
        "filtred_countries = df_power[\n",
        "\n",
        "    ((df_power['country'] == 'Latvia') |\n",
        "     (df_power['country'] == 'Lithuania') |\n",
        "     (df_power['country'] == 'Estonia')) &\n",
        "\n",
        "    ((df_power['category'] == 4) |\n",
        "     (df_power['category'] == 12) |\n",
        "     (df_power['category'] == 21)) &\n",
        "\n",
        "    ((df_power['year'] >= 2005) &\n",
        "     (df_power['year'] <= 2010) &\n",
        "\n",
        "     (df_power['quantity'] >= 0)\n",
        "     )\n",
        "]\n",
        "\n",
        "print(filtred_countries.head(-5))\n"
      ],
      "metadata": {
        "colab": {
          "base_uri": "https://localhost:8080/"
        },
        "id": "WoJJOLM3hj3s",
        "outputId": "14f5ae27-889d-4694-a480-c05a99de33f7"
      },
      "execution_count": null,
      "outputs": [
        {
          "output_type": "stream",
          "name": "stdout",
          "text": [
            "          country  year  quantity  category\n",
            "10617     Estonia  2008       1.0         4\n",
            "10618     Estonia  2007       0.0         4\n",
            "10619     Estonia  2006       0.0         4\n",
            "10620     Estonia  2005       1.0         4\n",
            "11156   Lithuania  2008       1.0         4\n",
            "...           ...   ...       ...       ...\n",
            "253964     Latvia  2008      28.0        21\n",
            "253965     Latvia  2007      26.0        21\n",
            "253966     Latvia  2006      27.0        21\n",
            "253967     Latvia  2005      27.0        21\n",
            "253981  Lithuania  2010     133.0        21\n",
            "\n",
            "[403 rows x 4 columns]\n"
          ]
        }
      ]
    },
    {
      "cell_type": "code",
      "source": [
        "# Посчитаем суммарное потребление стран из выборки:\n",
        "\n",
        "rounded_quantity_sum = round(quantity_sum)\n",
        "print(f'Суммарное потребление стран: {rounded_quantity_sum}.')"
      ],
      "metadata": {
        "colab": {
          "base_uri": "https://localhost:8080/"
        },
        "id": "AFUT8x-z5m8X",
        "outputId": "a2463e95-2c65-4c68-c0de-52b561dc376a"
      },
      "execution_count": null,
      "outputs": [
        {
          "output_type": "stream",
          "name": "stdout",
          "text": [
            "Суммарное потребление стран: 240580.\n"
          ]
        }
      ]
    },
    {
      "cell_type": "markdown",
      "source": [
        "# Задание 3\n",
        "\n",
        "Выберите страницу любого сайта с табличными данными. Импортируйте таблицы в pandas DataFrame.\n",
        "\n",
        "Выбран сайт с котировками корпоративных облигаций:\n",
        "\n",
        "https://mfd.ru/marketdata/?id=5&mode=3&group=17&ysclid=m3rdtwrl2g28607139\n"
      ],
      "metadata": {
        "id": "KRPkcSNO680F"
      }
    },
    {
      "cell_type": "code",
      "source": [
        "# Указываем URL страницы\n",
        "\n",
        "url = 'https://mfd.ru/marketdata/?id=5&mode=3&group=17&ysclid=m3rdtwrl2g28607139'\n",
        "\n",
        "# Читаем таблицы, выводим:\n",
        "tables = pd.read_html(url)\n",
        "table = tables[0]\n",
        "\n",
        "# Выводим первые несколько строк выбранной таблицы\n",
        "print(table.head(-5))\n"
      ],
      "metadata": {
        "colab": {
          "base_uri": "https://localhost:8080/"
        },
        "id": "Ye90dNOBAifO",
        "outputId": "82298e85-b7b0-4e36-a90f-ef2c51951583"
      },
      "execution_count": null,
      "outputs": [
        {
          "output_type": "stream",
          "name": "stdout",
          "text": [
            "           Тикер     Время   Цена                                            \\\n",
            "           Тикер     Время сделки сделки.1 сделки.2 пред закр   откр    мин   \n",
            "0         AAG-01  16:44:06  97.59    −0.16   −0.16%     97.75  97.73  97.02   \n",
            "1     AGROFRGT01  16:45:03   85.3    −1.14   −1.32%     86.44  92.29  84.82   \n",
            "2     ANTERRA-02  16:44:33  83.86    +0.67   +0.81%     83.19   83.2     83   \n",
            "3         BLR-27       NaN    NaN      NaN      NaN       NaN    NaN    NaN   \n",
            "4         BLR-30       NaN    NaN      NaN      NaN       NaN    NaN    NaN   \n",
            "...          ...       ...    ...      ...      ...       ...    ...    ...   \n",
            "2337  ЯрОбл35016  16:44:06  95.21     +0.1   +0.11%     95.11  96.01  95.21   \n",
            "2338  ЯрОбл35017  16:44:06  96.89    −0.07   −0.07%     96.96  96.89  96.89   \n",
            "2339  ЯрОбл35018  16:44:49  82.56        0       0%     82.56  82.89  82.56   \n",
            "2340   ЯТЭК 1P-2  16:44:06  95.03    −0.21   −0.22%     95.24   95.1  94.51   \n",
            "2341   ЯТЭК 1P-3  16:45:01  96.58    +0.03   +0.03%     96.55  96.41  96.01   \n",
            "\n",
            "                   Объем за день            Кол-во сделок  \n",
            "       макс  срвзв            шт        руб Кол-во сделок  \n",
            "0     97.74  97.15           243    236 079            56  \n",
            "1     92.29  87.22           614    535 533           107  \n",
            "2     83.86   83.3           925    770 512            95  \n",
            "3       NaN    NaN           NaN        NaN           NaN  \n",
            "4       NaN    NaN           NaN        NaN           NaN  \n",
            "...     ...    ...           ...        ...           ...  \n",
            "2337  96.01   95.7             4      1 531             4  \n",
            "2338  96.89  96.89             1        242             1  \n",
            "2339  82.89  82.57            57     18 826            11  \n",
            "2340  95.15  95.02         3 206  1 218 551           150  \n",
            "2341  96.69  96.45         2 586  2 494 089           122  \n",
            "\n",
            "[2342 rows x 13 columns]\n"
          ]
        }
      ]
    },
    {
      "cell_type": "code",
      "source": [
        "# Выведем информацию по таблице:\n",
        "\n",
        "table.info()"
      ],
      "metadata": {
        "colab": {
          "base_uri": "https://localhost:8080/"
        },
        "id": "cgk6ItTCDVv_",
        "outputId": "74c17b81-b004-4032-8eeb-4087f25b61c1"
      },
      "execution_count": null,
      "outputs": [
        {
          "output_type": "stream",
          "name": "stdout",
          "text": [
            "<class 'pandas.core.frame.DataFrame'>\n",
            "RangeIndex: 2347 entries, 0 to 2346\n",
            "Data columns (total 13 columns):\n",
            " #   Column                          Non-Null Count  Dtype \n",
            "---  ------                          --------------  ----- \n",
            " 0   (Тикер, Тикер)                  2346 non-null   object\n",
            " 1   (Время, Время)                  2321 non-null   object\n",
            " 2   (Цена, сделки)                  1405 non-null   object\n",
            " 3   (Цена, сделки.1)                1403 non-null   object\n",
            " 4   (Цена, сделки.2)                1403 non-null   object\n",
            " 5   (Цена, пред закр)               2030 non-null   object\n",
            " 6   (Цена, откр)                    1405 non-null   object\n",
            " 7   (Цена, мин)                     1405 non-null   object\n",
            " 8   (Цена, макс)                    1405 non-null   object\n",
            " 9   (Цена, срвзв)                   1421 non-null   object\n",
            " 10  (Объем за день, шт)             2319 non-null   object\n",
            " 11  (Объем за день, руб)            2319 non-null   object\n",
            " 12  (Кол-во сделок, Кол-во сделок)  2319 non-null   object\n",
            "dtypes: object(13)\n",
            "memory usage: 238.5+ KB\n"
          ]
        }
      ]
    }
  ]
}